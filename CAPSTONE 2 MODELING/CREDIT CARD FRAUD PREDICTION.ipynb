{
 "cells": [
  {
   "cell_type": "markdown",
   "id": "fe1074dc",
   "metadata": {},
   "source": [
    "# CAN WE EFFICIENTLY PREDICT CREDIT CARD FRAUD?"
   ]
  },
  {
   "cell_type": "markdown",
   "id": "48f61205",
   "metadata": {},
   "source": [
    "Capstone 2 Modeling\n",
    "\n",
    "Introduction\n",
    "\n",
    "Problem Identification\n",
    "\n",
    "Data\n",
    "\n",
    "Processing the Data\n",
    "\n",
    "EDA\n",
    "\n",
    "Modeling\n",
    "\n",
    "Conclusions\n",
    "\n"
   ]
  },
  {
   "cell_type": "markdown",
   "id": "6dd7bb21",
   "metadata": {},
   "source": [
    "# INTRODUCTION & PROBLEM IDENTIFICATION\n",
    "    \n",
    "    Per The Washington Post, \"data shows fraud losses in Europe increased 6.2 percent to $2.1 billion in 2013\".  \n",
    "    The reality is that credit card thieves and fraudsters are hard to catch.  For those that are caught they don't usually have the funds necessary to pay back the costs that they have incurred. \n",
    "\n",
    "    Can we help prevent fraud with predictive modelling for credit card fraud detection using data analytics?\n",
    "    In this capstone, we will attempt to create such model."
   ]
  },
  {
   "cell_type": "markdown",
   "id": "6f3c79a4",
   "metadata": {},
   "source": [
    "# DATA & PROCESSING THE DATA\n",
    "\n",
    "Dataset is from Kaggle with European dataset from 2013.\n",
    "https://www.kaggle.com/datasets/mlg-ulb/creditcardfraud"
   ]
  },
  {
   "cell_type": "code",
   "execution_count": 1,
   "id": "30f67cd9",
   "metadata": {},
   "outputs": [
    {
     "data": {
      "text/html": [
       "        <script type=\"text/javascript\">\n",
       "        window.PlotlyConfig = {MathJaxConfig: 'local'};\n",
       "        if (window.MathJax) {MathJax.Hub.Config({SVG: {font: \"STIX-Web\"}});}\n",
       "        if (typeof require !== 'undefined') {\n",
       "        require.undef(\"plotly\");\n",
       "        requirejs.config({\n",
       "            paths: {\n",
       "                'plotly': ['https://cdn.plot.ly/plotly-2.9.0.min']\n",
       "            }\n",
       "        });\n",
       "        require(['plotly'], function(Plotly) {\n",
       "            window._Plotly = Plotly;\n",
       "        });\n",
       "        }\n",
       "        </script>\n",
       "        "
      ]
     },
     "metadata": {},
     "output_type": "display_data"
    }
   ],
   "source": [
    "import pandas as pd \n",
    "import numpy as np\n",
    "import matplotlib\n",
    "import matplotlib.pyplot as plt\n",
    "import seaborn as sns\n",
    "%matplotlib inline \n",
    "import plotly.graph_objs as go\n",
    "import plotly.figure_factory as ff\n",
    "from plotly import tools\n",
    "from plotly.offline import download_plotlyjs, init_notebook_mode, plot, iplot\n",
    "init_notebook_mode(connected=True)\n",
    "\n",
    "\n",
    "import gc\n",
    "from datetime import datetime \n",
    "from sklearn.model_selection import train_test_split\n",
    "from sklearn.model_selection import KFold\n",
    "from sklearn.metrics import roc_auc_score\n",
    "from sklearn.linear_model import LogisticRegression\n",
    "from sklearn.ensemble import RandomForestClassifier\n",
    "from sklearn.ensemble import AdaBoostClassifier\n",
    "from catboost import CatBoostClassifier\n",
    "from sklearn import svm\n",
    "import lightgbm as lgb\n",
    "from lightgbm import LGBMClassifier\n",
    "import xgboost as xgb\n",
    "\n",
    "pd.set_option('display.max_columns', 100)\n",
    "\n",
    "\n",
    "\n",
    "\n",
    "\n",
    "\n",
    "\n",
    "\n",
    "#TRAIN/VALIDATION/TEST SPLIT\n",
    "#VALIDATION\n",
    "VALID_SIZE = 0.20 # simple validation using train_test_split\n",
    "TEST_SIZE = 0.20 # test size using_train_test_split\n",
    "\n",
    "#CROSS-VALIDATION\n",
    "NUMBER_KFOLDS = 5 #number of KFolds for cross-validation\n",
    "\n",
    "\n",
    "\n",
    "\n",
    "\n",
    "# lgb iterations\n",
    "MAX_ROUNDS = 1000 \n",
    "# lgb early stop \n",
    "EARLY_STOP = 50 \n",
    "# To be adjusted based on best validation rounds\n",
    "OPT_ROUNDS = 1000  \n",
    "# Print out metric result\n",
    "VERBOSE_EVAL = 50\n",
    "\n",
    "IS_LOCAL = False\n",
    "\n",
    "import os\n"
   ]
  },
  {
   "cell_type": "code",
   "execution_count": 2,
   "id": "3620a654",
   "metadata": {},
   "outputs": [],
   "source": [
    "# READ THE DATA\n",
    "df = pd.read_csv(\"creditcard.csv\")"
   ]
  },
  {
   "cell_type": "code",
   "execution_count": 3,
   "id": "3cee8742",
   "metadata": {},
   "outputs": [
    {
     "data": {
      "text/plain": [
       "(284807, 31)"
      ]
     },
     "execution_count": 3,
     "metadata": {},
     "output_type": "execute_result"
    }
   ],
   "source": [
    "# Let's get info on the data\n",
    "df.shape"
   ]
  },
  {
   "cell_type": "code",
   "execution_count": 4,
   "id": "bdb308c9",
   "metadata": {},
   "outputs": [
    {
     "name": "stdout",
     "output_type": "stream",
     "text": [
      "<class 'pandas.core.frame.DataFrame'>\n",
      "RangeIndex: 284807 entries, 0 to 284806\n",
      "Data columns (total 31 columns):\n",
      " #   Column  Non-Null Count   Dtype  \n",
      "---  ------  --------------   -----  \n",
      " 0   Time    284807 non-null  float64\n",
      " 1   V1      284807 non-null  float64\n",
      " 2   V2      284807 non-null  float64\n",
      " 3   V3      284807 non-null  float64\n",
      " 4   V4      284807 non-null  float64\n",
      " 5   V5      284807 non-null  float64\n",
      " 6   V6      284807 non-null  float64\n",
      " 7   V7      284807 non-null  float64\n",
      " 8   V8      284807 non-null  float64\n",
      " 9   V9      284807 non-null  float64\n",
      " 10  V10     284807 non-null  float64\n",
      " 11  V11     284807 non-null  float64\n",
      " 12  V12     284807 non-null  float64\n",
      " 13  V13     284807 non-null  float64\n",
      " 14  V14     284807 non-null  float64\n",
      " 15  V15     284807 non-null  float64\n",
      " 16  V16     284807 non-null  float64\n",
      " 17  V17     284807 non-null  float64\n",
      " 18  V18     284807 non-null  float64\n",
      " 19  V19     284807 non-null  float64\n",
      " 20  V20     284807 non-null  float64\n",
      " 21  V21     284807 non-null  float64\n",
      " 22  V22     284807 non-null  float64\n",
      " 23  V23     284807 non-null  float64\n",
      " 24  V24     284807 non-null  float64\n",
      " 25  V25     284807 non-null  float64\n",
      " 26  V26     284807 non-null  float64\n",
      " 27  V27     284807 non-null  float64\n",
      " 28  V28     284807 non-null  float64\n",
      " 29  Amount  284807 non-null  float64\n",
      " 30  Class   284807 non-null  int64  \n",
      "dtypes: float64(30), int64(1)\n",
      "memory usage: 67.4 MB\n"
     ]
    }
   ],
   "source": [
    "df.info()"
   ]
  },
  {
   "cell_type": "code",
   "execution_count": 5,
   "id": "1dd335ac",
   "metadata": {},
   "outputs": [
    {
     "data": {
      "text/html": [
       "<div>\n",
       "<style scoped>\n",
       "    .dataframe tbody tr th:only-of-type {\n",
       "        vertical-align: middle;\n",
       "    }\n",
       "\n",
       "    .dataframe tbody tr th {\n",
       "        vertical-align: top;\n",
       "    }\n",
       "\n",
       "    .dataframe thead th {\n",
       "        text-align: right;\n",
       "    }\n",
       "</style>\n",
       "<table border=\"1\" class=\"dataframe\">\n",
       "  <thead>\n",
       "    <tr style=\"text-align: right;\">\n",
       "      <th></th>\n",
       "      <th>Time</th>\n",
       "      <th>V1</th>\n",
       "      <th>V2</th>\n",
       "      <th>V3</th>\n",
       "      <th>V4</th>\n",
       "      <th>V5</th>\n",
       "      <th>V6</th>\n",
       "      <th>V7</th>\n",
       "      <th>V8</th>\n",
       "      <th>V9</th>\n",
       "      <th>V10</th>\n",
       "      <th>V11</th>\n",
       "      <th>V12</th>\n",
       "      <th>V13</th>\n",
       "      <th>V14</th>\n",
       "      <th>V15</th>\n",
       "      <th>V16</th>\n",
       "      <th>V17</th>\n",
       "      <th>V18</th>\n",
       "      <th>V19</th>\n",
       "      <th>V20</th>\n",
       "      <th>V21</th>\n",
       "      <th>V22</th>\n",
       "      <th>V23</th>\n",
       "      <th>V24</th>\n",
       "      <th>V25</th>\n",
       "      <th>V26</th>\n",
       "      <th>V27</th>\n",
       "      <th>V28</th>\n",
       "      <th>Amount</th>\n",
       "      <th>Class</th>\n",
       "    </tr>\n",
       "  </thead>\n",
       "  <tbody>\n",
       "    <tr>\n",
       "      <th>0</th>\n",
       "      <td>0.0</td>\n",
       "      <td>-1.359807</td>\n",
       "      <td>-0.072781</td>\n",
       "      <td>2.536347</td>\n",
       "      <td>1.378155</td>\n",
       "      <td>-0.338321</td>\n",
       "      <td>0.462388</td>\n",
       "      <td>0.239599</td>\n",
       "      <td>0.098698</td>\n",
       "      <td>0.363787</td>\n",
       "      <td>0.090794</td>\n",
       "      <td>-0.551600</td>\n",
       "      <td>-0.617801</td>\n",
       "      <td>-0.991390</td>\n",
       "      <td>-0.311169</td>\n",
       "      <td>1.468177</td>\n",
       "      <td>-0.470401</td>\n",
       "      <td>0.207971</td>\n",
       "      <td>0.025791</td>\n",
       "      <td>0.403993</td>\n",
       "      <td>0.251412</td>\n",
       "      <td>-0.018307</td>\n",
       "      <td>0.277838</td>\n",
       "      <td>-0.110474</td>\n",
       "      <td>0.066928</td>\n",
       "      <td>0.128539</td>\n",
       "      <td>-0.189115</td>\n",
       "      <td>0.133558</td>\n",
       "      <td>-0.021053</td>\n",
       "      <td>149.62</td>\n",
       "      <td>0</td>\n",
       "    </tr>\n",
       "    <tr>\n",
       "      <th>1</th>\n",
       "      <td>0.0</td>\n",
       "      <td>1.191857</td>\n",
       "      <td>0.266151</td>\n",
       "      <td>0.166480</td>\n",
       "      <td>0.448154</td>\n",
       "      <td>0.060018</td>\n",
       "      <td>-0.082361</td>\n",
       "      <td>-0.078803</td>\n",
       "      <td>0.085102</td>\n",
       "      <td>-0.255425</td>\n",
       "      <td>-0.166974</td>\n",
       "      <td>1.612727</td>\n",
       "      <td>1.065235</td>\n",
       "      <td>0.489095</td>\n",
       "      <td>-0.143772</td>\n",
       "      <td>0.635558</td>\n",
       "      <td>0.463917</td>\n",
       "      <td>-0.114805</td>\n",
       "      <td>-0.183361</td>\n",
       "      <td>-0.145783</td>\n",
       "      <td>-0.069083</td>\n",
       "      <td>-0.225775</td>\n",
       "      <td>-0.638672</td>\n",
       "      <td>0.101288</td>\n",
       "      <td>-0.339846</td>\n",
       "      <td>0.167170</td>\n",
       "      <td>0.125895</td>\n",
       "      <td>-0.008983</td>\n",
       "      <td>0.014724</td>\n",
       "      <td>2.69</td>\n",
       "      <td>0</td>\n",
       "    </tr>\n",
       "    <tr>\n",
       "      <th>2</th>\n",
       "      <td>1.0</td>\n",
       "      <td>-1.358354</td>\n",
       "      <td>-1.340163</td>\n",
       "      <td>1.773209</td>\n",
       "      <td>0.379780</td>\n",
       "      <td>-0.503198</td>\n",
       "      <td>1.800499</td>\n",
       "      <td>0.791461</td>\n",
       "      <td>0.247676</td>\n",
       "      <td>-1.514654</td>\n",
       "      <td>0.207643</td>\n",
       "      <td>0.624501</td>\n",
       "      <td>0.066084</td>\n",
       "      <td>0.717293</td>\n",
       "      <td>-0.165946</td>\n",
       "      <td>2.345865</td>\n",
       "      <td>-2.890083</td>\n",
       "      <td>1.109969</td>\n",
       "      <td>-0.121359</td>\n",
       "      <td>-2.261857</td>\n",
       "      <td>0.524980</td>\n",
       "      <td>0.247998</td>\n",
       "      <td>0.771679</td>\n",
       "      <td>0.909412</td>\n",
       "      <td>-0.689281</td>\n",
       "      <td>-0.327642</td>\n",
       "      <td>-0.139097</td>\n",
       "      <td>-0.055353</td>\n",
       "      <td>-0.059752</td>\n",
       "      <td>378.66</td>\n",
       "      <td>0</td>\n",
       "    </tr>\n",
       "    <tr>\n",
       "      <th>3</th>\n",
       "      <td>1.0</td>\n",
       "      <td>-0.966272</td>\n",
       "      <td>-0.185226</td>\n",
       "      <td>1.792993</td>\n",
       "      <td>-0.863291</td>\n",
       "      <td>-0.010309</td>\n",
       "      <td>1.247203</td>\n",
       "      <td>0.237609</td>\n",
       "      <td>0.377436</td>\n",
       "      <td>-1.387024</td>\n",
       "      <td>-0.054952</td>\n",
       "      <td>-0.226487</td>\n",
       "      <td>0.178228</td>\n",
       "      <td>0.507757</td>\n",
       "      <td>-0.287924</td>\n",
       "      <td>-0.631418</td>\n",
       "      <td>-1.059647</td>\n",
       "      <td>-0.684093</td>\n",
       "      <td>1.965775</td>\n",
       "      <td>-1.232622</td>\n",
       "      <td>-0.208038</td>\n",
       "      <td>-0.108300</td>\n",
       "      <td>0.005274</td>\n",
       "      <td>-0.190321</td>\n",
       "      <td>-1.175575</td>\n",
       "      <td>0.647376</td>\n",
       "      <td>-0.221929</td>\n",
       "      <td>0.062723</td>\n",
       "      <td>0.061458</td>\n",
       "      <td>123.50</td>\n",
       "      <td>0</td>\n",
       "    </tr>\n",
       "    <tr>\n",
       "      <th>4</th>\n",
       "      <td>2.0</td>\n",
       "      <td>-1.158233</td>\n",
       "      <td>0.877737</td>\n",
       "      <td>1.548718</td>\n",
       "      <td>0.403034</td>\n",
       "      <td>-0.407193</td>\n",
       "      <td>0.095921</td>\n",
       "      <td>0.592941</td>\n",
       "      <td>-0.270533</td>\n",
       "      <td>0.817739</td>\n",
       "      <td>0.753074</td>\n",
       "      <td>-0.822843</td>\n",
       "      <td>0.538196</td>\n",
       "      <td>1.345852</td>\n",
       "      <td>-1.119670</td>\n",
       "      <td>0.175121</td>\n",
       "      <td>-0.451449</td>\n",
       "      <td>-0.237033</td>\n",
       "      <td>-0.038195</td>\n",
       "      <td>0.803487</td>\n",
       "      <td>0.408542</td>\n",
       "      <td>-0.009431</td>\n",
       "      <td>0.798278</td>\n",
       "      <td>-0.137458</td>\n",
       "      <td>0.141267</td>\n",
       "      <td>-0.206010</td>\n",
       "      <td>0.502292</td>\n",
       "      <td>0.219422</td>\n",
       "      <td>0.215153</td>\n",
       "      <td>69.99</td>\n",
       "      <td>0</td>\n",
       "    </tr>\n",
       "  </tbody>\n",
       "</table>\n",
       "</div>"
      ],
      "text/plain": [
       "   Time        V1        V2        V3        V4        V5        V6        V7  \\\n",
       "0   0.0 -1.359807 -0.072781  2.536347  1.378155 -0.338321  0.462388  0.239599   \n",
       "1   0.0  1.191857  0.266151  0.166480  0.448154  0.060018 -0.082361 -0.078803   \n",
       "2   1.0 -1.358354 -1.340163  1.773209  0.379780 -0.503198  1.800499  0.791461   \n",
       "3   1.0 -0.966272 -0.185226  1.792993 -0.863291 -0.010309  1.247203  0.237609   \n",
       "4   2.0 -1.158233  0.877737  1.548718  0.403034 -0.407193  0.095921  0.592941   \n",
       "\n",
       "         V8        V9       V10       V11       V12       V13       V14  \\\n",
       "0  0.098698  0.363787  0.090794 -0.551600 -0.617801 -0.991390 -0.311169   \n",
       "1  0.085102 -0.255425 -0.166974  1.612727  1.065235  0.489095 -0.143772   \n",
       "2  0.247676 -1.514654  0.207643  0.624501  0.066084  0.717293 -0.165946   \n",
       "3  0.377436 -1.387024 -0.054952 -0.226487  0.178228  0.507757 -0.287924   \n",
       "4 -0.270533  0.817739  0.753074 -0.822843  0.538196  1.345852 -1.119670   \n",
       "\n",
       "        V15       V16       V17       V18       V19       V20       V21  \\\n",
       "0  1.468177 -0.470401  0.207971  0.025791  0.403993  0.251412 -0.018307   \n",
       "1  0.635558  0.463917 -0.114805 -0.183361 -0.145783 -0.069083 -0.225775   \n",
       "2  2.345865 -2.890083  1.109969 -0.121359 -2.261857  0.524980  0.247998   \n",
       "3 -0.631418 -1.059647 -0.684093  1.965775 -1.232622 -0.208038 -0.108300   \n",
       "4  0.175121 -0.451449 -0.237033 -0.038195  0.803487  0.408542 -0.009431   \n",
       "\n",
       "        V22       V23       V24       V25       V26       V27       V28  \\\n",
       "0  0.277838 -0.110474  0.066928  0.128539 -0.189115  0.133558 -0.021053   \n",
       "1 -0.638672  0.101288 -0.339846  0.167170  0.125895 -0.008983  0.014724   \n",
       "2  0.771679  0.909412 -0.689281 -0.327642 -0.139097 -0.055353 -0.059752   \n",
       "3  0.005274 -0.190321 -1.175575  0.647376 -0.221929  0.062723  0.061458   \n",
       "4  0.798278 -0.137458  0.141267 -0.206010  0.502292  0.219422  0.215153   \n",
       "\n",
       "   Amount  Class  \n",
       "0  149.62      0  \n",
       "1    2.69      0  \n",
       "2  378.66      0  \n",
       "3  123.50      0  \n",
       "4   69.99      0  "
      ]
     },
     "execution_count": 5,
     "metadata": {},
     "output_type": "execute_result"
    }
   ],
   "source": [
    "df.head()"
   ]
  },
  {
   "cell_type": "code",
   "execution_count": 6,
   "id": "5168c7e3",
   "metadata": {},
   "outputs": [
    {
     "data": {
      "text/plain": [
       "Index(['Time', 'V1', 'V2', 'V3', 'V4', 'V5', 'V6', 'V7', 'V8', 'V9', 'V10',\n",
       "       'V11', 'V12', 'V13', 'V14', 'V15', 'V16', 'V17', 'V18', 'V19', 'V20',\n",
       "       'V21', 'V22', 'V23', 'V24', 'V25', 'V26', 'V27', 'V28', 'Amount',\n",
       "       'Class'],\n",
       "      dtype='object')"
      ]
     },
     "execution_count": 6,
     "metadata": {},
     "output_type": "execute_result"
    }
   ],
   "source": [
    "df.columns"
   ]
  },
  {
   "cell_type": "markdown",
   "id": "ab591d26",
   "metadata": {},
   "source": [
    "From df.head() we learn that the Features are listed as V1, V2, etc.\n",
    "Features V1, V2, etc., where transformed for protection of data through PCA components. \n",
    "\n",
    "The exception are:\n",
    "\n",
    "    Feature Time which contains seconds between each transaction and the first transaction in the dataset\n",
    "\n",
    "    Feature Amount which is the transaction amount\n",
    "    \n",
    "    Feature Class as the response variable set as 0 = No Fraud and 1 = Fraud"
   ]
  },
  {
   "cell_type": "code",
   "execution_count": 7,
   "id": "87119806",
   "metadata": {},
   "outputs": [
    {
     "data": {
      "text/html": [
       "<div>\n",
       "<style scoped>\n",
       "    .dataframe tbody tr th:only-of-type {\n",
       "        vertical-align: middle;\n",
       "    }\n",
       "\n",
       "    .dataframe tbody tr th {\n",
       "        vertical-align: top;\n",
       "    }\n",
       "\n",
       "    .dataframe thead th {\n",
       "        text-align: right;\n",
       "    }\n",
       "</style>\n",
       "<table border=\"1\" class=\"dataframe\">\n",
       "  <thead>\n",
       "    <tr style=\"text-align: right;\">\n",
       "      <th></th>\n",
       "      <th>Time</th>\n",
       "      <th>V1</th>\n",
       "      <th>V2</th>\n",
       "      <th>V3</th>\n",
       "      <th>V4</th>\n",
       "      <th>V5</th>\n",
       "      <th>V6</th>\n",
       "      <th>V7</th>\n",
       "      <th>V8</th>\n",
       "      <th>V9</th>\n",
       "      <th>V10</th>\n",
       "      <th>V11</th>\n",
       "      <th>V12</th>\n",
       "      <th>V13</th>\n",
       "      <th>V14</th>\n",
       "      <th>V15</th>\n",
       "      <th>V16</th>\n",
       "      <th>V17</th>\n",
       "      <th>V18</th>\n",
       "      <th>V19</th>\n",
       "      <th>V20</th>\n",
       "      <th>V21</th>\n",
       "      <th>V22</th>\n",
       "      <th>V23</th>\n",
       "      <th>V24</th>\n",
       "      <th>V25</th>\n",
       "      <th>V26</th>\n",
       "      <th>V27</th>\n",
       "      <th>V28</th>\n",
       "      <th>Amount</th>\n",
       "      <th>Class</th>\n",
       "    </tr>\n",
       "  </thead>\n",
       "  <tbody>\n",
       "    <tr>\n",
       "      <th>count</th>\n",
       "      <td>284807.000000</td>\n",
       "      <td>2.848070e+05</td>\n",
       "      <td>2.848070e+05</td>\n",
       "      <td>2.848070e+05</td>\n",
       "      <td>2.848070e+05</td>\n",
       "      <td>2.848070e+05</td>\n",
       "      <td>2.848070e+05</td>\n",
       "      <td>2.848070e+05</td>\n",
       "      <td>2.848070e+05</td>\n",
       "      <td>2.848070e+05</td>\n",
       "      <td>2.848070e+05</td>\n",
       "      <td>2.848070e+05</td>\n",
       "      <td>2.848070e+05</td>\n",
       "      <td>2.848070e+05</td>\n",
       "      <td>2.848070e+05</td>\n",
       "      <td>2.848070e+05</td>\n",
       "      <td>2.848070e+05</td>\n",
       "      <td>2.848070e+05</td>\n",
       "      <td>2.848070e+05</td>\n",
       "      <td>2.848070e+05</td>\n",
       "      <td>2.848070e+05</td>\n",
       "      <td>2.848070e+05</td>\n",
       "      <td>2.848070e+05</td>\n",
       "      <td>2.848070e+05</td>\n",
       "      <td>2.848070e+05</td>\n",
       "      <td>2.848070e+05</td>\n",
       "      <td>2.848070e+05</td>\n",
       "      <td>2.848070e+05</td>\n",
       "      <td>2.848070e+05</td>\n",
       "      <td>284807.000000</td>\n",
       "      <td>284807.000000</td>\n",
       "    </tr>\n",
       "    <tr>\n",
       "      <th>mean</th>\n",
       "      <td>94813.859575</td>\n",
       "      <td>3.918649e-15</td>\n",
       "      <td>5.682686e-16</td>\n",
       "      <td>-8.761736e-15</td>\n",
       "      <td>2.811118e-15</td>\n",
       "      <td>-1.552103e-15</td>\n",
       "      <td>2.040130e-15</td>\n",
       "      <td>-1.698953e-15</td>\n",
       "      <td>-1.893285e-16</td>\n",
       "      <td>-3.147640e-15</td>\n",
       "      <td>1.772925e-15</td>\n",
       "      <td>9.289524e-16</td>\n",
       "      <td>-1.803266e-15</td>\n",
       "      <td>1.674888e-15</td>\n",
       "      <td>1.475621e-15</td>\n",
       "      <td>3.501098e-15</td>\n",
       "      <td>1.392460e-15</td>\n",
       "      <td>-7.466538e-16</td>\n",
       "      <td>4.258754e-16</td>\n",
       "      <td>9.019919e-16</td>\n",
       "      <td>5.126845e-16</td>\n",
       "      <td>1.473120e-16</td>\n",
       "      <td>8.042109e-16</td>\n",
       "      <td>5.282512e-16</td>\n",
       "      <td>4.456271e-15</td>\n",
       "      <td>1.426896e-15</td>\n",
       "      <td>1.701640e-15</td>\n",
       "      <td>-3.662252e-16</td>\n",
       "      <td>-1.217809e-16</td>\n",
       "      <td>88.349619</td>\n",
       "      <td>0.001727</td>\n",
       "    </tr>\n",
       "    <tr>\n",
       "      <th>std</th>\n",
       "      <td>47488.145955</td>\n",
       "      <td>1.958696e+00</td>\n",
       "      <td>1.651309e+00</td>\n",
       "      <td>1.516255e+00</td>\n",
       "      <td>1.415869e+00</td>\n",
       "      <td>1.380247e+00</td>\n",
       "      <td>1.332271e+00</td>\n",
       "      <td>1.237094e+00</td>\n",
       "      <td>1.194353e+00</td>\n",
       "      <td>1.098632e+00</td>\n",
       "      <td>1.088850e+00</td>\n",
       "      <td>1.020713e+00</td>\n",
       "      <td>9.992014e-01</td>\n",
       "      <td>9.952742e-01</td>\n",
       "      <td>9.585956e-01</td>\n",
       "      <td>9.153160e-01</td>\n",
       "      <td>8.762529e-01</td>\n",
       "      <td>8.493371e-01</td>\n",
       "      <td>8.381762e-01</td>\n",
       "      <td>8.140405e-01</td>\n",
       "      <td>7.709250e-01</td>\n",
       "      <td>7.345240e-01</td>\n",
       "      <td>7.257016e-01</td>\n",
       "      <td>6.244603e-01</td>\n",
       "      <td>6.056471e-01</td>\n",
       "      <td>5.212781e-01</td>\n",
       "      <td>4.822270e-01</td>\n",
       "      <td>4.036325e-01</td>\n",
       "      <td>3.300833e-01</td>\n",
       "      <td>250.120109</td>\n",
       "      <td>0.041527</td>\n",
       "    </tr>\n",
       "    <tr>\n",
       "      <th>min</th>\n",
       "      <td>0.000000</td>\n",
       "      <td>-5.640751e+01</td>\n",
       "      <td>-7.271573e+01</td>\n",
       "      <td>-4.832559e+01</td>\n",
       "      <td>-5.683171e+00</td>\n",
       "      <td>-1.137433e+02</td>\n",
       "      <td>-2.616051e+01</td>\n",
       "      <td>-4.355724e+01</td>\n",
       "      <td>-7.321672e+01</td>\n",
       "      <td>-1.343407e+01</td>\n",
       "      <td>-2.458826e+01</td>\n",
       "      <td>-4.797473e+00</td>\n",
       "      <td>-1.868371e+01</td>\n",
       "      <td>-5.791881e+00</td>\n",
       "      <td>-1.921433e+01</td>\n",
       "      <td>-4.498945e+00</td>\n",
       "      <td>-1.412985e+01</td>\n",
       "      <td>-2.516280e+01</td>\n",
       "      <td>-9.498746e+00</td>\n",
       "      <td>-7.213527e+00</td>\n",
       "      <td>-5.449772e+01</td>\n",
       "      <td>-3.483038e+01</td>\n",
       "      <td>-1.093314e+01</td>\n",
       "      <td>-4.480774e+01</td>\n",
       "      <td>-2.836627e+00</td>\n",
       "      <td>-1.029540e+01</td>\n",
       "      <td>-2.604551e+00</td>\n",
       "      <td>-2.256568e+01</td>\n",
       "      <td>-1.543008e+01</td>\n",
       "      <td>0.000000</td>\n",
       "      <td>0.000000</td>\n",
       "    </tr>\n",
       "    <tr>\n",
       "      <th>25%</th>\n",
       "      <td>54201.500000</td>\n",
       "      <td>-9.203734e-01</td>\n",
       "      <td>-5.985499e-01</td>\n",
       "      <td>-8.903648e-01</td>\n",
       "      <td>-8.486401e-01</td>\n",
       "      <td>-6.915971e-01</td>\n",
       "      <td>-7.682956e-01</td>\n",
       "      <td>-5.540759e-01</td>\n",
       "      <td>-2.086297e-01</td>\n",
       "      <td>-6.430976e-01</td>\n",
       "      <td>-5.354257e-01</td>\n",
       "      <td>-7.624942e-01</td>\n",
       "      <td>-4.055715e-01</td>\n",
       "      <td>-6.485393e-01</td>\n",
       "      <td>-4.255740e-01</td>\n",
       "      <td>-5.828843e-01</td>\n",
       "      <td>-4.680368e-01</td>\n",
       "      <td>-4.837483e-01</td>\n",
       "      <td>-4.988498e-01</td>\n",
       "      <td>-4.562989e-01</td>\n",
       "      <td>-2.117214e-01</td>\n",
       "      <td>-2.283949e-01</td>\n",
       "      <td>-5.423504e-01</td>\n",
       "      <td>-1.618463e-01</td>\n",
       "      <td>-3.545861e-01</td>\n",
       "      <td>-3.171451e-01</td>\n",
       "      <td>-3.269839e-01</td>\n",
       "      <td>-7.083953e-02</td>\n",
       "      <td>-5.295979e-02</td>\n",
       "      <td>5.600000</td>\n",
       "      <td>0.000000</td>\n",
       "    </tr>\n",
       "    <tr>\n",
       "      <th>50%</th>\n",
       "      <td>84692.000000</td>\n",
       "      <td>1.810880e-02</td>\n",
       "      <td>6.548556e-02</td>\n",
       "      <td>1.798463e-01</td>\n",
       "      <td>-1.984653e-02</td>\n",
       "      <td>-5.433583e-02</td>\n",
       "      <td>-2.741871e-01</td>\n",
       "      <td>4.010308e-02</td>\n",
       "      <td>2.235804e-02</td>\n",
       "      <td>-5.142873e-02</td>\n",
       "      <td>-9.291738e-02</td>\n",
       "      <td>-3.275735e-02</td>\n",
       "      <td>1.400326e-01</td>\n",
       "      <td>-1.356806e-02</td>\n",
       "      <td>5.060132e-02</td>\n",
       "      <td>4.807155e-02</td>\n",
       "      <td>6.641332e-02</td>\n",
       "      <td>-6.567575e-02</td>\n",
       "      <td>-3.636312e-03</td>\n",
       "      <td>3.734823e-03</td>\n",
       "      <td>-6.248109e-02</td>\n",
       "      <td>-2.945017e-02</td>\n",
       "      <td>6.781943e-03</td>\n",
       "      <td>-1.119293e-02</td>\n",
       "      <td>4.097606e-02</td>\n",
       "      <td>1.659350e-02</td>\n",
       "      <td>-5.213911e-02</td>\n",
       "      <td>1.342146e-03</td>\n",
       "      <td>1.124383e-02</td>\n",
       "      <td>22.000000</td>\n",
       "      <td>0.000000</td>\n",
       "    </tr>\n",
       "    <tr>\n",
       "      <th>75%</th>\n",
       "      <td>139320.500000</td>\n",
       "      <td>1.315642e+00</td>\n",
       "      <td>8.037239e-01</td>\n",
       "      <td>1.027196e+00</td>\n",
       "      <td>7.433413e-01</td>\n",
       "      <td>6.119264e-01</td>\n",
       "      <td>3.985649e-01</td>\n",
       "      <td>5.704361e-01</td>\n",
       "      <td>3.273459e-01</td>\n",
       "      <td>5.971390e-01</td>\n",
       "      <td>4.539234e-01</td>\n",
       "      <td>7.395934e-01</td>\n",
       "      <td>6.182380e-01</td>\n",
       "      <td>6.625050e-01</td>\n",
       "      <td>4.931498e-01</td>\n",
       "      <td>6.488208e-01</td>\n",
       "      <td>5.232963e-01</td>\n",
       "      <td>3.996750e-01</td>\n",
       "      <td>5.008067e-01</td>\n",
       "      <td>4.589494e-01</td>\n",
       "      <td>1.330408e-01</td>\n",
       "      <td>1.863772e-01</td>\n",
       "      <td>5.285536e-01</td>\n",
       "      <td>1.476421e-01</td>\n",
       "      <td>4.395266e-01</td>\n",
       "      <td>3.507156e-01</td>\n",
       "      <td>2.409522e-01</td>\n",
       "      <td>9.104512e-02</td>\n",
       "      <td>7.827995e-02</td>\n",
       "      <td>77.165000</td>\n",
       "      <td>0.000000</td>\n",
       "    </tr>\n",
       "    <tr>\n",
       "      <th>max</th>\n",
       "      <td>172792.000000</td>\n",
       "      <td>2.454930e+00</td>\n",
       "      <td>2.205773e+01</td>\n",
       "      <td>9.382558e+00</td>\n",
       "      <td>1.687534e+01</td>\n",
       "      <td>3.480167e+01</td>\n",
       "      <td>7.330163e+01</td>\n",
       "      <td>1.205895e+02</td>\n",
       "      <td>2.000721e+01</td>\n",
       "      <td>1.559499e+01</td>\n",
       "      <td>2.374514e+01</td>\n",
       "      <td>1.201891e+01</td>\n",
       "      <td>7.848392e+00</td>\n",
       "      <td>7.126883e+00</td>\n",
       "      <td>1.052677e+01</td>\n",
       "      <td>8.877742e+00</td>\n",
       "      <td>1.731511e+01</td>\n",
       "      <td>9.253526e+00</td>\n",
       "      <td>5.041069e+00</td>\n",
       "      <td>5.591971e+00</td>\n",
       "      <td>3.942090e+01</td>\n",
       "      <td>2.720284e+01</td>\n",
       "      <td>1.050309e+01</td>\n",
       "      <td>2.252841e+01</td>\n",
       "      <td>4.584549e+00</td>\n",
       "      <td>7.519589e+00</td>\n",
       "      <td>3.517346e+00</td>\n",
       "      <td>3.161220e+01</td>\n",
       "      <td>3.384781e+01</td>\n",
       "      <td>25691.160000</td>\n",
       "      <td>1.000000</td>\n",
       "    </tr>\n",
       "  </tbody>\n",
       "</table>\n",
       "</div>"
      ],
      "text/plain": [
       "                Time            V1            V2            V3            V4  \\\n",
       "count  284807.000000  2.848070e+05  2.848070e+05  2.848070e+05  2.848070e+05   \n",
       "mean    94813.859575  3.918649e-15  5.682686e-16 -8.761736e-15  2.811118e-15   \n",
       "std     47488.145955  1.958696e+00  1.651309e+00  1.516255e+00  1.415869e+00   \n",
       "min         0.000000 -5.640751e+01 -7.271573e+01 -4.832559e+01 -5.683171e+00   \n",
       "25%     54201.500000 -9.203734e-01 -5.985499e-01 -8.903648e-01 -8.486401e-01   \n",
       "50%     84692.000000  1.810880e-02  6.548556e-02  1.798463e-01 -1.984653e-02   \n",
       "75%    139320.500000  1.315642e+00  8.037239e-01  1.027196e+00  7.433413e-01   \n",
       "max    172792.000000  2.454930e+00  2.205773e+01  9.382558e+00  1.687534e+01   \n",
       "\n",
       "                 V5            V6            V7            V8            V9  \\\n",
       "count  2.848070e+05  2.848070e+05  2.848070e+05  2.848070e+05  2.848070e+05   \n",
       "mean  -1.552103e-15  2.040130e-15 -1.698953e-15 -1.893285e-16 -3.147640e-15   \n",
       "std    1.380247e+00  1.332271e+00  1.237094e+00  1.194353e+00  1.098632e+00   \n",
       "min   -1.137433e+02 -2.616051e+01 -4.355724e+01 -7.321672e+01 -1.343407e+01   \n",
       "25%   -6.915971e-01 -7.682956e-01 -5.540759e-01 -2.086297e-01 -6.430976e-01   \n",
       "50%   -5.433583e-02 -2.741871e-01  4.010308e-02  2.235804e-02 -5.142873e-02   \n",
       "75%    6.119264e-01  3.985649e-01  5.704361e-01  3.273459e-01  5.971390e-01   \n",
       "max    3.480167e+01  7.330163e+01  1.205895e+02  2.000721e+01  1.559499e+01   \n",
       "\n",
       "                V10           V11           V12           V13           V14  \\\n",
       "count  2.848070e+05  2.848070e+05  2.848070e+05  2.848070e+05  2.848070e+05   \n",
       "mean   1.772925e-15  9.289524e-16 -1.803266e-15  1.674888e-15  1.475621e-15   \n",
       "std    1.088850e+00  1.020713e+00  9.992014e-01  9.952742e-01  9.585956e-01   \n",
       "min   -2.458826e+01 -4.797473e+00 -1.868371e+01 -5.791881e+00 -1.921433e+01   \n",
       "25%   -5.354257e-01 -7.624942e-01 -4.055715e-01 -6.485393e-01 -4.255740e-01   \n",
       "50%   -9.291738e-02 -3.275735e-02  1.400326e-01 -1.356806e-02  5.060132e-02   \n",
       "75%    4.539234e-01  7.395934e-01  6.182380e-01  6.625050e-01  4.931498e-01   \n",
       "max    2.374514e+01  1.201891e+01  7.848392e+00  7.126883e+00  1.052677e+01   \n",
       "\n",
       "                V15           V16           V17           V18           V19  \\\n",
       "count  2.848070e+05  2.848070e+05  2.848070e+05  2.848070e+05  2.848070e+05   \n",
       "mean   3.501098e-15  1.392460e-15 -7.466538e-16  4.258754e-16  9.019919e-16   \n",
       "std    9.153160e-01  8.762529e-01  8.493371e-01  8.381762e-01  8.140405e-01   \n",
       "min   -4.498945e+00 -1.412985e+01 -2.516280e+01 -9.498746e+00 -7.213527e+00   \n",
       "25%   -5.828843e-01 -4.680368e-01 -4.837483e-01 -4.988498e-01 -4.562989e-01   \n",
       "50%    4.807155e-02  6.641332e-02 -6.567575e-02 -3.636312e-03  3.734823e-03   \n",
       "75%    6.488208e-01  5.232963e-01  3.996750e-01  5.008067e-01  4.589494e-01   \n",
       "max    8.877742e+00  1.731511e+01  9.253526e+00  5.041069e+00  5.591971e+00   \n",
       "\n",
       "                V20           V21           V22           V23           V24  \\\n",
       "count  2.848070e+05  2.848070e+05  2.848070e+05  2.848070e+05  2.848070e+05   \n",
       "mean   5.126845e-16  1.473120e-16  8.042109e-16  5.282512e-16  4.456271e-15   \n",
       "std    7.709250e-01  7.345240e-01  7.257016e-01  6.244603e-01  6.056471e-01   \n",
       "min   -5.449772e+01 -3.483038e+01 -1.093314e+01 -4.480774e+01 -2.836627e+00   \n",
       "25%   -2.117214e-01 -2.283949e-01 -5.423504e-01 -1.618463e-01 -3.545861e-01   \n",
       "50%   -6.248109e-02 -2.945017e-02  6.781943e-03 -1.119293e-02  4.097606e-02   \n",
       "75%    1.330408e-01  1.863772e-01  5.285536e-01  1.476421e-01  4.395266e-01   \n",
       "max    3.942090e+01  2.720284e+01  1.050309e+01  2.252841e+01  4.584549e+00   \n",
       "\n",
       "                V25           V26           V27           V28         Amount  \\\n",
       "count  2.848070e+05  2.848070e+05  2.848070e+05  2.848070e+05  284807.000000   \n",
       "mean   1.426896e-15  1.701640e-15 -3.662252e-16 -1.217809e-16      88.349619   \n",
       "std    5.212781e-01  4.822270e-01  4.036325e-01  3.300833e-01     250.120109   \n",
       "min   -1.029540e+01 -2.604551e+00 -2.256568e+01 -1.543008e+01       0.000000   \n",
       "25%   -3.171451e-01 -3.269839e-01 -7.083953e-02 -5.295979e-02       5.600000   \n",
       "50%    1.659350e-02 -5.213911e-02  1.342146e-03  1.124383e-02      22.000000   \n",
       "75%    3.507156e-01  2.409522e-01  9.104512e-02  7.827995e-02      77.165000   \n",
       "max    7.519589e+00  3.517346e+00  3.161220e+01  3.384781e+01   25691.160000   \n",
       "\n",
       "               Class  \n",
       "count  284807.000000  \n",
       "mean        0.001727  \n",
       "std         0.041527  \n",
       "min         0.000000  \n",
       "25%         0.000000  \n",
       "50%         0.000000  \n",
       "75%         0.000000  \n",
       "max         1.000000  "
      ]
     },
     "execution_count": 7,
     "metadata": {},
     "output_type": "execute_result"
    }
   ],
   "source": [
    "df.describe()"
   ]
  },
  {
   "cell_type": "markdown",
   "id": "5ea94b54",
   "metadata": {},
   "source": [
    "Time- count = 284,807\n",
    "\n",
    "Time- max = 172792\n",
    "\n",
    "Dataset contains 284,807 transactions over the course of 172792 seconds, which translates to 2 days.\n",
    "\n",
    "Let's see if there is any missing data.\n"
   ]
  },
  {
   "cell_type": "code",
   "execution_count": 8,
   "id": "ab11381d",
   "metadata": {},
   "outputs": [
    {
     "data": {
      "text/html": [
       "<div>\n",
       "<style scoped>\n",
       "    .dataframe tbody tr th:only-of-type {\n",
       "        vertical-align: middle;\n",
       "    }\n",
       "\n",
       "    .dataframe tbody tr th {\n",
       "        vertical-align: top;\n",
       "    }\n",
       "\n",
       "    .dataframe thead th {\n",
       "        text-align: right;\n",
       "    }\n",
       "</style>\n",
       "<table border=\"1\" class=\"dataframe\">\n",
       "  <thead>\n",
       "    <tr style=\"text-align: right;\">\n",
       "      <th></th>\n",
       "      <th>Amount</th>\n",
       "      <th>Time</th>\n",
       "      <th>Class</th>\n",
       "    </tr>\n",
       "  </thead>\n",
       "  <tbody>\n",
       "    <tr>\n",
       "      <th>count</th>\n",
       "      <td>284807.000000</td>\n",
       "      <td>284807.000000</td>\n",
       "      <td>284807.000000</td>\n",
       "    </tr>\n",
       "    <tr>\n",
       "      <th>mean</th>\n",
       "      <td>88.349619</td>\n",
       "      <td>94813.859575</td>\n",
       "      <td>0.001727</td>\n",
       "    </tr>\n",
       "    <tr>\n",
       "      <th>std</th>\n",
       "      <td>250.120109</td>\n",
       "      <td>47488.145955</td>\n",
       "      <td>0.041527</td>\n",
       "    </tr>\n",
       "    <tr>\n",
       "      <th>min</th>\n",
       "      <td>0.000000</td>\n",
       "      <td>0.000000</td>\n",
       "      <td>0.000000</td>\n",
       "    </tr>\n",
       "    <tr>\n",
       "      <th>25%</th>\n",
       "      <td>5.600000</td>\n",
       "      <td>54201.500000</td>\n",
       "      <td>0.000000</td>\n",
       "    </tr>\n",
       "    <tr>\n",
       "      <th>50%</th>\n",
       "      <td>22.000000</td>\n",
       "      <td>84692.000000</td>\n",
       "      <td>0.000000</td>\n",
       "    </tr>\n",
       "    <tr>\n",
       "      <th>75%</th>\n",
       "      <td>77.165000</td>\n",
       "      <td>139320.500000</td>\n",
       "      <td>0.000000</td>\n",
       "    </tr>\n",
       "    <tr>\n",
       "      <th>max</th>\n",
       "      <td>25691.160000</td>\n",
       "      <td>172792.000000</td>\n",
       "      <td>1.000000</td>\n",
       "    </tr>\n",
       "  </tbody>\n",
       "</table>\n",
       "</div>"
      ],
      "text/plain": [
       "              Amount           Time          Class\n",
       "count  284807.000000  284807.000000  284807.000000\n",
       "mean       88.349619   94813.859575       0.001727\n",
       "std       250.120109   47488.145955       0.041527\n",
       "min         0.000000       0.000000       0.000000\n",
       "25%         5.600000   54201.500000       0.000000\n",
       "50%        22.000000   84692.000000       0.000000\n",
       "75%        77.165000  139320.500000       0.000000\n",
       "max     25691.160000  172792.000000       1.000000"
      ]
     },
     "execution_count": 8,
     "metadata": {},
     "output_type": "execute_result"
    }
   ],
   "source": [
    "df[['Amount', 'Time', 'Class']].describe()\n"
   ]
  },
  {
   "cell_type": "code",
   "execution_count": 9,
   "id": "20774156",
   "metadata": {},
   "outputs": [
    {
     "data": {
      "text/plain": [
       "Time      False\n",
       "V1        False\n",
       "V2        False\n",
       "V3        False\n",
       "V4        False\n",
       "V5        False\n",
       "V6        False\n",
       "V7        False\n",
       "V8        False\n",
       "V9        False\n",
       "V10       False\n",
       "V11       False\n",
       "V12       False\n",
       "V13       False\n",
       "V14       False\n",
       "V15       False\n",
       "V16       False\n",
       "V17       False\n",
       "V18       False\n",
       "V19       False\n",
       "V20       False\n",
       "V21       False\n",
       "V22       False\n",
       "V23       False\n",
       "V24       False\n",
       "V25       False\n",
       "V26       False\n",
       "V27       False\n",
       "V28       False\n",
       "Amount    False\n",
       "Class     False\n",
       "dtype: bool"
      ]
     },
     "execution_count": 9,
     "metadata": {},
     "output_type": "execute_result"
    }
   ],
   "source": [
    "df.isna().any()"
   ]
  },
  {
   "cell_type": "code",
   "execution_count": 10,
   "id": "f436d416",
   "metadata": {},
   "outputs": [
    {
     "data": {
      "text/html": [
       "<div>\n",
       "<style scoped>\n",
       "    .dataframe tbody tr th:only-of-type {\n",
       "        vertical-align: middle;\n",
       "    }\n",
       "\n",
       "    .dataframe tbody tr th {\n",
       "        vertical-align: top;\n",
       "    }\n",
       "\n",
       "    .dataframe thead th {\n",
       "        text-align: right;\n",
       "    }\n",
       "</style>\n",
       "<table border=\"1\" class=\"dataframe\">\n",
       "  <thead>\n",
       "    <tr style=\"text-align: right;\">\n",
       "      <th></th>\n",
       "      <th>Time</th>\n",
       "      <th>V16</th>\n",
       "      <th>Amount</th>\n",
       "      <th>V28</th>\n",
       "      <th>V27</th>\n",
       "      <th>V26</th>\n",
       "      <th>V25</th>\n",
       "      <th>V24</th>\n",
       "      <th>V23</th>\n",
       "      <th>V22</th>\n",
       "      <th>V21</th>\n",
       "      <th>V20</th>\n",
       "      <th>V19</th>\n",
       "      <th>V18</th>\n",
       "      <th>V17</th>\n",
       "      <th>V15</th>\n",
       "      <th>V1</th>\n",
       "      <th>V14</th>\n",
       "      <th>V13</th>\n",
       "      <th>V12</th>\n",
       "      <th>V11</th>\n",
       "      <th>V10</th>\n",
       "      <th>V9</th>\n",
       "      <th>V8</th>\n",
       "      <th>V7</th>\n",
       "      <th>V6</th>\n",
       "      <th>V5</th>\n",
       "      <th>V4</th>\n",
       "      <th>V3</th>\n",
       "      <th>V2</th>\n",
       "      <th>Class</th>\n",
       "    </tr>\n",
       "  </thead>\n",
       "  <tbody>\n",
       "    <tr>\n",
       "      <th>Total</th>\n",
       "      <td>0.0</td>\n",
       "      <td>0.0</td>\n",
       "      <td>0.0</td>\n",
       "      <td>0.0</td>\n",
       "      <td>0.0</td>\n",
       "      <td>0.0</td>\n",
       "      <td>0.0</td>\n",
       "      <td>0.0</td>\n",
       "      <td>0.0</td>\n",
       "      <td>0.0</td>\n",
       "      <td>0.0</td>\n",
       "      <td>0.0</td>\n",
       "      <td>0.0</td>\n",
       "      <td>0.0</td>\n",
       "      <td>0.0</td>\n",
       "      <td>0.0</td>\n",
       "      <td>0.0</td>\n",
       "      <td>0.0</td>\n",
       "      <td>0.0</td>\n",
       "      <td>0.0</td>\n",
       "      <td>0.0</td>\n",
       "      <td>0.0</td>\n",
       "      <td>0.0</td>\n",
       "      <td>0.0</td>\n",
       "      <td>0.0</td>\n",
       "      <td>0.0</td>\n",
       "      <td>0.0</td>\n",
       "      <td>0.0</td>\n",
       "      <td>0.0</td>\n",
       "      <td>0.0</td>\n",
       "      <td>0.0</td>\n",
       "    </tr>\n",
       "    <tr>\n",
       "      <th>Percent</th>\n",
       "      <td>0.0</td>\n",
       "      <td>0.0</td>\n",
       "      <td>0.0</td>\n",
       "      <td>0.0</td>\n",
       "      <td>0.0</td>\n",
       "      <td>0.0</td>\n",
       "      <td>0.0</td>\n",
       "      <td>0.0</td>\n",
       "      <td>0.0</td>\n",
       "      <td>0.0</td>\n",
       "      <td>0.0</td>\n",
       "      <td>0.0</td>\n",
       "      <td>0.0</td>\n",
       "      <td>0.0</td>\n",
       "      <td>0.0</td>\n",
       "      <td>0.0</td>\n",
       "      <td>0.0</td>\n",
       "      <td>0.0</td>\n",
       "      <td>0.0</td>\n",
       "      <td>0.0</td>\n",
       "      <td>0.0</td>\n",
       "      <td>0.0</td>\n",
       "      <td>0.0</td>\n",
       "      <td>0.0</td>\n",
       "      <td>0.0</td>\n",
       "      <td>0.0</td>\n",
       "      <td>0.0</td>\n",
       "      <td>0.0</td>\n",
       "      <td>0.0</td>\n",
       "      <td>0.0</td>\n",
       "      <td>0.0</td>\n",
       "    </tr>\n",
       "  </tbody>\n",
       "</table>\n",
       "</div>"
      ],
      "text/plain": [
       "         Time  V16  Amount  V28  V27  V26  V25  V24  V23  V22  V21  V20  V19  \\\n",
       "Total     0.0  0.0     0.0  0.0  0.0  0.0  0.0  0.0  0.0  0.0  0.0  0.0  0.0   \n",
       "Percent   0.0  0.0     0.0  0.0  0.0  0.0  0.0  0.0  0.0  0.0  0.0  0.0  0.0   \n",
       "\n",
       "         V18  V17  V15   V1  V14  V13  V12  V11  V10   V9   V8   V7   V6   V5  \\\n",
       "Total    0.0  0.0  0.0  0.0  0.0  0.0  0.0  0.0  0.0  0.0  0.0  0.0  0.0  0.0   \n",
       "Percent  0.0  0.0  0.0  0.0  0.0  0.0  0.0  0.0  0.0  0.0  0.0  0.0  0.0  0.0   \n",
       "\n",
       "          V4   V3   V2  Class  \n",
       "Total    0.0  0.0  0.0    0.0  \n",
       "Percent  0.0  0.0  0.0    0.0  "
      ]
     },
     "execution_count": 10,
     "metadata": {},
     "output_type": "execute_result"
    }
   ],
   "source": [
    "total = df.isnull().sum().sort_values(ascending = False)\n",
    "percent = (df.isnull().sum()/df.isnull().count()*100).sort_values(ascending = False)\n",
    "pd.concat([total, percent], axis=1, keys=['Total', 'Percent']).transpose()"
   ]
  },
  {
   "cell_type": "code",
   "execution_count": 11,
   "id": "324f1c69",
   "metadata": {},
   "outputs": [
    {
     "data": {
      "text/plain": [
       "284797    0\n",
       "284798    0\n",
       "284799    0\n",
       "284800    0\n",
       "284801    0\n",
       "284802    0\n",
       "284803    0\n",
       "284804    0\n",
       "284805    0\n",
       "284806    0\n",
       "Name: Class, dtype: int64"
      ]
     },
     "execution_count": 11,
     "metadata": {},
     "output_type": "execute_result"
    }
   ],
   "source": [
    "df['Class'].tail(10)"
   ]
  },
  {
   "cell_type": "markdown",
   "id": "1e317304",
   "metadata": {},
   "source": [
    "It appears dataset has no missing data."
   ]
  },
  {
   "cell_type": "markdown",
   "id": "9af2cff2",
   "metadata": {},
   "source": [
    "The dataset shows that there are more 0 = No fraud transactions than 1 = Fraud transactions.\n",
    "The data is also unbalanced as there are over 250,000 not fraud transactions compared to the small amount of fraud.\n",
    "\n",
    "Let's explore the dataset for percentage of total transactions that ARE NOT Fraud 'Class' 0 and percentage of total transactions that ARE fraud 'Class' 1."
   ]
  },
  {
   "cell_type": "markdown",
   "id": "d59ae919",
   "metadata": {},
   "source": [
    "# EXPLORATORY DATA ANALYSIS\n"
   ]
  },
  {
   "cell_type": "code",
   "execution_count": 12,
   "id": "4fd2028f",
   "metadata": {},
   "outputs": [
    {
     "name": "stdout",
     "output_type": "stream",
     "text": [
      "Percentage of total transactions that ARE NOT Fraud:  99.82725143693798\n"
     ]
    }
   ],
   "source": [
    "# Percentage of total transactions that ARE NOT Fraud 'Class' = 0\n",
    "\n",
    "nfcount = 0\n",
    "not_fraud = df['Class']\n",
    "for i in range(len(not_fraud)):\n",
    "    if not_fraud[i]==0:\n",
    "        nfcount=nfcount+1\n",
    "\n",
    "nfcount\n",
    "per_nf=(nfcount/len(not_fraud))*100\n",
    "print('Percentage of total transactions that ARE NOT Fraud: ',per_nf)"
   ]
  },
  {
   "cell_type": "code",
   "execution_count": 13,
   "id": "bbfeb861",
   "metadata": {},
   "outputs": [
    {
     "name": "stdout",
     "output_type": "stream",
     "text": [
      "Percentage of total transactions that ARE Fraud:  0.1727485630620034\n"
     ]
    }
   ],
   "source": [
    "# Percentage of total transactions that ARE Fraud 'Class' = 1\n",
    "\n",
    "fcount = 0\n",
    "fraud = df['Class']\n",
    "for i in range(len(fraud)):\n",
    "    if fraud[i]==1:\n",
    "        fcount=fcount+1\n",
    "\n",
    "fcount\n",
    "per_f=(fcount/len(not_fraud))*100\n",
    "print('Percentage of total transactions that ARE Fraud: ',per_f)"
   ]
  },
  {
   "cell_type": "markdown",
   "id": "a6c107ca",
   "metadata": {},
   "source": [
    "Seems we hae a small amount of fraud transactions.  \n",
    "NOT Fraud transactions = 99.83%\n",
    "Fraud Transactions = 0.17%"
   ]
  },
  {
   "cell_type": "code",
   "execution_count": 14,
   "id": "e43bb79f",
   "metadata": {},
   "outputs": [
    {
     "data": {
      "text/plain": [
       "<AxesSubplot:title={'center':'Bar Plot for FRAUD VS NOT FRAUD Transactions'}, xlabel='Class', ylabel='Class'>"
      ]
     },
     "execution_count": 14,
     "metadata": {},
     "output_type": "execute_result"
    },
    {
     "data": {
      "image/png": "[encoded data removed]",
      "text/plain": [
       "<Figure size 432x288 with 1 Axes>"
      ]
     },
     "metadata": {
      "needs_background": "light"
     },
     "output_type": "display_data"
    }
   ],
   "source": [
    "# Let's explore the Feature Class 0 and 1\n",
    "#https://www.geeksforgeeks.org/seaborn-color-palette/\n",
    "#https://seaborn.pydata.org/generated/seaborn.countplot.html\n",
    "\n",
    "plt.title('Bar Plot for FRAUD VS NOT FRAUD Transactions')\n",
    "sns.barplot(x = fraud, y = not_fraud, data = df, palette='Blues', edgecolor='w')"
   ]
  },
  {
   "cell_type": "markdown",
   "id": "c744ef54",
   "metadata": {},
   "source": [
    "Let's explore the relationship between Amount and Time."
   ]
  },
  {
   "cell_type": "code",
   "execution_count": 15,
   "id": "010c0ed8",
   "metadata": {},
   "outputs": [
    {
     "data": {
      "text/plain": [
       "Text(0.5, 1.0, 'Time VS Amount')"
      ]
     },
     "execution_count": 15,
     "metadata": {},
     "output_type": "execute_result"
    },
    {
     "data": {
      "image/png": "[encoded data removed]",
      "text/plain": [
       "<Figure size 432x288 with 1 Axes>"
      ]
     },
     "metadata": {
      "needs_background": "light"
     },
     "output_type": "display_data"
    }
   ],
   "source": [
    "x=df['Amount']\n",
    "y=df['Time']\n",
    "plt.plot(x, y)\n",
    "plt.title('Time VS Amount')"
   ]
  },
  {
   "cell_type": "markdown",
   "id": "5784ca72",
   "metadata": {},
   "source": [
    "Let's explore the distribution of 'Amount'."
   ]
  },
  {
   "cell_type": "code",
   "execution_count": 16,
   "id": "bcd140a9",
   "metadata": {},
   "outputs": [
    {
     "name": "stderr",
     "output_type": "stream",
     "text": [
      "/Users/janisnavarro/opt/anaconda3/lib/python3.9/site-packages/seaborn/distributions.py:2619: FutureWarning:\n",
      "\n",
      "`distplot` is a deprecated function and will be removed in a future version. Please adapt your code to use either `displot` (a figure-level function with similar flexibility) or `histplot` (an axes-level function for histograms).\n",
      "\n"
     ]
    },
    {
     "data": {
      "text/plain": [
       "<AxesSubplot:title={'center':'Distribution of Amount'}, xlabel='Amount', ylabel='Density'>"
      ]
     },
     "execution_count": 16,
     "metadata": {},
     "output_type": "execute_result"
    },
    {
     "data": {
      "image/png": "[encoded data removed]",
      "text/plain": [
       "<Figure size 720x576 with 1 Axes>"
      ]
     },
     "metadata": {
      "needs_background": "light"
     },
     "output_type": "display_data"
    }
   ],
   "source": [
    "plt.figure(figsize=(10,8), )\n",
    "plt.title('Distribution of Amount')\n",
    "sns.distplot(df['Amount'], color='blue')"
   ]
  },
  {
   "cell_type": "markdown",
   "id": "39f1f7e5",
   "metadata": {},
   "source": [
    "The distribution show that the number of high transactions are a low. \n",
    "We can say that the probability is high for fraud when transaction amount is high in amount spent.\n",
    "\n",
    "Let's look at a scatterplot and identify any outliers."
   ]
  },
  {
   "cell_type": "code",
   "execution_count": 17,
   "id": "0a54a144",
   "metadata": {},
   "outputs": [
    {
     "data": {
      "image/png": "[encoded data removed]",
      "text/plain": [
       "<Figure size 1080x936 with 1 Axes>"
      ]
     },
     "metadata": {
      "needs_background": "light"
     },
     "output_type": "display_data"
    }
   ],
   "source": [
    "fig, ax = plt.subplots(figsize=(15,13))\n",
    "ax.scatter(df['Amount'], df['Time'])\n",
    "ax.set_xlabel('Amount')\n",
    "ax.set_ylabel('Time')\n",
    "plt.show()"
   ]
  },
  {
   "cell_type": "code",
   "execution_count": 18,
   "id": "93bf9d5b",
   "metadata": {},
   "outputs": [
    {
     "name": "stdout",
     "output_type": "stream",
     "text": [
      "7\n",
      "8\n",
      "9\n"
     ]
    }
   ],
   "source": [
    "single_array = np.array([7,8,9])\n",
    "multi_dimensional = np.array([(8,9,10), (11,12,13)])\n",
    "reshape_array=multi_dimensional.reshape(3,2)\n",
    "\n",
    "for i in single_array:\n",
    "    print(i)\n"
   ]
  },
  {
   "cell_type": "markdown",
   "id": "6794f81a",
   "metadata": {},
   "source": [
    "Let's do a correlation matrix to help understand the core relation between attributes."
   ]
  },
  {
   "cell_type": "code",
   "execution_count": 19,
   "id": "050b7b8f",
   "metadata": {},
   "outputs": [
    {
     "data": {
      "image/png": "[encoded data removed]",
      "text/plain": [
       "<Figure size 1008x648 with 2 Axes>"
      ]
     },
     "metadata": {
      "needs_background": "light"
     },
     "output_type": "display_data"
    }
   ],
   "source": [
    "correlation_metrics = df.corr()\n",
    "fig = plt.figure(figsize= (14, 9))\n",
    "sns.heatmap(correlation_metrics, vmax=.9, square=True)\n",
    "plt.show()"
   ]
  },
  {
   "cell_type": "markdown",
   "id": "8f0daf3c",
   "metadata": {},
   "source": [
    "There are no correlations worth mentioning between Variables V1 to V28.\n",
    "\n",
    "There is a certain correlation between some of the Features and 'Time':\n",
    "    Inverse relationship with V3\n",
    "\n",
    "There is a certain correlation between some of the Features and 'Amount':\n",
    "    Direct correlation with V7 and V20\n",
    "    Inverse relationship with V2 and V5"
   ]
  },
  {
   "cell_type": "code",
   "execution_count": 20,
   "id": "865ffe1c",
   "metadata": {},
   "outputs": [
    {
     "data": {
      "application/vnd.plotly.v1+json": {
       "config": {
        "linkText": "Export to plot.ly",
        "plotlyServerURL": "https://plot.ly",
        "showLink": false
       },
       "data": [
        {
         "legendgroup": "Not Fraud",
         "marker": {
          "color": "rgb(31, 119, 180)"
         },
         "mode": "lines",
         "name": "Not Fraud",
         "showlegend": true,
         "type": "scatter",
         "x": [
          0,
          345.584,
          691.168,
          1036.752,
          1382.336,
          1727.92,
          2073.504,
          2419.088,
          2764.672,
          3110.256,
          3455.84,
          3801.424,
          4147.008,
          4492.592,
          4838.176,
          5183.76,
          5529.344,
          5874.928,
          6220.512,
          6566.096,
          6911.68,
          7257.264,
          7602.848,
          7948.432,
          8294.016,
          8639.6,
          8985.184,
          9330.768,
          9676.352,
          10021.936,
          10367.52,
          10713.104,
          11058.688,
          11404.272,
          11749.856,
          12095.44,
          12441.024,
          12786.608,
          13132.192,
          13477.776,
          13823.36,
          14168.944,
          14514.528,
          14860.112,
          15205.696,
          15551.28,
          15896.864,
          16242.448,
          16588.032,
          16933.616,
          17279.2,
          17624.784,
          17970.368,
          18315.952,
          18661.536,
          19007.12,
          19352.704,
          19698.288,
          20043.872,
          20389.456,
          20735.04,
          21080.624,
          21426.208,
          21771.792,
          22117.376,
          22462.96,
          22808.544,
          23154.128,
          23499.712,
          23845.296,
          24190.88,
          24536.464,
          24882.048,
          25227.632,
          25573.216,
          25918.8,
          26264.384,
          26609.968,
          26955.552,
          27301.136,
          27646.72,
          27992.304,
          28337.888,
          28683.472,
          29029.056,
          29374.64,
          29720.224,
          30065.808,
          30411.392,
          30756.976,
          31102.56,
          31448.144,
          31793.728,
          32139.312,
          32484.896,
          32830.48,
          33176.064,
          33521.648,
          33867.232,
          34212.816,
          34558.4,
          34903.984,
          35249.568,
          35595.152,
          35940.736,
          36286.32,
          36631.904,
          36977.488,
          37323.072,
          37668.656,
          38014.24,
          38359.824,
          38705.408,
          39050.992,
          39396.576,
          39742.16,
          40087.744,
          40433.328,
          40778.912,
          41124.496,
          41470.08,
          41815.664,
          42161.248,
          42506.832,
          42852.416,
          43198,
          43543.584,
          43889.168,
          44234.752,
          44580.336,
          44925.92,
          45271.504,
          45617.088,
          45962.672,
          46308.256,
          46653.84,
          46999.424,
          47345.008,
          47690.592,
          48036.176,
          48381.76,
          48727.344,
          49072.928,
          49418.512,
          49764.096,
          50109.68,
          50455.264,
          50800.848,
          51146.432,
          51492.016,
          51837.6,
          52183.184,
          52528.768,
          52874.352,
          53219.936,
          53565.52,
          53911.104,
          54256.688,
          54602.272,
          54947.856,
          55293.44,
          55639.024,
          55984.608,
          56330.192,
          56675.776,
          57021.36,
          57366.944,
          57712.528,
          58058.112,
          58403.696,
          58749.28,
          59094.864,
          59440.448,
          59786.032,
          60131.616,
          60477.2,
          60822.784,
          61168.368,
          61513.952,
          61859.536,
          62205.12,
          62550.704,
          62896.288,
          63241.872,
          63587.456,
          63933.04,
          64278.624,
          64624.208,
          64969.792,
          65315.376,
          65660.96,
          66006.544,
          66352.128,
          66697.712,
          67043.296,
          67388.88,
          67734.464,
          68080.048,
          68425.632,
          68771.216,
          69116.8,
          69462.384,
          69807.968,
          70153.552,
          70499.136,
          70844.72,
          71190.304,
          71535.888,
          71881.472,
          72227.056,
          72572.64,
          72918.224,
          73263.808,
          73609.392,
          73954.976,
          74300.56,
          74646.144,
          74991.728,
          75337.312,
          75682.896,
          76028.48,
          76374.064,
          76719.648,
          77065.232,
          77410.816,
          77756.4,
          78101.984,
          78447.568,
          78793.152,
          79138.736,
          79484.32,
          79829.904,
          80175.488,
          80521.072,
          80866.656,
          81212.24,
          81557.824,
          81903.408,
          82248.992,
          82594.576,
          82940.16,
          83285.744,
          83631.328,
          83976.912,
          84322.496,
          84668.08,
          85013.664,
          85359.248,
          85704.832,
          86050.416,
          86396,
          86741.584,
          87087.168,
          87432.752,
          87778.336,
          88123.92,
          88469.504,
          88815.088,
          89160.672,
          89506.256,
          89851.84,
          90197.424,
          90543.008,
          90888.592,
          91234.176,
          91579.76,
          91925.344,
          92270.928,
          92616.512,
          92962.096,
          93307.68,
          93653.264,
          93998.848,
          94344.432,
          94690.016,
          95035.6,
          95381.184,
          95726.768,
          96072.352,
          96417.936,
          96763.52,
          97109.104,
          97454.688,
          97800.272,
          98145.856,
          98491.44,
          98837.024,
          99182.608,
          99528.192,
          99873.776,
          100219.36,
          100564.944,
          100910.528,
          101256.112,
          101601.696,
          101947.28,
          102292.864,
          102638.448,
          102984.032,
          103329.616,
          103675.2,
          104020.784,
          104366.368,
          104711.952,
          105057.536,
          105403.12,
          105748.704,
          106094.288,
          106439.872,
          106785.456,
          107131.04,
          107476.624,
          107822.208,
          108167.792,
          108513.376,
          108858.96,
          109204.544,
          109550.128,
          109895.712,
          110241.296,
          110586.88,
          110932.464,
          111278.048,
          111623.632,
          111969.216,
          112314.8,
          112660.384,
          113005.968,
          113351.552,
          113697.136,
          114042.72,
          114388.304,
          114733.888,
          115079.472,
          115425.056,
          115770.64,
          116116.224,
          116461.808,
          116807.392,
          117152.976,
          117498.56,
          117844.144,
          118189.728,
          118535.312,
          118880.896,
          119226.48,
          119572.064,
          119917.648,
          120263.232,
          120608.816,
          120954.4,
          121299.984,
          121645.568,
          121991.152,
          122336.736,
          122682.32,
          123027.904,
          123373.488,
          123719.072,
          124064.656,
          124410.24,
          124755.824,
          125101.408,
          125446.992,
          125792.576,
          126138.16,
          126483.744,
          126829.328,
          127174.912,
          127520.496,
          127866.08,
          128211.664,
          128557.248,
          128902.832,
          129248.416,
          129594,
          129939.584,
          130285.168,
          130630.752,
          130976.336,
          131321.92,
          131667.504,
          132013.088,
          132358.672,
          132704.256,
          133049.84,
          133395.424,
          133741.008,
          134086.592,
          134432.176,
          134777.76,
          135123.344,
          135468.928,
          135814.512,
          136160.096,
          136505.68,
          136851.264,
          137196.848,
          137542.432,
          137888.016,
          138233.6,
          138579.184,
          138924.768,
          139270.352,
          139615.936,
          139961.52,
          140307.104,
          140652.688,
          140998.272,
          141343.856,
          141689.44,
          142035.024,
          142380.608,
          142726.192,
          143071.776,
          143417.36,
          143762.944,
          144108.528,
          144454.112,
          144799.696,
          145145.28,
          145490.864,
          145836.448,
          146182.032,
          146527.616,
          146873.2,
          147218.784,
          147564.368,
          147909.952,
          148255.536,
          148601.12,
          148946.704,
          149292.288,
          149637.872,
          149983.456,
          150329.04,
          150674.624,
          151020.208,
          151365.792,
          151711.376,
          152056.96,
          152402.544,
          152748.128,
          153093.712,
          153439.296,
          153784.88,
          154130.464,
          154476.048,
          154821.632,
          155167.216,
          155512.8,
          155858.384,
          156203.968,
          156549.552,
          156895.136,
          157240.72,
          157586.304,
          157931.888,
          158277.472,
          158623.056,
          158968.64,
          159314.224,
          159659.808,
          160005.392,
          160350.976,
          160696.56,
          161042.144,
          161387.728,
          161733.312,
          162078.896,
          162424.48,
          162770.064,
          163115.648,
          163461.232,
          163806.816,
          164152.4,
          164497.984,
          164843.568,
          165189.152,
          165534.736,
          165880.32,
          166225.904,
          166571.488,
          166917.072,
          167262.656,
          167608.24,
          167953.824,
          168299.408,
          168644.992,
          168990.576,
          169336.16,
          169681.744,
          170027.328,
          170372.912,
          170718.496,
          171064.08,
          171409.664,
          171755.248,
          172100.832,
          172446.416
         ],
         "xaxis": "x",
         "y": [
          0.000001697347456086226,
          0.0000017892406860838062,
          0.000001875106662289505,
          0.0000019539240211315817,
          0.000002024814787484194,
          0.0000020870700001728196,
          0.000002140169352315841,
          0.0000021837939471416954,
          0.0000022178316034665912,
          0.000002242374511761339,
          0.0000022577094196194064,
          0.0000022643008918188014,
          0.000002262768523405099,
          0.000002253859265166271,
          0.0000022384162340774597,
          0.000002217345515980265,
          0.00000219158251832814,
          0.000002162059397021128,
          0.000002129674968038674,
          0.0000020952683311934044,
          0.00000205959719303171,
          0.000002023321594571912,
          0.0000019869934446533327,
          0.0000019510519490665077,
          0.000001915824726570105,
          0.0000018815341310018962,
          0.0000018483080671292573,
          0.000001816194406840058,
          0.0000017851779885078935,
          0.0000017551991191213409,
          0.0000017261724957825178,
          0.0000016980055169883938,
          0.0000016706150584078139,
          0.0000016439419340972001,
          0.0000016179624420037478,
          0.0000015926965909610441,
          0.0000015682128135695857,
          0.0000015446291740589583,
          0.0000015221112719306263,
          0.000001500867211665929,
          0.000001481140148483666,
          0.0000014631990243977305,
          0.000001447328174052436,
          0.0000014338165045343555,
          0.000001422946938147587,
          0.00000141498675454292,
          0.0000014101793829092124,
          0.000001408738081981337,
          0.0000014108418124353675,
          0.0000014166334607267712,
          0.0000014262204239961602,
          0.0000014396774207779606,
          0.0000014570512600447994,
          0.0000014783671889174081,
          0.0000015036363533035317,
          0.0000015328638503405995,
          0.0000015660568294637841,
          0.0000016032321108015968,
          0.0000016444228338374863,
          0.000001689683722236137,
          0.000001739094646910136,
          0.000001792762281809424,
          0.0000018508197675565135,
          0.000001913424418521531,
          0.000001980753621024303,
          0.0000020529991667167222,
          0.000002130360339872763,
          0.0000022130361262110283,
          0.0000023012169320790766,
          0.0000023950761967093983,
          0.000002494762249423482,
          0.0000026003907126324243,
          0.000002712037686308532,
          0.0000028297338772311614,
          0.0000029534597639182706,
          0.000003083141822512351,
          0.000003218649785632445,
          0.0000033597948693886424,
          0.0000035063288854050637,
          0.000003657944154693155,
          0.0000038142741563072327,
          0.000003974894871817512,
          0.000004139326821281707,
          0.000004307037821357342,
          0.000004477446525210012,
          0.000004649926821293156,
          0.0000048238131696183875,
          0.000004998406937320514,
          0.00000517298375982073,
          0.000005346801901645484,
          0.0000055191115259867515,
          0.000005689164710128659,
          0.000005856225971804274,
          0.000006019583006720395,
          0.000006178557286896823,
          0.000006332514139090871,
          0.000006480871916741141,
          0.0000066231098997298576,
          0.000006758774603685426,
          0.000006887484251983715,
          0.000007008931254393314,
          0.000007122882640061903,
          0.000007229178501787338,
          0.000007327728615221863,
          0.000007418507493160355,
          0.000007501548214399438,
          0.000007576935423367104,
          0.00000764479792710563,
          0.000007705301318490012,
          0.000007758641029150601,
          0.000007805036164694744,
          0.000007844724402420204,
          0.000007877958143023881,
          0.00000790500200908823,
          0.000007926131680880564,
          0.000007941633960959935,
          0.00000795180786947959,
          0.000007956966497383272,
          0.000007957439289376488,
          0.000007953574395832491,
          0.000007945740724359432,
          0.000007934329337960002,
          0.000007919753886306897,
          0.000007902449817070932,
          0.00000788287219158645,
          0.000007861492018651875,
          0.000007838791116317142,
          0.000007815255608175426,
          0.000007791368252068976,
          0.000007767599879605554,
          0.000007744400289671188,
          0.000007722188984437173,
          0.000007701346159669054,
          0.000007682204361436707,
          0.000007665041198951465,
          0.000007650073460067832,
          0.000007637452914970819,
          0.0000076272640186896715,
          0.000007619523638961728,
          0.000007614182847393351,
          0.000007611130723686315,
          0.00000761020003922174,
          0.000007611174611300593,
          0.000007613798055773269,
          0.000007617783615693654,
          0.000007622824708287954,
          0.0000076286058123309735,
          0.000007634813312831111,
          0.000007641145929061619,
          0.000007647324374415869,
          0.000007653099931106341,
          0.000007658261667941967,
          0.00000766264208379356,
          0.000007666121021265792,
          0.000007668627762522016,
          0.00000767014129016032,
          0.000007670688767914207,
          0.000007670342366006724,
          0.000007669214621200136,
          0.000007667452578692809,
          0.000007665231008939398,
          0.000007662745024280962,
          0.000007660202435730386,
          0.000007657816187892279,
          0.000007655797189368887,
          0.000007654347818073842,
          0.000007653656327679467,
          0.000007653892316465036,
          0.00000765520334751925,
          0.000007657712734803749,
          0.00000766151843861622,
          0.000007666692951868367,
          0.000007673284010222378,
          0.000007681315928223042,
          0.000007690791352390222,
          0.000007701693231398637,
          0.000007713986831543374,
          0.000007727621669694344,
          0.00000774253329100723,
          0.000007758644879036126,
          0.000007775868744871469,
          0.00000779410779301154,
          0.000007813257098720034,
          0.000007833205749804443,
          0.000007853839101993095,
          0.00000787504157028948,
          0.000007896700030201668,
          0.000007918707836091311,
          0.000007940969384640015,
          0.000007963405066766165,
          0.00000798595636928918,
          0.000008008590816494447,
          0.000008031306389214008,
          0.000008054135031363686,
          0.000008077144855419425,
          0.000008100440690962875,
          0.00000812416268335992,
          0.00000814848273946242,
          0.000008173598728157825,
          0.000008199726468138793,
          0.000008227089664610315,
          0.000008255908081986769,
          0.000008286384352227611,
          0.000008318689911131436,
          0.000008352950622010562,
          0.000008389232684289148,
          0.000008427529432517223,
          0.000008467749609997749,
          0.0000085097076534679,
          0.000008553116455128343,
          0.00000859758298070585,
          0.000008642607022227293,
          0.000008687583256706541,
          0.000008731806671225067,
          0.000008774481304367468,
          0.000008814732146393526,
          0.00000885161993776527,
          0.000008884158509418365,
          0.000008911334219899886,
          0.000008932126965959681,
          0.000008945532176540064,
          0.000008950583148096042,
          0.000008946373044910821,
          0.000008932075875017874,
          0.00000890696576368084,
          0.000008870433884729148,
          0.00000882200247683397,
          0.000008761335466860958,
          0.000008688245343573295,
          0.000008602696067955016,
          0.000008504801964908307,
          0.000008394822707027359,
          0.000008273154665238242,
          0.000008140319053533444,
          0.000007996947426325069,
          0.000007843765188647893,
          0.000007681573845069686,
          0.000007511232738581268,
          0.00000733364101471729,
          0.000007149720490327954,
          0.000006960400015284128,
          0.000006766601795741942,
          0.0000065692300080250655,
          0.000006369161882344768,
          0.000006167241285296679,
          0.000005964274688715285,
          0.000005761029288153017,
          0.000005558232933420786,
          0.0000053565754606671604,
          0.000005156710972657441,
          0.0000049592606013688776,
          0.000004764815303057658,
          0.000004573938277348996,
          0.000004387166664290932,
          0.000004205012251683968,
          0.000004027961014003517,
          0.000003856471398599546,
          0.0000036909713696184235,
          0.000003531854310764002,
          0.0000033794739707040146,
          0.0000032341387063642493,
          0.0000030961053368941803,
          0.000002965572962654928,
          0.0000028426771276871043,
          0.0000027274847098051155,
          0.000002619989909357818,
          0.0000025201116760150914,
          0.0000024276928635698165,
          0.000002342501337296398,
          0.000002264233179246593,
          0.000002192518047148749,
          0.0000021269266461765227,
          0.0000020669801742745345,
          0.000002012161505894253,
          0.0000019619277910244224,
          0.0000019157240712834857,
          0.0000018729974570884045,
          0.0000018332113732540546,
          0.000001795859367380199,
          0.0000017604779872841181,
          0.0000017266582702356216,
          0.000001694055445992838,
          0.0000016623965343016349,
          0.0000016314856110536923,
          0.0000016012066201757071,
          0.0000015715237145407144,
          0.0000015424792126083196,
          0.0000015141893523611344,
          0.0000014868381053923456,
          0.000001460669377795123,
          0.0000014359779681991332,
          0.0000014130996757281782,
          0.0000013924009520549702,
          0.0000013742684736943766,
          0.0000013590989758662608,
          0.0000013472896412160876,
          0.0000013392292794638088,
          0.0000013352904719533157,
          0.0000013358227923195591,
          0.0000013411471549519646,
          0.0000013515512899463579,
          0.00000136728629939042,
          0.0000013885642169032805,
          0.0000014155564712147415,
          0.0000014483931452166276,
          0.0000014871629234741589,
          0.0000015319136320143352,
          0.000001582653292030212,
          0.0000016393516311859596,
          0.0000017019420194297468,
          0.0000017703238174880971,
          0.0000018443651425656402,
          0.0000019239060646457236,
          0.0000020087622462564445,
          0.0000020987290275195512,
          0.000002193585936646047,
          0.000002293101574710358,
          0.0000023970387845923,
          0.0000025051599704428945,
          0.0000026172323897750845,
          0.0000027330331997486778,
          0.0000028523540070366517,
          0.000002975004651334325,
          0.0000031008159500099968,
          0.000003229641148489612,
          0.000003361355859316422,
          0.0000034958563323563805,
          0.0000036330559775247643,
          0.00000377288015605973,
          0.000003915259361504394,
          0.0000040601210205601614,
          0.000004207380249287442,
          0.000004356929993860336,
          0.0000045086310595292885,
          0.0000046623025798610195,
          0.000004817713495387056,
          0.000004974575593215821,
          0.0000051325386060646575,
          0.000005291187782149384,
          0.000005450044220727475,
          0.000005608568128319683,
          0.0000057661649962831695,
          0.000005922194541198147,
          0.000006075982095987879,
          0.000006226832001933776,
          0.000006374042439169836,
          0.000006516921053370932,
          0.000006654800694581855,
          0.000006787054583109831,
          0.000006913110256888776,
          0.000007032461731690979,
          0.000007144679414247741,
          0.000007249417441023877,
          0.0000073464182626032205,
          0.000007435514445358029,
          0.000007516627808025064,
          0.000007589766141684623,
          0.00000765501786938152,
          0.000007712545080304947,
          0.00000776257541936528,
          0.00000780539332511169,
          0.000007841331088565964,
          0.000007870760156336691,
          0.000007894083028920017,
          0.000007911726016105932,
          0.000007924133013618898,
          0.000007931760366075158,
          0.000007935072788425494,
          0.000007934540237282675,
          0.000007930635559896009,
          0.000007923832705051019,
          0.000007914605258270496,
          0.000007903425063041482,
          0.000007890760708466109,
          0.000007877075698645939,
          0.000007862826166202862,
          0.000007848458047158574,
          0.000007834403692290486,
          0.00000782107794680491,
          0.000007808873781945643,
          0.000007798157606035696,
          0.000007789264416363833,
          0.000007782492976151726,
          0.000007778101212259416,
          0.000007776302029754063,
          0.000007777259729962859,
          0.000007781087200522535,
          0.000007787844020759934,
          0.000007797535595084253,
          0.000007810113392411539,
          0.000007825476332418608,
          0.000007843473320742815,
          0.00000786390689633336,
          0.00000788653791592843,
          0.000007911091164212854,
          0.000007937261744566681,
          0.000007964722075703528,
          0.000007993129295076801,
          0.000008022132851958381,
          0.000008051382062851659,
          0.000008080533400309723,
          0.00000810925729415988,
          0.000008137244241794065,
          0.000008164210051465266,
          0.000008189900078482423,
          0.000008214092357438593,
          0.000008236599582026864,
          0.00000825726993493551,
          0.000008275986820935606,
          0.000008292667603341435,
          0.00000830726148460006,
          0.000008319746703096488,
          0.000008330127238270177,
          0.000008338429223485027,
          0.000008344697260356944,
          0.000008348990810121105,
          0.000008351380808722834,
          0.000008351946615214957,
          0.000008350773361117179,
          0.000008347949725304532,
          0.000008343566118802322,
          0.000008337713230093595,
          0.000008330480857437749,
          0.000008321956942328969,
          0.000008312226718654158,
          0.000008301371904984082,
          0.000008289469891130866,
          0.000008276592901670644,
          0.000008262807154751018,
          0.00000824817206964307,
          0.000008232739606528501,
          0.000008216553842656714,
          0.000008199650896786162,
          0.00000818205930653018,
          0.000008163800940243854,
          0.00000814489248744238,
          0.000008125347522248057,
          0.00000810517907716839,
          0.000008084402605008577,
          0.000008063039150737193,
          0.000008041118508591435,
          0.000008018682107831938,
          0.000007995785357477929,
          0.000007972499188554666,
          0.00000794891056241772,
          0.000007925121764271022,
          0.00000790124836881024,
          0.000007877415845168724,
          0.000007853754855151372,
          0.000007830395385603206,
          0.000007807459936140126,
          0.000007785056051576906,
          0.000007763268539232141,
          0.000007742151741544883,
          0.000007721722242233108,
          0.000007701952369437015,
          0.000007682764823383588,
          0.000007664028701862044,
          0.000007645557128088684,
          0.000007627106606879589,
          0.000007608378151350866,
          0.000007589020138440517,
          0.000007568632772026171,
          0.000007546773961324201,
          0.0000075229663630704866,
          0.000007496705291375235,
          0.000007467467171099338,
          0.000007434718200257147,
          0.000007397922894775452,
          0.000007356552214556368,
          0.000007310091012100782,
          0.000007258044602058914,
          0.000007199944319248215,
          0.0000071353520104481055,
          0.000007063863487342653,
          0.000006985111049446799,
          0.000006898765261309,
          0.000006804536232139018,
          0.000006702174692783638,
          0.000006591473189773026,
          0.000006472267715052258,
          0.0000063444400605795025,
          0.000006207921128630468,
          0.000006062695343022794,
          0.000005908806197528006,
          0.000005746362851759736,
          0.000005575547550174996,
          0.000005396623506475834,
          0.0000052099427745622565,
          0.000005015953529263215,
          0.000004815206115540979,
          0.000004608357202072428,
          0.000004396171399757077,
          0.000004179519780059331,
          0.000003959374850598455,
          0.0000037368017104920474,
          0.000003512945306302105,
          0.000003289013928517034,
          0.0000030662593135147676,
          0.000002845953930965831
         ],
         "yaxis": "y"
        },
        {
         "legendgroup": "Fraud",
         "marker": {
          "color": "rgb(255, 127, 14)"
         },
         "mode": "lines",
         "name": "Fraud",
         "showlegend": true,
         "type": "scatter",
         "x": [
          406,
          745.884,
          1085.768,
          1425.652,
          1765.536,
          2105.42,
          2445.304,
          2785.188,
          3125.072,
          3464.956,
          3804.84,
          4144.724,
          4484.608,
          4824.492,
          5164.376,
          5504.26,
          5844.144,
          6184.028,
          6523.912,
          6863.796,
          7203.68,
          7543.564,
          7883.448,
          8223.332,
          8563.216,
          8903.1,
          9242.984,
          9582.868,
          9922.752,
          10262.636,
          10602.52,
          10942.404,
          11282.288,
          11622.172,
          11962.056,
          12301.94,
          12641.824,
          12981.708,
          13321.592,
          13661.476,
          14001.36,
          14341.244,
          14681.128,
          15021.012,
          15360.896,
          15700.78,
          16040.664,
          16380.548,
          16720.432,
          17060.316,
          17400.2,
          17740.084,
          18079.968,
          18419.852,
          18759.736,
          19099.62,
          19439.504,
          19779.388,
          20119.272,
          20459.156,
          20799.04,
          21138.924,
          21478.808,
          21818.692,
          22158.576,
          22498.46,
          22838.344,
          23178.228,
          23518.112,
          23857.996,
          24197.88,
          24537.764,
          24877.648,
          25217.532,
          25557.416,
          25897.3,
          26237.184,
          26577.068,
          26916.952,
          27256.836,
          27596.72,
          27936.604,
          28276.488,
          28616.372,
          28956.256,
          29296.14,
          29636.024,
          29975.908,
          30315.792,
          30655.676,
          30995.56,
          31335.444,
          31675.328,
          32015.212,
          32355.096,
          32694.98,
          33034.864,
          33374.748,
          33714.632,
          34054.516,
          34394.4,
          34734.284,
          35074.168,
          35414.052,
          35753.936,
          36093.82,
          36433.704,
          36773.588,
          37113.472,
          37453.356,
          37793.24,
          38133.124,
          38473.008,
          38812.892,
          39152.776,
          39492.66,
          39832.544,
          40172.428,
          40512.312,
          40852.196,
          41192.08,
          41531.964,
          41871.848,
          42211.732,
          42551.616,
          42891.5,
          43231.384,
          43571.268,
          43911.152,
          44251.036,
          44590.92,
          44930.804,
          45270.688,
          45610.572,
          45950.456,
          46290.34,
          46630.224,
          46970.108,
          47309.992,
          47649.876,
          47989.76,
          48329.644,
          48669.528,
          49009.412,
          49349.296,
          49689.18,
          50029.064,
          50368.948,
          50708.832,
          51048.716,
          51388.6,
          51728.484,
          52068.368,
          52408.252,
          52748.136,
          53088.02,
          53427.904,
          53767.788,
          54107.672,
          54447.556,
          54787.44,
          55127.324,
          55467.208,
          55807.092,
          56146.976,
          56486.86,
          56826.744,
          57166.628,
          57506.512,
          57846.396,
          58186.28,
          58526.164,
          58866.048,
          59205.932,
          59545.816,
          59885.7,
          60225.584,
          60565.468,
          60905.352,
          61245.236,
          61585.12,
          61925.004,
          62264.888,
          62604.772,
          62944.656,
          63284.54,
          63624.424,
          63964.308,
          64304.192,
          64644.076,
          64983.96,
          65323.844,
          65663.728,
          66003.612,
          66343.496,
          66683.38,
          67023.264,
          67363.148,
          67703.032,
          68042.916,
          68382.8,
          68722.684,
          69062.568,
          69402.452,
          69742.336,
          70082.22,
          70422.104,
          70761.988,
          71101.872,
          71441.756,
          71781.64,
          72121.524,
          72461.408,
          72801.292,
          73141.176,
          73481.06,
          73820.944,
          74160.828,
          74500.712,
          74840.596,
          75180.48,
          75520.364,
          75860.248,
          76200.132,
          76540.016,
          76879.9,
          77219.784,
          77559.668,
          77899.552,
          78239.436,
          78579.32,
          78919.204,
          79259.088,
          79598.972,
          79938.856,
          80278.74,
          80618.624,
          80958.508,
          81298.392,
          81638.276,
          81978.16,
          82318.044,
          82657.928,
          82997.812,
          83337.696,
          83677.58,
          84017.464,
          84357.348,
          84697.232,
          85037.116,
          85377,
          85716.884,
          86056.768,
          86396.652,
          86736.536,
          87076.42,
          87416.304,
          87756.188,
          88096.072,
          88435.956,
          88775.84,
          89115.724,
          89455.608,
          89795.492,
          90135.376,
          90475.26,
          90815.144,
          91155.028,
          91494.912,
          91834.796,
          92174.68,
          92514.564,
          92854.448,
          93194.332,
          93534.216,
          93874.1,
          94213.984,
          94553.868,
          94893.752,
          95233.636,
          95573.52,
          95913.404,
          96253.288,
          96593.172,
          96933.056,
          97272.94,
          97612.824,
          97952.708,
          98292.592,
          98632.476,
          98972.36,
          99312.244,
          99652.128,
          99992.012,
          100331.896,
          100671.78,
          101011.664,
          101351.548,
          101691.432,
          102031.316,
          102371.2,
          102711.084,
          103050.968,
          103390.852,
          103730.736,
          104070.62,
          104410.504,
          104750.388,
          105090.272,
          105430.156,
          105770.04,
          106109.924,
          106449.808,
          106789.692,
          107129.576,
          107469.46,
          107809.344,
          108149.228,
          108489.112,
          108828.996,
          109168.88,
          109508.764,
          109848.648,
          110188.532,
          110528.416,
          110868.3,
          111208.184,
          111548.068,
          111887.952,
          112227.836,
          112567.72,
          112907.604,
          113247.488,
          113587.372,
          113927.256,
          114267.14,
          114607.024,
          114946.908,
          115286.792,
          115626.676,
          115966.56,
          116306.444,
          116646.328,
          116986.212,
          117326.096,
          117665.98,
          118005.864,
          118345.748,
          118685.632,
          119025.516,
          119365.4,
          119705.284,
          120045.168,
          120385.052,
          120724.936,
          121064.82,
          121404.704,
          121744.588,
          122084.472,
          122424.356,
          122764.24,
          123104.124,
          123444.008,
          123783.892,
          124123.776,
          124463.66,
          124803.544,
          125143.428,
          125483.312,
          125823.196,
          126163.08,
          126502.964,
          126842.848,
          127182.732,
          127522.616,
          127862.5,
          128202.384,
          128542.268,
          128882.152,
          129222.036,
          129561.92,
          129901.804,
          130241.688,
          130581.572,
          130921.456,
          131261.34,
          131601.224,
          131941.108,
          132280.992,
          132620.876,
          132960.76,
          133300.644,
          133640.528,
          133980.412,
          134320.296,
          134660.18,
          135000.064,
          135339.948,
          135679.832,
          136019.716,
          136359.6,
          136699.484,
          137039.368,
          137379.252,
          137719.136,
          138059.02,
          138398.904,
          138738.788,
          139078.672,
          139418.556,
          139758.44,
          140098.324,
          140438.208,
          140778.092,
          141117.976,
          141457.86,
          141797.744,
          142137.628,
          142477.512,
          142817.396,
          143157.28,
          143497.164,
          143837.048,
          144176.932,
          144516.816,
          144856.7,
          145196.584,
          145536.468,
          145876.352,
          146216.236,
          146556.12,
          146896.004,
          147235.888,
          147575.772,
          147915.656,
          148255.54,
          148595.424,
          148935.308,
          149275.192,
          149615.076,
          149954.96,
          150294.844,
          150634.728,
          150974.612,
          151314.496,
          151654.38,
          151994.264,
          152334.148,
          152674.032,
          153013.916,
          153353.8,
          153693.684,
          154033.568,
          154373.452,
          154713.336,
          155053.22,
          155393.104,
          155732.988,
          156072.872,
          156412.756,
          156752.64,
          157092.524,
          157432.408,
          157772.292,
          158112.176,
          158452.06,
          158791.944,
          159131.828,
          159471.712,
          159811.596,
          160151.48,
          160491.364,
          160831.248,
          161171.132,
          161511.016,
          161850.9,
          162190.784,
          162530.668,
          162870.552,
          163210.436,
          163550.32,
          163890.204,
          164230.088,
          164569.972,
          164909.856,
          165249.74,
          165589.624,
          165929.508,
          166269.392,
          166609.276,
          166949.16,
          167289.044,
          167628.928,
          167968.812,
          168308.696,
          168648.58,
          168988.464,
          169328.348,
          169668.232,
          170008.116
         ],
         "xaxis": "x",
         "y": [
          0.0000025725270199184186,
          0.0000026310058058129383,
          0.0000026897686304363113,
          0.000002748786647363209,
          0.0000028080309928186178,
          0.0000028674728524427232,
          0.000002927083527927629,
          0.0000029868345032672523,
          0.000003046697510360476,
          0.000003106644593707739,
          0.0000031666481739421243,
          0.0000032266811099387665,
          0.000003286716759249754,
          0.0000033467290366169334,
          0.0000034066924703207853,
          0.0000034665822561312503,
          0.0000035263743086346612,
          0.000003586045309720728,
          0.0000036455727540243725,
          0.000003704934991128807,
          0.000003764111264349627,
          0.000003823081745932931,
          0.0000038818275685156236,
          0.000003940330852711665,
          0.000003998574730703817,
          0.000004056543365738184,
          0.000004114221967435875,
          0.000004171596802854251,
          0.00000422865520324932,
          0.0000042853855665086814,
          0.000004341777355244726,
          0.000004397821090555965,
          0.0000044535083414842744,
          0.000004508831710215101,
          0.0000045637848130863,
          0.000004618362257490829,
          0.000004672559614776593,
          0.000004726373389264856,
          0.0000047798009835267726,
          0.000004832840660073918,
          0.0000048854914996356455,
          0.000004937753356211278,
          0.000004989626809100186,
          0.00000504111311212635,
          0.0000050922141402872045,
          0.000005142932334068026,
          0.000005193270641674184,
          0.0000052432324594427434,
          0.0000052928215707039586,
          0.000005342042083369238,
          0.000005390898366529312,
          0.000005439394986349832,
          0.000005487536641555415,
          0.0000055353280987949695,
          0.000005582774128181599,
          0.000005629879439299518,
          0.000005676648617968544,
          0.000005723086064053026,
          0.000005769195930597303,
          0.000005814982064563845,
          0.000005860447949442463,
          0.000005905596649991412,
          0.000005950430759359787,
          0.000005994952348831379,
          0.000006039162920417333,
          0.0000060830633625115504,
          0.000006126653908809836,
          0.000006169934100677941,
          0.000006212902753138355,
          0.000006255557924628917,
          0.000006297896890669671,
          0.000006339916121555685,
          0.000006381611264176304,
          0.000006422977128041518,
          0.000006464007675577935,
          0.000006504696016736771,
          0.000006545034407937351,
          0.000006585014255349519,
          0.0000066246261224990165,
          0.000006663859742160641,
          0.000006702704032484233,
          0.000006741147117280074,
          0.000006779176350371278,
          0.0000068167783439031485,
          0.0000068539390004813194,
          0.000006890643548994117,
          0.0000069268765839581094,
          0.000006962622108210547,
          0.000006997863578757841,
          0.000007032583955575587,
          0.000007066765753143314,
          0.000007100391094485442,
          0.00000713344176747952,
          0.000007165899283183912,
          0.000007197744935928862,
          0.000007228959864908295,
          0.0000072595251170041,
          0.0000072894217105707835,
          0.000007318630699905537,
          0.000007347133240126908,
          0.000007374910652185972,
          0.000007401944487734288,
          0.000007428216593576158,
          0.000007453709175436182,
          0.000007478404860778611,
          0.000007502286760421194,
          0.000007525338528694,
          0.000007547544421902765,
          0.000007568889354865974,
          0.000007589358955305963,
          0.0000076089396158869455,
          0.0000076276185437049614,
          0.000007645383807049724,
          0.000007662224379271765,
          0.000007678130179605082,
          0.000007693092110809923,
          0.000007707102093518343,
          0.000007720153097180765,
          0.00000773223916753028,
          0.00000774335545049777,
          0.000007753498212529612,
          0.000007762664857276409,
          0.000007770853938639617,
          0.000007778065170179877,
          0.000007784299430908184,
          0.000007789558767497564,
          0.000007793846392970039,
          0.00000779716668192795,
          0.000007799525162415756,
          0.000007800928504511102,
          0.000007801384505758749,
          0.000007800902073572752,
          0.00000779949120474543,
          0.000007797162962210432,
          0.000007793929449219127,
          0.000007789803781096399,
          0.000007784800054750648,
          0.000007778933316118147,
          0.000007772219525727597,
          0.000007764675522574614,
          0.00000775631898649779,
          0.000007747168399250416,
          0.000007737243004461252,
          0.000007726562766677172,
          0.000007715148329678115,
          0.000007703020974251558,
          0.000007690202575608858,
          0.00000767671556062078,
          0.000007662582865042432,
          0.000007647827890890533,
          0.00000763247446412764,
          0.0000076165467927982415,
          0.000007600069425751878,
          0.000007583067212077927,
          0.000007565565261364991,
          0.000007547588904886183,
          0.000007529163657799741,
          0.000007510315182441231,
          0.000007491069252771464,
          0.000007471451720031027,
          0.000007451488479639303,
          0.000007431205439363626,
          0.000007410628488770476,
          0.0000073897834699591784,
          0.000007368696149565699,
          0.000007347392192012733,
          0.000007325897133970948,
          0.00000730423635998556,
          0.000007282435079212543,
          0.000007260518303199246,
          0.000007238510824635931,
          0.000007216437196996779,
          0.000007194321714982592,
          0.000007172188395671026,
          0.00000715006096027575,
          0.0000071279628164118935,
          0.000007105917040762377,
          0.000007083946362037863,
          0.00000706207314412266,
          0.000007040319369298783,
          0.000007018706621442342,
          0.000006997256069088546,
          0.000006975988448265334,
          0.000006954924045000071,
          0.000006934082677409288,
          0.0000069134836772881,
          0.000006893145871122829,
          0.000006873087560459115,
          0.0000068533265015665985,
          0.000006833879884350618,
          0.0000068147643104725706,
          0.000006795995770650816,
          0.000006777589621125901,
          0.000006759560559286022,
          0.000006741922598460666,
          0.000006724689041902917,
          0.000006707872455994472,
          0.0000066914846427192735,
          0.000006675536611465735,
          0.00000666003855022945,
          0.000006644999796301857,
          0.000006630428806542279,
          0.000006616333127343136,
          0.00000660271936441016,
          0.000006589593152489992,
          0.000006576959125189144,
          0.000006564820885037666,
          0.000006553180973960314,
          0.000006542040844326773,
          0.000006531400830759609,
          0.000006521260122885779,
          0.000006511616739222865,
          0.000006502467502396011,
          0.0000064938080158847915,
          0.000006485632642502066,
          0.000006477934484807599,
          0.000006470705367659423,
          0.000006463935823104737,
          0.000006457615077809518,
          0.0000064517310432223365,
          0.000006446270308662627,
          0.000006441218137517905,
          0.00000643655846672634,
          0.000006432273909712533,
          0.000006428345762934644,
          0.000006424754016189525,
          0.0000064214773668104815,
          0.000006418493237878816,
          0.000006415777800556125,
          0.000006413306000628759,
          0.0000064110515893397576,
          0.000006408987158566516,
          0.000006407084180384325,
          0.000006405313051037887,
          0.0000064036431393233005,
          0.000006402042839363787,
          0.000006400479627742147,
          0.000006398920124932858,
          0.000006397330160956057,
          0.000006395674845154959,
          0.0000063939186399780624,
          0.0000063920254386263285,
          0.00000638995864640597,
          0.00000638768126560702,
          0.000006385155983708638,
          0.000006382345264692887,
          0.000006379211443230842,
          0.000006375716821486896,
          0.000006371823768270629,
          0.000006367494820249907,
          0.000006362692784924035,
          0.000006357380845042472,
          0.0000063515226641418096,
          0.000006345082492863202,
          0.000006338025275702306,
          0.00000633031675783569,
          0.000006321923591660976,
          0.000006312813442682563,
          0.000006302955094371123,
          0.000006292318551623299,
          0.000006280875142447134,
          0.000006268597617500529,
          0.0000062554602471125774,
          0.0000062414389154223915,
          0.000006226511211276388,
          0.000006210656515532497,
          0.0000061938560844299705,
          0.000006176093128693816,
          0.0000061573528880561844,
          0.000006137622700890801,
          0.0000061168920686722895,
          0.00000609515271498915,
          0.0000060723986388573735,
          0.000006048626162101344,
          0.000006023833970588853,
          0.000005998023149129174,
          0.000005971197209865401,
          0.000005943362114015651,
          0.000005914526286842008,
          0.000005884700625750639,
          0.000005853898501451924,
          0.000005822135752134675,
          0.0000057894306706348915,
          0.0000057558039846049595,
          0.000005721278829715635,
          0.000005685880715948571,
          0.000005649637487063369,
          0.000005612579273347977,
          0.000005574738437786229,
          0.000005536149515800898,
          0.00000549684914875355,
          0.000005456876011406088,
          0.0000054162707335700106,
          0.0000053750758161907535,
          0.000005333335542134214,
          0.000005291095881960868,
          0.000005248404394990797,
          0.000005205310125978372,
          0.000005161863497730501,
          0.000005118116200015251,
          0.000005074121075119351,
          0.000005029932000423422,
          0.000004985603768372088,
          0.000004941191964223304,
          0.000004896752841966393,
          0.00000485234319880216,
          0.000004808020248580191,
          0.000004763841494589364,
          0.000004719864602095872,
          0.000004676147271020593,
          0.000004632747109143135,
          0.000004589721506214109,
          0.000004547127509349559,
          0.000004505021700072854,
          0.000004463460073358997,
          0.0000044224979190248335,
          0.000004382189705795714,
          0.000004342588968365247,
          0.000004303748197749751,
          0.000004265718735222607,
          0.000004228550670097034,
          0.000004192292741607468,
          0.000004156992245121314,
          0.000004122694942893464,
          0.000004089444979555856,
          0.000004057284802514108,
          0.000004026255087402529,
          0.000003996394668727529,
          0.000003967740475808403,
          0.000003940327474103151,
          0.000003914188611985556,
          0.000003889354773018637,
          0.000003865854733748632,
          0.000003843715127022968,
          0.000003822960410815293,
          0.0000038036128425209813,
          0.000003785692458667052,
          0.000003769217059961994,
          0.000003754202201592922,
          0.0000037406611886604264,
          0.000003728605076625154,
          0.0000037180426766247457,
          0.000003708980565505328,
          0.00000370142310039843,
          0.000003695372437661674,
          0.0000036908285559905345,
          0.000003687789283498205,
          0.000003686250328551705,
          0.000003686205314144638,
          0.0000036876458155803856,
          0.0000036905614012342007,
          0.0000036949396761586576,
          0.0000037007663282937523,
          0.0000037080251770415627,
          0.000003716698223964658,
          0.00000372676570536829,
          0.0000037382061465281578,
          0.000003750996417328555,
          0.0000037651117890798223,
          0.0000037805259922891007,
          0.0000037972112751645694,
          0.000003815138462640425,
          0.000003834277015717924,
          0.00000385459509092663,
          0.000003876059599719658,
          0.000003898636267627168,
          0.000003922289693003299,
          0.000003946983405213356,
          0.0000039726799221203845,
          0.00000399934080674246,
          0.000004026926722965422,
          0.000004055397490208563,
          0.000004084712136954444,
          0.0000041148289530674665,
          0.00000414570554083936,
          0.000004177298864713326,
          0.000004209565299651933,
          0.0000042424606781271595,
          0.000004275940335723666,
          0.000004309959155359336,
          0.000004344471610138979,
          0.00000437943180486875,
          0.0000044147935162702665,
          0.000004450510231943434,
          0.000004486535188137169,
          0.000004522821406396071,
          0.000004559321729159453,
          0.000004595988854396512,
          0.000004632775369368175,
          0.000004669633783611571,
          0.000004706516561248101,
          0.000004743376152719514,
          0.000004780165026059656,
          0.000004816835697810895,
          0.0000048533407636952975,
          0.000004889632929150575,
          0.000004925665039839297,
          0.000004961390112238059,
          0.000004996761364410147,
          0.000005031732247060993,
          0.000005066256474971185,
          0.00000510028805889563,
          0.000005133781338011263,
          0.0000051666910129878835,
          0.0000051989721797491105,
          0.000005230580363981222,
          0.00000526147155643864,
          0.000005291602249084776,
          0.000005320929472096579,
          0.000005349410831750429,
          0.000005377004549195869,
          0.000005403669500112424,
          0.000005429365255233112,
          0.000005454052121706752,
          0.00000547769118525958,
          0.00000550024435310493,
          0.0000055216743975386395,
          0.000005541945000146369,
          0.000005561020796538229,
          0.000005578867421515788,
          0.000005595451554565916,
          0.000005610740965567116,
          0.000005624704560584352,
          0.0000056373124276203065,
          0.000005648535882183501,
          0.000005658347512526507,
          0.000005666721224401678,
          0.0000056736322851763365,
          0.000005679057367145257,
          0.000005682974589874614,
          0.00000568536356140919,
          0.000005686205418173049,
          0.000005685482863393367,
          0.000005683180203877497,
          0.000005679283384974734,
          0.000005673780023556718,
          0.000005666659438853747,
          0.000005657912680988523,
          0.000005647532557054241,
          0.00000563551365459,
          0.000005621852362313586,
          0.000005606546887979509,
          0.000005589597273238929,
          0.000005571005405387347,
          0.000005550775025896202,
          0.000005528911735635079,
          0.000005505422996702589,
          0.000005480318130795817,
          0.000005453608314060394,
          0.000005425306568375871,
          0.000005395427749044038,
          0.000005363988528860966,
          0.000005331007378566766,
          0.000005296504543680576,
          0.0000052605020177416475,
          0.0000052230235119907465,
          0.000005184094421539271,
          0.000005143741788086644,
          0.000005101994259259249,
          0.00000505888204465646,
          0.0000050144368687017364,
          0.000004968691920407994,
          0.000004921681800177755,
          0.000004873442463769114,
          0.000004824011163568484,
          0.000004773426387320357,
          0.000004721727794472902,
          0.000004668956150306307,
          0.000004615153258017563,
          0.000004560361888942082,
          0.000004504625711097861,
          0.000004447989216242829,
          0.00000439049764563976,
          0.000004332196914726348,
          0.00000427313353689029,
          0.000004213354546550483,
          0.000004152907421746282,
          0.000004091840006436426,
          0.000004030200432708102,
          0.000003968037043095123,
          0.000003905398313201444,
          0.000003842332774823002,
          0.000003778888939757,
          0.000003715115224483064,
          0.0000036510598758955166,
          0.0000035867708982600254,
          0.0000035222959815618283,
          0.0000034576824314054783,
          0.0000033929771006189387,
          0.000003328226322707072,
          0.000003263475847291372,
          0.0000031987707776643126,
          0.000003134155510578029,
          0.0000030696736783780304,
          0.000003005368093583349,
          0.0000029412806960054663,
          0.000002877452502488683,
          0.0000028139235593453073,
          0.0000027507328975493902,
          0.0000026879184907434146
         ],
         "yaxis": "y"
        }
       ],
       "layout": {
        "barmode": "overlay",
        "hovermode": "closest",
        "legend": {
         "traceorder": "reversed"
        },
        "template": {
         "data": {
          "bar": [
           {
            "error_x": {
             "color": "#2a3f5f"
            },
            "error_y": {
             "color": "#2a3f5f"
            },
            "marker": {
             "line": {
              "color": "#E5ECF6",
              "width": 0.5
             },
             "pattern": {
              "fillmode": "overlay",
              "size": 10,
              "solidity": 0.2
             }
            },
            "type": "bar"
           }
          ],
          "barpolar": [
           {
            "marker": {
             "line": {
              "color": "#E5ECF6",
              "width": 0.5
             },
             "pattern": {
              "fillmode": "overlay",
              "size": 10,
              "solidity": 0.2
             }
            },
            "type": "barpolar"
           }
          ],
          "carpet": [
           {
            "aaxis": {
             "endlinecolor": "#2a3f5f",
             "gridcolor": "white",
             "linecolor": "white",
             "minorgridcolor": "white",
             "startlinecolor": "#2a3f5f"
            },
            "baxis": {
             "endlinecolor": "#2a3f5f",
             "gridcolor": "white",
             "linecolor": "white",
             "minorgridcolor": "white",
             "startlinecolor": "#2a3f5f"
            },
            "type": "carpet"
           }
          ],
          "choropleth": [
           {
            "colorbar": {
             "outlinewidth": 0,
             "ticks": ""
            },
            "type": "choropleth"
           }
          ],
          "contour": [
           {
            "colorbar": {
             "outlinewidth": 0,
             "ticks": ""
            },
            "colorscale": [
             [
              0,
              "#0d0887"
             ],
             [
              0.1111111111111111,
              "#46039f"
             ],
             [
              0.2222222222222222,
              "#7201a8"
             ],
             [
              0.3333333333333333,
              "#9c179e"
             ],
             [
              0.4444444444444444,
              "#bd3786"
             ],
             [
              0.5555555555555556,
              "#d8576b"
             ],
             [
              0.6666666666666666,
              "#ed7953"
             ],
             [
              0.7777777777777778,
              "#fb9f3a"
             ],
             [
              0.8888888888888888,
              "#fdca26"
             ],
             [
              1,
              "#f0f921"
             ]
            ],
            "type": "contour"
           }
          ],
          "contourcarpet": [
           {
            "colorbar": {
             "outlinewidth": 0,
             "ticks": ""
            },
            "type": "contourcarpet"
           }
          ],
          "heatmap": [
           {
            "colorbar": {
             "outlinewidth": 0,
             "ticks": ""
            },
            "colorscale": [
             [
              0,
              "#0d0887"
             ],
             [
              0.1111111111111111,
              "#46039f"
             ],
             [
              0.2222222222222222,
              "#7201a8"
             ],
             [
              0.3333333333333333,
              "#9c179e"
             ],
             [
              0.4444444444444444,
              "#bd3786"
             ],
             [
              0.5555555555555556,
              "#d8576b"
             ],
             [
              0.6666666666666666,
              "#ed7953"
             ],
             [
              0.7777777777777778,
              "#fb9f3a"
             ],
             [
              0.8888888888888888,
              "#fdca26"
             ],
             [
              1,
              "#f0f921"
             ]
            ],
            "type": "heatmap"
           }
          ],
          "heatmapgl": [
           {
            "colorbar": {
             "outlinewidth": 0,
             "ticks": ""
            },
            "colorscale": [
             [
              0,
              "#0d0887"
             ],
             [
              0.1111111111111111,
              "#46039f"
             ],
             [
              0.2222222222222222,
              "#7201a8"
             ],
             [
              0.3333333333333333,
              "#9c179e"
             ],
             [
              0.4444444444444444,
              "#bd3786"
             ],
             [
              0.5555555555555556,
              "#d8576b"
             ],
             [
              0.6666666666666666,
              "#ed7953"
             ],
             [
              0.7777777777777778,
              "#fb9f3a"
             ],
             [
              0.8888888888888888,
              "#fdca26"
             ],
             [
              1,
              "#f0f921"
             ]
            ],
            "type": "heatmapgl"
           }
          ],
          "histogram": [
           {
            "marker": {
             "pattern": {
              "fillmode": "overlay",
              "size": 10,
              "solidity": 0.2
             }
            },
            "type": "histogram"
           }
          ],
          "histogram2d": [
           {
            "colorbar": {
             "outlinewidth": 0,
             "ticks": ""
            },
            "colorscale": [
             [
              0,
              "#0d0887"
             ],
             [
              0.1111111111111111,
              "#46039f"
             ],
             [
              0.2222222222222222,
              "#7201a8"
             ],
             [
              0.3333333333333333,
              "#9c179e"
             ],
             [
              0.4444444444444444,
              "#bd3786"
             ],
             [
              0.5555555555555556,
              "#d8576b"
             ],
             [
              0.6666666666666666,
              "#ed7953"
             ],
             [
              0.7777777777777778,
              "#fb9f3a"
             ],
             [
              0.8888888888888888,
              "#fdca26"
             ],
             [
              1,
              "#f0f921"
             ]
            ],
            "type": "histogram2d"
           }
          ],
          "histogram2dcontour": [
           {
            "colorbar": {
             "outlinewidth": 0,
             "ticks": ""
            },
            "colorscale": [
             [
              0,
              "#0d0887"
             ],
             [
              0.1111111111111111,
              "#46039f"
             ],
             [
              0.2222222222222222,
              "#7201a8"
             ],
             [
              0.3333333333333333,
              "#9c179e"
             ],
             [
              0.4444444444444444,
              "#bd3786"
             ],
             [
              0.5555555555555556,
              "#d8576b"
             ],
             [
              0.6666666666666666,
              "#ed7953"
             ],
             [
              0.7777777777777778,
              "#fb9f3a"
             ],
             [
              0.8888888888888888,
              "#fdca26"
             ],
             [
              1,
              "#f0f921"
             ]
            ],
            "type": "histogram2dcontour"
           }
          ],
          "mesh3d": [
           {
            "colorbar": {
             "outlinewidth": 0,
             "ticks": ""
            },
            "type": "mesh3d"
           }
          ],
          "parcoords": [
           {
            "line": {
             "colorbar": {
              "outlinewidth": 0,
              "ticks": ""
             }
            },
            "type": "parcoords"
           }
          ],
          "pie": [
           {
            "automargin": true,
            "type": "pie"
           }
          ],
          "scatter": [
           {
            "marker": {
             "colorbar": {
              "outlinewidth": 0,
              "ticks": ""
             }
            },
            "type": "scatter"
           }
          ],
          "scatter3d": [
           {
            "line": {
             "colorbar": {
              "outlinewidth": 0,
              "ticks": ""
             }
            },
            "marker": {
             "colorbar": {
              "outlinewidth": 0,
              "ticks": ""
             }
            },
            "type": "scatter3d"
           }
          ],
          "scattercarpet": [
           {
            "marker": {
             "colorbar": {
              "outlinewidth": 0,
              "ticks": ""
             }
            },
            "type": "scattercarpet"
           }
          ],
          "scattergeo": [
           {
            "marker": {
             "colorbar": {
              "outlinewidth": 0,
              "ticks": ""
             }
            },
            "type": "scattergeo"
           }
          ],
          "scattergl": [
           {
            "marker": {
             "colorbar": {
              "outlinewidth": 0,
              "ticks": ""
             }
            },
            "type": "scattergl"
           }
          ],
          "scattermapbox": [
           {
            "marker": {
             "colorbar": {
              "outlinewidth": 0,
              "ticks": ""
             }
            },
            "type": "scattermapbox"
           }
          ],
          "scatterpolar": [
           {
            "marker": {
             "colorbar": {
              "outlinewidth": 0,
              "ticks": ""
             }
            },
            "type": "scatterpolar"
           }
          ],
          "scatterpolargl": [
           {
            "marker": {
             "colorbar": {
              "outlinewidth": 0,
              "ticks": ""
             }
            },
            "type": "scatterpolargl"
           }
          ],
          "scatterternary": [
           {
            "marker": {
             "colorbar": {
              "outlinewidth": 0,
              "ticks": ""
             }
            },
            "type": "scatterternary"
           }
          ],
          "surface": [
           {
            "colorbar": {
             "outlinewidth": 0,
             "ticks": ""
            },
            "colorscale": [
             [
              0,
              "#0d0887"
             ],
             [
              0.1111111111111111,
              "#46039f"
             ],
             [
              0.2222222222222222,
              "#7201a8"
             ],
             [
              0.3333333333333333,
              "#9c179e"
             ],
             [
              0.4444444444444444,
              "#bd3786"
             ],
             [
              0.5555555555555556,
              "#d8576b"
             ],
             [
              0.6666666666666666,
              "#ed7953"
             ],
             [
              0.7777777777777778,
              "#fb9f3a"
             ],
             [
              0.8888888888888888,
              "#fdca26"
             ],
             [
              1,
              "#f0f921"
             ]
            ],
            "type": "surface"
           }
          ],
          "table": [
           {
            "cells": {
             "fill": {
              "color": "#EBF0F8"
             },
             "line": {
              "color": "white"
             }
            },
            "header": {
             "fill": {
              "color": "#C8D4E3"
             },
             "line": {
              "color": "white"
             }
            },
            "type": "table"
           }
          ]
         },
         "layout": {
          "annotationdefaults": {
           "arrowcolor": "#2a3f5f",
           "arrowhead": 0,
           "arrowwidth": 1
          },
          "autotypenumbers": "strict",
          "coloraxis": {
           "colorbar": {
            "outlinewidth": 0,
            "ticks": ""
           }
          },
          "colorscale": {
           "diverging": [
            [
             0,
             "#8e0152"
            ],
            [
             0.1,
             "#c51b7d"
            ],
            [
             0.2,
             "#de77ae"
            ],
            [
             0.3,
             "#f1b6da"
            ],
            [
             0.4,
             "#fde0ef"
            ],
            [
             0.5,
             "#f7f7f7"
            ],
            [
             0.6,
             "#e6f5d0"
            ],
            [
             0.7,
             "#b8e186"
            ],
            [
             0.8,
             "#7fbc41"
            ],
            [
             0.9,
             "#4d9221"
            ],
            [
             1,
             "#276419"
            ]
           ],
           "sequential": [
            [
             0,
             "#0d0887"
            ],
            [
             0.1111111111111111,
             "#46039f"
            ],
            [
             0.2222222222222222,
             "#7201a8"
            ],
            [
             0.3333333333333333,
             "#9c179e"
            ],
            [
             0.4444444444444444,
             "#bd3786"
            ],
            [
             0.5555555555555556,
             "#d8576b"
            ],
            [
             0.6666666666666666,
             "#ed7953"
            ],
            [
             0.7777777777777778,
             "#fb9f3a"
            ],
            [
             0.8888888888888888,
             "#fdca26"
            ],
            [
             1,
             "#f0f921"
            ]
           ],
           "sequentialminus": [
            [
             0,
             "#0d0887"
            ],
            [
             0.1111111111111111,
             "#46039f"
            ],
            [
             0.2222222222222222,
             "#7201a8"
            ],
            [
             0.3333333333333333,
             "#9c179e"
            ],
            [
             0.4444444444444444,
             "#bd3786"
            ],
            [
             0.5555555555555556,
             "#d8576b"
            ],
            [
             0.6666666666666666,
             "#ed7953"
            ],
            [
             0.7777777777777778,
             "#fb9f3a"
            ],
            [
             0.8888888888888888,
             "#fdca26"
            ],
            [
             1,
             "#f0f921"
            ]
           ]
          },
          "colorway": [
           "#636efa",
           "#EF553B",
           "#00cc96",
           "#ab63fa",
           "#FFA15A",
           "#19d3f3",
           "#FF6692",
           "#B6E880",
           "#FF97FF",
           "#FECB52"
          ],
          "font": {
           "color": "#2a3f5f"
          },
          "geo": {
           "bgcolor": "white",
           "lakecolor": "white",
           "landcolor": "#E5ECF6",
           "showlakes": true,
           "showland": true,
           "subunitcolor": "white"
          },
          "hoverlabel": {
           "align": "left"
          },
          "hovermode": "closest",
          "mapbox": {
           "style": "light"
          },
          "paper_bgcolor": "white",
          "plot_bgcolor": "#E5ECF6",
          "polar": {
           "angularaxis": {
            "gridcolor": "white",
            "linecolor": "white",
            "ticks": ""
           },
           "bgcolor": "#E5ECF6",
           "radialaxis": {
            "gridcolor": "white",
            "linecolor": "white",
            "ticks": ""
           }
          },
          "scene": {
           "xaxis": {
            "backgroundcolor": "#E5ECF6",
            "gridcolor": "white",
            "gridwidth": 2,
            "linecolor": "white",
            "showbackground": true,
            "ticks": "",
            "zerolinecolor": "white"
           },
           "yaxis": {
            "backgroundcolor": "#E5ECF6",
            "gridcolor": "white",
            "gridwidth": 2,
            "linecolor": "white",
            "showbackground": true,
            "ticks": "",
            "zerolinecolor": "white"
           },
           "zaxis": {
            "backgroundcolor": "#E5ECF6",
            "gridcolor": "white",
            "gridwidth": 2,
            "linecolor": "white",
            "showbackground": true,
            "ticks": "",
            "zerolinecolor": "white"
           }
          },
          "shapedefaults": {
           "line": {
            "color": "#2a3f5f"
           }
          },
          "ternary": {
           "aaxis": {
            "gridcolor": "white",
            "linecolor": "white",
            "ticks": ""
           },
           "baxis": {
            "gridcolor": "white",
            "linecolor": "white",
            "ticks": ""
           },
           "bgcolor": "#E5ECF6",
           "caxis": {
            "gridcolor": "white",
            "linecolor": "white",
            "ticks": ""
           }
          },
          "title": {
           "x": 0.05
          },
          "xaxis": {
           "automargin": true,
           "gridcolor": "white",
           "linecolor": "white",
           "ticks": "",
           "title": {
            "standoff": 15
           },
           "zerolinecolor": "white",
           "zerolinewidth": 2
          },
          "yaxis": {
           "automargin": true,
           "gridcolor": "white",
           "linecolor": "white",
           "ticks": "",
           "title": {
            "standoff": 15
           },
           "zerolinecolor": "white",
           "zerolinewidth": 2
          }
         }
        },
        "title": {
         "text": "Credit Card Transactions Time Density Plot"
        },
        "xaxis": {
         "anchor": "y2",
         "domain": [
          0,
          1
         ],
         "title": {
          "text": "Time [s]"
         },
         "zeroline": false
        },
        "yaxis": {
         "anchor": "free",
         "domain": [
          0,
          1
         ],
         "position": 0
        }
       }
      },
      "text/html": [
       "<div>                            <div id=\"83c3df07-a81e-4986-a15c-98acb534c8f4\" class=\"plotly-graph-div\" style=\"height:525px; width:100%;\"></div>            <script type=\"text/javascript\">                require([\"plotly\"], function(Plotly) {                    window.PLOTLYENV=window.PLOTLYENV || {};                                    if (document.getElementById(\"83c3df07-a81e-4986-a15c-98acb534c8f4\")) {                    Plotly.newPlot(                        \"83c3df07-a81e-4986-a15c-98acb534c8f4\",                        [{\"legendgroup\":\"Not Fraud\",\"marker\":{\"color\":\"rgb(31, 119, 180)\"},\"mode\":\"lines\",\"name\":\"Not Fraud\",\"showlegend\":true,\"x\":[0.0,345.584,691.168,1036.752,1382.336,1727.92,2073.504,2419.088,2764.672,3110.256,3455.84,3801.424,4147.008,4492.592,4838.176,5183.76,5529.344,5874.928,6220.512,6566.096,6911.68,7257.264,7602.848,7948.432,8294.016,8639.6,8985.184,9330.768,9676.352,10021.936,10367.52,10713.104,11058.688,11404.272,11749.856,12095.44,12441.024,12786.608,13132.192,13477.776,13823.36,14168.944,14514.528,14860.112,15205.696,15551.28,15896.864,16242.448,16588.032,16933.616,17279.2,17624.784,17970.368,18315.952,18661.536,19007.12,19352.704,19698.288,20043.872,20389.456,20735.04,21080.624,21426.208,21771.792,22117.376,22462.96,22808.544,23154.128,23499.712,23845.296,24190.88,24536.464,24882.048,25227.632,25573.216,25918.8,26264.384,26609.968,26955.552,27301.136,27646.72,27992.304,28337.888,28683.472,29029.056,29374.64,29720.224,30065.808,30411.392,30756.976,31102.56,31448.144,31793.728,32139.312,32484.896,32830.48,33176.064,33521.648,33867.232,34212.816,34558.4,34903.984,35249.568,35595.152,35940.736,36286.32,36631.904,36977.488,37323.072,37668.656,38014.24,38359.824,38705.408,39050.992,39396.576,39742.16,40087.744,40433.328,40778.912,41124.496,41470.08,41815.664,42161.248,42506.832,42852.416,43198.0,43543.584,43889.168,44234.752,44580.336,44925.92,45271.504,45617.088,45962.672,46308.256,46653.84,46999.424,47345.008,47690.592,48036.176,48381.76,48727.344,49072.928,49418.512,49764.096,50109.68,50455.264,50800.848,51146.432,51492.016,51837.6,52183.184,52528.768,52874.352,53219.936,53565.52,53911.104,54256.688,54602.272,54947.856,55293.44,55639.024,55984.608,56330.192,56675.776,57021.36,57366.944,57712.528,58058.112,58403.696,58749.28,59094.864,59440.448,59786.032,60131.616,60477.2,60822.784,61168.368,61513.952,61859.536,62205.12,62550.704,62896.288,63241.872,63587.456,63933.04,64278.624,64624.208,64969.792,65315.376,65660.96,66006.544,66352.128,66697.712,67043.296,67388.88,67734.464,68080.048,68425.632,68771.216,69116.8,69462.384,69807.968,70153.552,70499.136,70844.72,71190.304,71535.888,71881.472,72227.056,72572.64,72918.224,73263.808,73609.392,73954.976,74300.56,74646.144,74991.728,75337.312,75682.896,76028.48,76374.064,76719.648,77065.232,77410.816,77756.4,78101.984,78447.568,78793.152,79138.736,79484.32,79829.904,80175.488,80521.072,80866.656,81212.24,81557.824,81903.408,82248.992,82594.576,82940.16,83285.744,83631.328,83976.912,84322.496,84668.08,85013.664,85359.248,85704.832,86050.416,86396.0,86741.584,87087.168,87432.752,87778.336,88123.92,88469.504,88815.088,89160.672,89506.256,89851.84,90197.424,90543.008,90888.592,91234.176,91579.76,91925.344,92270.928,92616.512,92962.096,93307.68,93653.264,93998.848,94344.432,94690.016,95035.6,95381.184,95726.768,96072.352,96417.936,96763.52,97109.104,97454.688,97800.272,98145.856,98491.44,98837.024,99182.608,99528.192,99873.776,100219.36,100564.944,100910.528,101256.112,101601.696,101947.28,102292.864,102638.448,102984.032,103329.616,103675.2,104020.784,104366.368,104711.952,105057.536,105403.12,105748.704,106094.288,106439.872,106785.456,107131.04,107476.624,107822.208,108167.792,108513.376,108858.96,109204.544,109550.128,109895.712,110241.296,110586.88,110932.464,111278.048,111623.632,111969.216,112314.8,112660.384,113005.968,113351.552,113697.136,114042.72,114388.304,114733.888,115079.472,115425.056,115770.64,116116.224,116461.808,116807.392,117152.976,117498.56,117844.144,118189.728,118535.312,118880.896,119226.48,119572.064,119917.648,120263.232,120608.816,120954.4,121299.984,121645.568,121991.152,122336.736,122682.32,123027.904,123373.488,123719.072,124064.656,124410.24,124755.824,125101.408,125446.992,125792.576,126138.16,126483.744,126829.328,127174.912,127520.496,127866.08,128211.664,128557.248,128902.832,129248.416,129594.0,129939.584,130285.168,130630.752,130976.336,131321.92,131667.504,132013.088,132358.672,132704.256,133049.84,133395.424,133741.008,134086.592,134432.176,134777.76,135123.344,135468.928,135814.512,136160.096,136505.68,136851.264,137196.848,137542.432,137888.016,138233.6,138579.184,138924.768,139270.352,139615.936,139961.52,140307.104,140652.688,140998.272,141343.856,141689.44,142035.024,142380.608,142726.192,143071.776,143417.36,143762.944,144108.528,144454.112,144799.696,145145.28,145490.864,145836.448,146182.032,146527.616,146873.2,147218.784,147564.368,147909.952,148255.536,148601.12,148946.704,149292.288,149637.872,149983.456,150329.04,150674.624,151020.208,151365.792,151711.376,152056.96,152402.544,152748.128,153093.712,153439.296,153784.88,154130.464,154476.048,154821.632,155167.216,155512.8,155858.384,156203.968,156549.552,156895.136,157240.72,157586.304,157931.888,158277.472,158623.056,158968.64,159314.224,159659.808,160005.392,160350.976,160696.56,161042.144,161387.728,161733.312,162078.896,162424.48,162770.064,163115.648,163461.232,163806.816,164152.4,164497.984,164843.568,165189.152,165534.736,165880.32,166225.904,166571.488,166917.072,167262.656,167608.24,167953.824,168299.408,168644.992,168990.576,169336.16,169681.744,170027.328,170372.912,170718.496,171064.08,171409.664,171755.248,172100.832,172446.416],\"xaxis\":\"x\",\"y\":[1.697347456086226e-06,1.7892406860838062e-06,1.875106662289505e-06,1.9539240211315817e-06,2.024814787484194e-06,2.0870700001728196e-06,2.140169352315841e-06,2.1837939471416954e-06,2.2178316034665912e-06,2.242374511761339e-06,2.2577094196194064e-06,2.2643008918188014e-06,2.262768523405099e-06,2.253859265166271e-06,2.2384162340774597e-06,2.217345515980265e-06,2.19158251832814e-06,2.162059397021128e-06,2.129674968038674e-06,2.0952683311934044e-06,2.05959719303171e-06,2.023321594571912e-06,1.9869934446533327e-06,1.9510519490665077e-06,1.915824726570105e-06,1.8815341310018962e-06,1.8483080671292573e-06,1.816194406840058e-06,1.7851779885078935e-06,1.7551991191213409e-06,1.7261724957825178e-06,1.6980055169883938e-06,1.6706150584078139e-06,1.6439419340972001e-06,1.6179624420037478e-06,1.5926965909610441e-06,1.5682128135695857e-06,1.5446291740589583e-06,1.5221112719306263e-06,1.500867211665929e-06,1.481140148483666e-06,1.4631990243977305e-06,1.447328174052436e-06,1.4338165045343555e-06,1.422946938147587e-06,1.41498675454292e-06,1.4101793829092124e-06,1.408738081981337e-06,1.4108418124353675e-06,1.4166334607267712e-06,1.4262204239961602e-06,1.4396774207779606e-06,1.4570512600447994e-06,1.4783671889174081e-06,1.5036363533035317e-06,1.5328638503405995e-06,1.5660568294637841e-06,1.6032321108015968e-06,1.6444228338374863e-06,1.689683722236137e-06,1.739094646910136e-06,1.792762281809424e-06,1.8508197675565135e-06,1.913424418521531e-06,1.980753621024303e-06,2.0529991667167222e-06,2.130360339872763e-06,2.2130361262110283e-06,2.3012169320790766e-06,2.3950761967093983e-06,2.494762249423482e-06,2.6003907126324243e-06,2.712037686308532e-06,2.8297338772311614e-06,2.9534597639182706e-06,3.083141822512351e-06,3.218649785632445e-06,3.3597948693886424e-06,3.5063288854050637e-06,3.657944154693155e-06,3.8142741563072327e-06,3.974894871817512e-06,4.139326821281707e-06,4.307037821357342e-06,4.477446525210012e-06,4.649926821293156e-06,4.8238131696183875e-06,4.998406937320514e-06,5.17298375982073e-06,5.346801901645484e-06,5.5191115259867515e-06,5.689164710128659e-06,5.856225971804274e-06,6.019583006720395e-06,6.178557286896823e-06,6.332514139090871e-06,6.480871916741141e-06,6.6231098997298576e-06,6.758774603685426e-06,6.887484251983715e-06,7.008931254393314e-06,7.122882640061903e-06,7.229178501787338e-06,7.327728615221863e-06,7.418507493160355e-06,7.501548214399438e-06,7.576935423367104e-06,7.64479792710563e-06,7.705301318490012e-06,7.758641029150601e-06,7.805036164694744e-06,7.844724402420204e-06,7.877958143023881e-06,7.90500200908823e-06,7.926131680880564e-06,7.941633960959935e-06,7.95180786947959e-06,7.956966497383272e-06,7.957439289376488e-06,7.953574395832491e-06,7.945740724359432e-06,7.934329337960002e-06,7.919753886306897e-06,7.902449817070932e-06,7.88287219158645e-06,7.861492018651875e-06,7.838791116317142e-06,7.815255608175426e-06,7.791368252068976e-06,7.767599879605554e-06,7.744400289671188e-06,7.722188984437173e-06,7.701346159669054e-06,7.682204361436707e-06,7.665041198951465e-06,7.650073460067832e-06,7.637452914970819e-06,7.6272640186896715e-06,7.619523638961728e-06,7.614182847393351e-06,7.611130723686315e-06,7.61020003922174e-06,7.611174611300593e-06,7.613798055773269e-06,7.617783615693654e-06,7.622824708287954e-06,7.6286058123309735e-06,7.634813312831111e-06,7.641145929061619e-06,7.647324374415869e-06,7.653099931106341e-06,7.658261667941967e-06,7.66264208379356e-06,7.666121021265792e-06,7.668627762522016e-06,7.67014129016032e-06,7.670688767914207e-06,7.670342366006724e-06,7.669214621200136e-06,7.667452578692809e-06,7.665231008939398e-06,7.662745024280962e-06,7.660202435730386e-06,7.657816187892279e-06,7.655797189368887e-06,7.654347818073842e-06,7.653656327679467e-06,7.653892316465036e-06,7.65520334751925e-06,7.657712734803749e-06,7.66151843861622e-06,7.666692951868367e-06,7.673284010222378e-06,7.681315928223042e-06,7.690791352390222e-06,7.701693231398637e-06,7.713986831543374e-06,7.727621669694344e-06,7.74253329100723e-06,7.758644879036126e-06,7.775868744871469e-06,7.79410779301154e-06,7.813257098720034e-06,7.833205749804443e-06,7.853839101993095e-06,7.87504157028948e-06,7.896700030201668e-06,7.918707836091311e-06,7.940969384640015e-06,7.963405066766165e-06,7.98595636928918e-06,8.008590816494447e-06,8.031306389214008e-06,8.054135031363686e-06,8.077144855419425e-06,8.100440690962875e-06,8.12416268335992e-06,8.14848273946242e-06,8.173598728157825e-06,8.199726468138793e-06,8.227089664610315e-06,8.255908081986769e-06,8.286384352227611e-06,8.318689911131436e-06,8.352950622010562e-06,8.389232684289148e-06,8.427529432517223e-06,8.467749609997749e-06,8.5097076534679e-06,8.553116455128343e-06,8.59758298070585e-06,8.642607022227293e-06,8.687583256706541e-06,8.731806671225067e-06,8.774481304367468e-06,8.814732146393526e-06,8.85161993776527e-06,8.884158509418365e-06,8.911334219899886e-06,8.932126965959681e-06,8.945532176540064e-06,8.950583148096042e-06,8.946373044910821e-06,8.932075875017874e-06,8.90696576368084e-06,8.870433884729148e-06,8.82200247683397e-06,8.761335466860958e-06,8.688245343573295e-06,8.602696067955016e-06,8.504801964908307e-06,8.394822707027359e-06,8.273154665238242e-06,8.140319053533444e-06,7.996947426325069e-06,7.843765188647893e-06,7.681573845069686e-06,7.511232738581268e-06,7.33364101471729e-06,7.149720490327954e-06,6.960400015284128e-06,6.766601795741942e-06,6.5692300080250655e-06,6.369161882344768e-06,6.167241285296679e-06,5.964274688715285e-06,5.761029288153017e-06,5.558232933420786e-06,5.3565754606671604e-06,5.156710972657441e-06,4.9592606013688776e-06,4.764815303057658e-06,4.573938277348996e-06,4.387166664290932e-06,4.205012251683968e-06,4.027961014003517e-06,3.856471398599546e-06,3.6909713696184235e-06,3.531854310764002e-06,3.3794739707040146e-06,3.2341387063642493e-06,3.0961053368941803e-06,2.965572962654928e-06,2.8426771276871043e-06,2.7274847098051155e-06,2.619989909357818e-06,2.5201116760150914e-06,2.4276928635698165e-06,2.342501337296398e-06,2.264233179246593e-06,2.192518047148749e-06,2.1269266461765227e-06,2.0669801742745345e-06,2.012161505894253e-06,1.9619277910244224e-06,1.9157240712834857e-06,1.8729974570884045e-06,1.8332113732540546e-06,1.795859367380199e-06,1.7604779872841181e-06,1.7266582702356216e-06,1.694055445992838e-06,1.6623965343016349e-06,1.6314856110536923e-06,1.6012066201757071e-06,1.5715237145407144e-06,1.5424792126083196e-06,1.5141893523611344e-06,1.4868381053923456e-06,1.460669377795123e-06,1.4359779681991332e-06,1.4130996757281782e-06,1.3924009520549702e-06,1.3742684736943766e-06,1.3590989758662608e-06,1.3472896412160876e-06,1.3392292794638088e-06,1.3352904719533157e-06,1.3358227923195591e-06,1.3411471549519646e-06,1.3515512899463579e-06,1.36728629939042e-06,1.3885642169032805e-06,1.4155564712147415e-06,1.4483931452166276e-06,1.4871629234741589e-06,1.5319136320143352e-06,1.582653292030212e-06,1.6393516311859596e-06,1.7019420194297468e-06,1.7703238174880971e-06,1.8443651425656402e-06,1.9239060646457236e-06,2.0087622462564445e-06,2.0987290275195512e-06,2.193585936646047e-06,2.293101574710358e-06,2.3970387845923e-06,2.5051599704428945e-06,2.6172323897750845e-06,2.7330331997486778e-06,2.8523540070366517e-06,2.975004651334325e-06,3.1008159500099968e-06,3.229641148489612e-06,3.361355859316422e-06,3.4958563323563805e-06,3.6330559775247643e-06,3.77288015605973e-06,3.915259361504394e-06,4.0601210205601614e-06,4.207380249287442e-06,4.356929993860336e-06,4.5086310595292885e-06,4.6623025798610195e-06,4.817713495387056e-06,4.974575593215821e-06,5.1325386060646575e-06,5.291187782149384e-06,5.450044220727475e-06,5.608568128319683e-06,5.7661649962831695e-06,5.922194541198147e-06,6.075982095987879e-06,6.226832001933776e-06,6.374042439169836e-06,6.516921053370932e-06,6.654800694581855e-06,6.787054583109831e-06,6.913110256888776e-06,7.032461731690979e-06,7.144679414247741e-06,7.249417441023877e-06,7.3464182626032205e-06,7.435514445358029e-06,7.516627808025064e-06,7.589766141684623e-06,7.65501786938152e-06,7.712545080304947e-06,7.76257541936528e-06,7.80539332511169e-06,7.841331088565964e-06,7.870760156336691e-06,7.894083028920017e-06,7.911726016105932e-06,7.924133013618898e-06,7.931760366075158e-06,7.935072788425494e-06,7.934540237282675e-06,7.930635559896009e-06,7.923832705051019e-06,7.914605258270496e-06,7.903425063041482e-06,7.890760708466109e-06,7.877075698645939e-06,7.862826166202862e-06,7.848458047158574e-06,7.834403692290486e-06,7.82107794680491e-06,7.808873781945643e-06,7.798157606035696e-06,7.789264416363833e-06,7.782492976151726e-06,7.778101212259416e-06,7.776302029754063e-06,7.777259729962859e-06,7.781087200522535e-06,7.787844020759934e-06,7.797535595084253e-06,7.810113392411539e-06,7.825476332418608e-06,7.843473320742815e-06,7.86390689633336e-06,7.88653791592843e-06,7.911091164212854e-06,7.937261744566681e-06,7.964722075703528e-06,7.993129295076801e-06,8.022132851958381e-06,8.051382062851659e-06,8.080533400309723e-06,8.10925729415988e-06,8.137244241794065e-06,8.164210051465266e-06,8.189900078482423e-06,8.214092357438593e-06,8.236599582026864e-06,8.25726993493551e-06,8.275986820935606e-06,8.292667603341435e-06,8.30726148460006e-06,8.319746703096488e-06,8.330127238270177e-06,8.338429223485027e-06,8.344697260356944e-06,8.348990810121105e-06,8.351380808722834e-06,8.351946615214957e-06,8.350773361117179e-06,8.347949725304532e-06,8.343566118802322e-06,8.337713230093595e-06,8.330480857437749e-06,8.321956942328969e-06,8.312226718654158e-06,8.301371904984082e-06,8.289469891130866e-06,8.276592901670644e-06,8.262807154751018e-06,8.24817206964307e-06,8.232739606528501e-06,8.216553842656714e-06,8.199650896786162e-06,8.18205930653018e-06,8.163800940243854e-06,8.14489248744238e-06,8.125347522248057e-06,8.10517907716839e-06,8.084402605008577e-06,8.063039150737193e-06,8.041118508591435e-06,8.018682107831938e-06,7.995785357477929e-06,7.972499188554666e-06,7.94891056241772e-06,7.925121764271022e-06,7.90124836881024e-06,7.877415845168724e-06,7.853754855151372e-06,7.830395385603206e-06,7.807459936140126e-06,7.785056051576906e-06,7.763268539232141e-06,7.742151741544883e-06,7.721722242233108e-06,7.701952369437015e-06,7.682764823383588e-06,7.664028701862044e-06,7.645557128088684e-06,7.627106606879589e-06,7.608378151350866e-06,7.589020138440517e-06,7.568632772026171e-06,7.546773961324201e-06,7.5229663630704866e-06,7.496705291375235e-06,7.467467171099338e-06,7.434718200257147e-06,7.397922894775452e-06,7.356552214556368e-06,7.310091012100782e-06,7.258044602058914e-06,7.199944319248215e-06,7.1353520104481055e-06,7.063863487342653e-06,6.985111049446799e-06,6.898765261309e-06,6.804536232139018e-06,6.702174692783638e-06,6.591473189773026e-06,6.472267715052258e-06,6.3444400605795025e-06,6.207921128630468e-06,6.062695343022794e-06,5.908806197528006e-06,5.746362851759736e-06,5.575547550174996e-06,5.396623506475834e-06,5.2099427745622565e-06,5.015953529263215e-06,4.815206115540979e-06,4.608357202072428e-06,4.396171399757077e-06,4.179519780059331e-06,3.959374850598455e-06,3.7368017104920474e-06,3.512945306302105e-06,3.289013928517034e-06,3.0662593135147676e-06,2.845953930965831e-06],\"yaxis\":\"y\",\"type\":\"scatter\"},{\"legendgroup\":\"Fraud\",\"marker\":{\"color\":\"rgb(255, 127, 14)\"},\"mode\":\"lines\",\"name\":\"Fraud\",\"showlegend\":true,\"x\":[406.0,745.884,1085.768,1425.652,1765.536,2105.42,2445.304,2785.188,3125.072,3464.956,3804.84,4144.724,4484.608,4824.492,5164.376,5504.26,5844.144,6184.028,6523.912,6863.796,7203.68,7543.564,7883.448,8223.332,8563.216,8903.1,9242.984,9582.868,9922.752,10262.636,10602.52,10942.404,11282.288,11622.172,11962.056,12301.94,12641.824,12981.708,13321.592,13661.476,14001.36,14341.244,14681.128,15021.012,15360.896,15700.78,16040.664,16380.548,16720.432,17060.316,17400.2,17740.084,18079.968,18419.852,18759.736,19099.62,19439.504,19779.388,20119.272,20459.156,20799.04,21138.924,21478.808,21818.692,22158.576,22498.46,22838.344,23178.228,23518.112,23857.996,24197.88,24537.764,24877.648,25217.532,25557.416,25897.3,26237.184,26577.068,26916.952,27256.836,27596.72,27936.604,28276.488,28616.372,28956.256,29296.14,29636.024,29975.908,30315.792,30655.676,30995.56,31335.444,31675.328,32015.212,32355.096,32694.98,33034.864,33374.748,33714.632,34054.516,34394.4,34734.284,35074.168,35414.052,35753.936,36093.82,36433.704,36773.588,37113.472,37453.356,37793.24,38133.124,38473.008,38812.892,39152.776,39492.66,39832.544,40172.428,40512.312,40852.196,41192.08,41531.964,41871.848,42211.732,42551.616,42891.5,43231.384,43571.268,43911.152,44251.036,44590.92,44930.804,45270.688,45610.572,45950.456,46290.34,46630.224,46970.108,47309.992,47649.876,47989.76,48329.644,48669.528,49009.412,49349.296,49689.18,50029.064,50368.948,50708.832,51048.716,51388.6,51728.484,52068.368,52408.252,52748.136,53088.02,53427.904,53767.788,54107.672,54447.556,54787.44,55127.324,55467.208,55807.092,56146.976,56486.86,56826.744,57166.628,57506.512,57846.396,58186.28,58526.164,58866.048,59205.932,59545.816,59885.7,60225.584,60565.468,60905.352,61245.236,61585.12,61925.004,62264.888,62604.772,62944.656,63284.54,63624.424,63964.308,64304.192,64644.076,64983.96,65323.844,65663.728,66003.612,66343.496,66683.38,67023.264,67363.148,67703.032,68042.916,68382.8,68722.684,69062.568,69402.452,69742.336,70082.22,70422.104,70761.988,71101.872,71441.756,71781.64,72121.524,72461.408,72801.292,73141.176,73481.06,73820.944,74160.828,74500.712,74840.596,75180.48,75520.364,75860.248,76200.132,76540.016,76879.9,77219.784,77559.668,77899.552,78239.436,78579.32,78919.204,79259.088,79598.972,79938.856,80278.74,80618.624,80958.508,81298.392,81638.276,81978.16,82318.044,82657.928,82997.812,83337.696,83677.58,84017.464,84357.348,84697.232,85037.116,85377.0,85716.884,86056.768,86396.652,86736.536,87076.42,87416.304,87756.188,88096.072,88435.956,88775.84,89115.724,89455.608,89795.492,90135.376,90475.26,90815.144,91155.028,91494.912,91834.796,92174.68,92514.564,92854.448,93194.332,93534.216,93874.1,94213.984,94553.868,94893.752,95233.636,95573.52,95913.404,96253.288,96593.172,96933.056,97272.94,97612.824,97952.708,98292.592,98632.476,98972.36,99312.244,99652.128,99992.012,100331.896,100671.78,101011.664,101351.548,101691.432,102031.316,102371.2,102711.084,103050.968,103390.852,103730.736,104070.62,104410.504,104750.388,105090.272,105430.156,105770.04,106109.924,106449.808,106789.692,107129.576,107469.46,107809.344,108149.228,108489.112,108828.996,109168.88,109508.764,109848.648,110188.532,110528.416,110868.3,111208.184,111548.068,111887.952,112227.836,112567.72,112907.604,113247.488,113587.372,113927.256,114267.14,114607.024,114946.908,115286.792,115626.676,115966.56,116306.444,116646.328,116986.212,117326.096,117665.98,118005.864,118345.748,118685.632,119025.516,119365.4,119705.284,120045.168,120385.052,120724.936,121064.82,121404.704,121744.588,122084.472,122424.356,122764.24,123104.124,123444.008,123783.892,124123.776,124463.66,124803.544,125143.428,125483.312,125823.196,126163.08,126502.964,126842.848,127182.732,127522.616,127862.5,128202.384,128542.268,128882.152,129222.036,129561.92,129901.804,130241.688,130581.572,130921.456,131261.34,131601.224,131941.108,132280.992,132620.876,132960.76,133300.644,133640.528,133980.412,134320.296,134660.18,135000.064,135339.948,135679.832,136019.716,136359.6,136699.484,137039.368,137379.252,137719.136,138059.02,138398.904,138738.788,139078.672,139418.556,139758.44,140098.324,140438.208,140778.092,141117.976,141457.86,141797.744,142137.628,142477.512,142817.396,143157.28,143497.164,143837.048,144176.932,144516.816,144856.7,145196.584,145536.468,145876.352,146216.236,146556.12,146896.004,147235.888,147575.772,147915.656,148255.54,148595.424,148935.308,149275.192,149615.076,149954.96,150294.844,150634.728,150974.612,151314.496,151654.38,151994.264,152334.148,152674.032,153013.916,153353.8,153693.684,154033.568,154373.452,154713.336,155053.22,155393.104,155732.988,156072.872,156412.756,156752.64,157092.524,157432.408,157772.292,158112.176,158452.06,158791.944,159131.828,159471.712,159811.596,160151.48,160491.364,160831.248,161171.132,161511.016,161850.9,162190.784,162530.668,162870.552,163210.436,163550.32,163890.204,164230.088,164569.972,164909.856,165249.74,165589.624,165929.508,166269.392,166609.276,166949.16,167289.044,167628.928,167968.812,168308.696,168648.58,168988.464,169328.348,169668.232,170008.116],\"xaxis\":\"x\",\"y\":[2.5725270199184186e-06,2.6310058058129383e-06,2.6897686304363113e-06,2.748786647363209e-06,2.8080309928186178e-06,2.8674728524427232e-06,2.927083527927629e-06,2.9868345032672523e-06,3.046697510360476e-06,3.106644593707739e-06,3.1666481739421243e-06,3.2266811099387665e-06,3.286716759249754e-06,3.3467290366169334e-06,3.4066924703207853e-06,3.4665822561312503e-06,3.5263743086346612e-06,3.586045309720728e-06,3.6455727540243725e-06,3.704934991128807e-06,3.764111264349627e-06,3.823081745932931e-06,3.8818275685156236e-06,3.940330852711665e-06,3.998574730703817e-06,4.056543365738184e-06,4.114221967435875e-06,4.171596802854251e-06,4.22865520324932e-06,4.2853855665086814e-06,4.341777355244726e-06,4.397821090555965e-06,4.4535083414842744e-06,4.508831710215101e-06,4.5637848130863e-06,4.618362257490829e-06,4.672559614776593e-06,4.726373389264856e-06,4.7798009835267726e-06,4.832840660073918e-06,4.8854914996356455e-06,4.937753356211278e-06,4.989626809100186e-06,5.04111311212635e-06,5.0922141402872045e-06,5.142932334068026e-06,5.193270641674184e-06,5.2432324594427434e-06,5.2928215707039586e-06,5.342042083369238e-06,5.390898366529312e-06,5.439394986349832e-06,5.487536641555415e-06,5.5353280987949695e-06,5.582774128181599e-06,5.629879439299518e-06,5.676648617968544e-06,5.723086064053026e-06,5.769195930597303e-06,5.814982064563845e-06,5.860447949442463e-06,5.905596649991412e-06,5.950430759359787e-06,5.994952348831379e-06,6.039162920417333e-06,6.0830633625115504e-06,6.126653908809836e-06,6.169934100677941e-06,6.212902753138355e-06,6.255557924628917e-06,6.297896890669671e-06,6.339916121555685e-06,6.381611264176304e-06,6.422977128041518e-06,6.464007675577935e-06,6.504696016736771e-06,6.545034407937351e-06,6.585014255349519e-06,6.6246261224990165e-06,6.663859742160641e-06,6.702704032484233e-06,6.741147117280074e-06,6.779176350371278e-06,6.8167783439031485e-06,6.8539390004813194e-06,6.890643548994117e-06,6.9268765839581094e-06,6.962622108210547e-06,6.997863578757841e-06,7.032583955575587e-06,7.066765753143314e-06,7.100391094485442e-06,7.13344176747952e-06,7.165899283183912e-06,7.197744935928862e-06,7.228959864908295e-06,7.2595251170041e-06,7.2894217105707835e-06,7.318630699905537e-06,7.347133240126908e-06,7.374910652185972e-06,7.401944487734288e-06,7.428216593576158e-06,7.453709175436182e-06,7.478404860778611e-06,7.502286760421194e-06,7.525338528694e-06,7.547544421902765e-06,7.568889354865974e-06,7.589358955305963e-06,7.6089396158869455e-06,7.6276185437049614e-06,7.645383807049724e-06,7.662224379271765e-06,7.678130179605082e-06,7.693092110809923e-06,7.707102093518343e-06,7.720153097180765e-06,7.73223916753028e-06,7.74335545049777e-06,7.753498212529612e-06,7.762664857276409e-06,7.770853938639617e-06,7.778065170179877e-06,7.784299430908184e-06,7.789558767497564e-06,7.793846392970039e-06,7.79716668192795e-06,7.799525162415756e-06,7.800928504511102e-06,7.801384505758749e-06,7.800902073572752e-06,7.79949120474543e-06,7.797162962210432e-06,7.793929449219127e-06,7.789803781096399e-06,7.784800054750648e-06,7.778933316118147e-06,7.772219525727597e-06,7.764675522574614e-06,7.75631898649779e-06,7.747168399250416e-06,7.737243004461252e-06,7.726562766677172e-06,7.715148329678115e-06,7.703020974251558e-06,7.690202575608858e-06,7.67671556062078e-06,7.662582865042432e-06,7.647827890890533e-06,7.63247446412764e-06,7.6165467927982415e-06,7.600069425751878e-06,7.583067212077927e-06,7.565565261364991e-06,7.547588904886183e-06,7.529163657799741e-06,7.510315182441231e-06,7.491069252771464e-06,7.471451720031027e-06,7.451488479639303e-06,7.431205439363626e-06,7.410628488770476e-06,7.3897834699591784e-06,7.368696149565699e-06,7.347392192012733e-06,7.325897133970948e-06,7.30423635998556e-06,7.282435079212543e-06,7.260518303199246e-06,7.238510824635931e-06,7.216437196996779e-06,7.194321714982592e-06,7.172188395671026e-06,7.15006096027575e-06,7.1279628164118935e-06,7.105917040762377e-06,7.083946362037863e-06,7.06207314412266e-06,7.040319369298783e-06,7.018706621442342e-06,6.997256069088546e-06,6.975988448265334e-06,6.954924045000071e-06,6.934082677409288e-06,6.9134836772881e-06,6.893145871122829e-06,6.873087560459115e-06,6.8533265015665985e-06,6.833879884350618e-06,6.8147643104725706e-06,6.795995770650816e-06,6.777589621125901e-06,6.759560559286022e-06,6.741922598460666e-06,6.724689041902917e-06,6.707872455994472e-06,6.6914846427192735e-06,6.675536611465735e-06,6.66003855022945e-06,6.644999796301857e-06,6.630428806542279e-06,6.616333127343136e-06,6.60271936441016e-06,6.589593152489992e-06,6.576959125189144e-06,6.564820885037666e-06,6.553180973960314e-06,6.542040844326773e-06,6.531400830759609e-06,6.521260122885779e-06,6.511616739222865e-06,6.502467502396011e-06,6.4938080158847915e-06,6.485632642502066e-06,6.477934484807599e-06,6.470705367659423e-06,6.463935823104737e-06,6.457615077809518e-06,6.4517310432223365e-06,6.446270308662627e-06,6.441218137517905e-06,6.43655846672634e-06,6.432273909712533e-06,6.428345762934644e-06,6.424754016189525e-06,6.4214773668104815e-06,6.418493237878816e-06,6.415777800556125e-06,6.413306000628759e-06,6.4110515893397576e-06,6.408987158566516e-06,6.407084180384325e-06,6.405313051037887e-06,6.4036431393233005e-06,6.402042839363787e-06,6.400479627742147e-06,6.398920124932858e-06,6.397330160956057e-06,6.395674845154959e-06,6.3939186399780624e-06,6.3920254386263285e-06,6.38995864640597e-06,6.38768126560702e-06,6.385155983708638e-06,6.382345264692887e-06,6.379211443230842e-06,6.375716821486896e-06,6.371823768270629e-06,6.367494820249907e-06,6.362692784924035e-06,6.357380845042472e-06,6.3515226641418096e-06,6.345082492863202e-06,6.338025275702306e-06,6.33031675783569e-06,6.321923591660976e-06,6.312813442682563e-06,6.302955094371123e-06,6.292318551623299e-06,6.280875142447134e-06,6.268597617500529e-06,6.2554602471125774e-06,6.2414389154223915e-06,6.226511211276388e-06,6.210656515532497e-06,6.1938560844299705e-06,6.176093128693816e-06,6.1573528880561844e-06,6.137622700890801e-06,6.1168920686722895e-06,6.09515271498915e-06,6.0723986388573735e-06,6.048626162101344e-06,6.023833970588853e-06,5.998023149129174e-06,5.971197209865401e-06,5.943362114015651e-06,5.914526286842008e-06,5.884700625750639e-06,5.853898501451924e-06,5.822135752134675e-06,5.7894306706348915e-06,5.7558039846049595e-06,5.721278829715635e-06,5.685880715948571e-06,5.649637487063369e-06,5.612579273347977e-06,5.574738437786229e-06,5.536149515800898e-06,5.49684914875355e-06,5.456876011406088e-06,5.4162707335700106e-06,5.3750758161907535e-06,5.333335542134214e-06,5.291095881960868e-06,5.248404394990797e-06,5.205310125978372e-06,5.161863497730501e-06,5.118116200015251e-06,5.074121075119351e-06,5.029932000423422e-06,4.985603768372088e-06,4.941191964223304e-06,4.896752841966393e-06,4.85234319880216e-06,4.808020248580191e-06,4.763841494589364e-06,4.719864602095872e-06,4.676147271020593e-06,4.632747109143135e-06,4.589721506214109e-06,4.547127509349559e-06,4.505021700072854e-06,4.463460073358997e-06,4.4224979190248335e-06,4.382189705795714e-06,4.342588968365247e-06,4.303748197749751e-06,4.265718735222607e-06,4.228550670097034e-06,4.192292741607468e-06,4.156992245121314e-06,4.122694942893464e-06,4.089444979555856e-06,4.057284802514108e-06,4.026255087402529e-06,3.996394668727529e-06,3.967740475808403e-06,3.940327474103151e-06,3.914188611985556e-06,3.889354773018637e-06,3.865854733748632e-06,3.843715127022968e-06,3.822960410815293e-06,3.8036128425209813e-06,3.785692458667052e-06,3.769217059961994e-06,3.754202201592922e-06,3.7406611886604264e-06,3.728605076625154e-06,3.7180426766247457e-06,3.708980565505328e-06,3.70142310039843e-06,3.695372437661674e-06,3.6908285559905345e-06,3.687789283498205e-06,3.686250328551705e-06,3.686205314144638e-06,3.6876458155803856e-06,3.6905614012342007e-06,3.6949396761586576e-06,3.7007663282937523e-06,3.7080251770415627e-06,3.716698223964658e-06,3.72676570536829e-06,3.7382061465281578e-06,3.750996417328555e-06,3.7651117890798223e-06,3.7805259922891007e-06,3.7972112751645694e-06,3.815138462640425e-06,3.834277015717924e-06,3.85459509092663e-06,3.876059599719658e-06,3.898636267627168e-06,3.922289693003299e-06,3.946983405213356e-06,3.9726799221203845e-06,3.99934080674246e-06,4.026926722965422e-06,4.055397490208563e-06,4.084712136954444e-06,4.1148289530674665e-06,4.14570554083936e-06,4.177298864713326e-06,4.209565299651933e-06,4.2424606781271595e-06,4.275940335723666e-06,4.309959155359336e-06,4.344471610138979e-06,4.37943180486875e-06,4.4147935162702665e-06,4.450510231943434e-06,4.486535188137169e-06,4.522821406396071e-06,4.559321729159453e-06,4.595988854396512e-06,4.632775369368175e-06,4.669633783611571e-06,4.706516561248101e-06,4.743376152719514e-06,4.780165026059656e-06,4.816835697810895e-06,4.8533407636952975e-06,4.889632929150575e-06,4.925665039839297e-06,4.961390112238059e-06,4.996761364410147e-06,5.031732247060993e-06,5.066256474971185e-06,5.10028805889563e-06,5.133781338011263e-06,5.1666910129878835e-06,5.1989721797491105e-06,5.230580363981222e-06,5.26147155643864e-06,5.291602249084776e-06,5.320929472096579e-06,5.349410831750429e-06,5.377004549195869e-06,5.403669500112424e-06,5.429365255233112e-06,5.454052121706752e-06,5.47769118525958e-06,5.50024435310493e-06,5.5216743975386395e-06,5.541945000146369e-06,5.561020796538229e-06,5.578867421515788e-06,5.595451554565916e-06,5.610740965567116e-06,5.624704560584352e-06,5.6373124276203065e-06,5.648535882183501e-06,5.658347512526507e-06,5.666721224401678e-06,5.6736322851763365e-06,5.679057367145257e-06,5.682974589874614e-06,5.68536356140919e-06,5.686205418173049e-06,5.685482863393367e-06,5.683180203877497e-06,5.679283384974734e-06,5.673780023556718e-06,5.666659438853747e-06,5.657912680988523e-06,5.647532557054241e-06,5.63551365459e-06,5.621852362313586e-06,5.606546887979509e-06,5.589597273238929e-06,5.571005405387347e-06,5.550775025896202e-06,5.528911735635079e-06,5.505422996702589e-06,5.480318130795817e-06,5.453608314060394e-06,5.425306568375871e-06,5.395427749044038e-06,5.363988528860966e-06,5.331007378566766e-06,5.296504543680576e-06,5.2605020177416475e-06,5.2230235119907465e-06,5.184094421539271e-06,5.143741788086644e-06,5.101994259259249e-06,5.05888204465646e-06,5.0144368687017364e-06,4.968691920407994e-06,4.921681800177755e-06,4.873442463769114e-06,4.824011163568484e-06,4.773426387320357e-06,4.721727794472902e-06,4.668956150306307e-06,4.615153258017563e-06,4.560361888942082e-06,4.504625711097861e-06,4.447989216242829e-06,4.39049764563976e-06,4.332196914726348e-06,4.27313353689029e-06,4.213354546550483e-06,4.152907421746282e-06,4.091840006436426e-06,4.030200432708102e-06,3.968037043095123e-06,3.905398313201444e-06,3.842332774823002e-06,3.778888939757e-06,3.715115224483064e-06,3.6510598758955166e-06,3.5867708982600254e-06,3.5222959815618283e-06,3.4576824314054783e-06,3.3929771006189387e-06,3.328226322707072e-06,3.263475847291372e-06,3.1987707776643126e-06,3.134155510578029e-06,3.0696736783780304e-06,3.005368093583349e-06,2.9412806960054663e-06,2.877452502488683e-06,2.8139235593453073e-06,2.7507328975493902e-06,2.6879184907434146e-06],\"yaxis\":\"y\",\"type\":\"scatter\"}],                        {\"barmode\":\"overlay\",\"hovermode\":\"closest\",\"legend\":{\"traceorder\":\"reversed\"},\"template\":{\"data\":{\"barpolar\":[{\"marker\":{\"line\":{\"color\":\"#E5ECF6\",\"width\":0.5},\"pattern\":{\"fillmode\":\"overlay\",\"size\":10,\"solidity\":0.2}},\"type\":\"barpolar\"}],\"bar\":[{\"error_x\":{\"color\":\"#2a3f5f\"},\"error_y\":{\"color\":\"#2a3f5f\"},\"marker\":{\"line\":{\"color\":\"#E5ECF6\",\"width\":0.5},\"pattern\":{\"fillmode\":\"overlay\",\"size\":10,\"solidity\":0.2}},\"type\":\"bar\"}],\"carpet\":[{\"aaxis\":{\"endlinecolor\":\"#2a3f5f\",\"gridcolor\":\"white\",\"linecolor\":\"white\",\"minorgridcolor\":\"white\",\"startlinecolor\":\"#2a3f5f\"},\"baxis\":{\"endlinecolor\":\"#2a3f5f\",\"gridcolor\":\"white\",\"linecolor\":\"white\",\"minorgridcolor\":\"white\",\"startlinecolor\":\"#2a3f5f\"},\"type\":\"carpet\"}],\"choropleth\":[{\"colorbar\":{\"outlinewidth\":0,\"ticks\":\"\"},\"type\":\"choropleth\"}],\"contourcarpet\":[{\"colorbar\":{\"outlinewidth\":0,\"ticks\":\"\"},\"type\":\"contourcarpet\"}],\"contour\":[{\"colorbar\":{\"outlinewidth\":0,\"ticks\":\"\"},\"colorscale\":[[0.0,\"#0d0887\"],[0.1111111111111111,\"#46039f\"],[0.2222222222222222,\"#7201a8\"],[0.3333333333333333,\"#9c179e\"],[0.4444444444444444,\"#bd3786\"],[0.5555555555555556,\"#d8576b\"],[0.6666666666666666,\"#ed7953\"],[0.7777777777777778,\"#fb9f3a\"],[0.8888888888888888,\"#fdca26\"],[1.0,\"#f0f921\"]],\"type\":\"contour\"}],\"heatmapgl\":[{\"colorbar\":{\"outlinewidth\":0,\"ticks\":\"\"},\"colorscale\":[[0.0,\"#0d0887\"],[0.1111111111111111,\"#46039f\"],[0.2222222222222222,\"#7201a8\"],[0.3333333333333333,\"#9c179e\"],[0.4444444444444444,\"#bd3786\"],[0.5555555555555556,\"#d8576b\"],[0.6666666666666666,\"#ed7953\"],[0.7777777777777778,\"#fb9f3a\"],[0.8888888888888888,\"#fdca26\"],[1.0,\"#f0f921\"]],\"type\":\"heatmapgl\"}],\"heatmap\":[{\"colorbar\":{\"outlinewidth\":0,\"ticks\":\"\"},\"colorscale\":[[0.0,\"#0d0887\"],[0.1111111111111111,\"#46039f\"],[0.2222222222222222,\"#7201a8\"],[0.3333333333333333,\"#9c179e\"],[0.4444444444444444,\"#bd3786\"],[0.5555555555555556,\"#d8576b\"],[0.6666666666666666,\"#ed7953\"],[0.7777777777777778,\"#fb9f3a\"],[0.8888888888888888,\"#fdca26\"],[1.0,\"#f0f921\"]],\"type\":\"heatmap\"}],\"histogram2dcontour\":[{\"colorbar\":{\"outlinewidth\":0,\"ticks\":\"\"},\"colorscale\":[[0.0,\"#0d0887\"],[0.1111111111111111,\"#46039f\"],[0.2222222222222222,\"#7201a8\"],[0.3333333333333333,\"#9c179e\"],[0.4444444444444444,\"#bd3786\"],[0.5555555555555556,\"#d8576b\"],[0.6666666666666666,\"#ed7953\"],[0.7777777777777778,\"#fb9f3a\"],[0.8888888888888888,\"#fdca26\"],[1.0,\"#f0f921\"]],\"type\":\"histogram2dcontour\"}],\"histogram2d\":[{\"colorbar\":{\"outlinewidth\":0,\"ticks\":\"\"},\"colorscale\":[[0.0,\"#0d0887\"],[0.1111111111111111,\"#46039f\"],[0.2222222222222222,\"#7201a8\"],[0.3333333333333333,\"#9c179e\"],[0.4444444444444444,\"#bd3786\"],[0.5555555555555556,\"#d8576b\"],[0.6666666666666666,\"#ed7953\"],[0.7777777777777778,\"#fb9f3a\"],[0.8888888888888888,\"#fdca26\"],[1.0,\"#f0f921\"]],\"type\":\"histogram2d\"}],\"histogram\":[{\"marker\":{\"pattern\":{\"fillmode\":\"overlay\",\"size\":10,\"solidity\":0.2}},\"type\":\"histogram\"}],\"mesh3d\":[{\"colorbar\":{\"outlinewidth\":0,\"ticks\":\"\"},\"type\":\"mesh3d\"}],\"parcoords\":[{\"line\":{\"colorbar\":{\"outlinewidth\":0,\"ticks\":\"\"}},\"type\":\"parcoords\"}],\"pie\":[{\"automargin\":true,\"type\":\"pie\"}],\"scatter3d\":[{\"line\":{\"colorbar\":{\"outlinewidth\":0,\"ticks\":\"\"}},\"marker\":{\"colorbar\":{\"outlinewidth\":0,\"ticks\":\"\"}},\"type\":\"scatter3d\"}],\"scattercarpet\":[{\"marker\":{\"colorbar\":{\"outlinewidth\":0,\"ticks\":\"\"}},\"type\":\"scattercarpet\"}],\"scattergeo\":[{\"marker\":{\"colorbar\":{\"outlinewidth\":0,\"ticks\":\"\"}},\"type\":\"scattergeo\"}],\"scattergl\":[{\"marker\":{\"colorbar\":{\"outlinewidth\":0,\"ticks\":\"\"}},\"type\":\"scattergl\"}],\"scattermapbox\":[{\"marker\":{\"colorbar\":{\"outlinewidth\":0,\"ticks\":\"\"}},\"type\":\"scattermapbox\"}],\"scatterpolargl\":[{\"marker\":{\"colorbar\":{\"outlinewidth\":0,\"ticks\":\"\"}},\"type\":\"scatterpolargl\"}],\"scatterpolar\":[{\"marker\":{\"colorbar\":{\"outlinewidth\":0,\"ticks\":\"\"}},\"type\":\"scatterpolar\"}],\"scatter\":[{\"marker\":{\"colorbar\":{\"outlinewidth\":0,\"ticks\":\"\"}},\"type\":\"scatter\"}],\"scatterternary\":[{\"marker\":{\"colorbar\":{\"outlinewidth\":0,\"ticks\":\"\"}},\"type\":\"scatterternary\"}],\"surface\":[{\"colorbar\":{\"outlinewidth\":0,\"ticks\":\"\"},\"colorscale\":[[0.0,\"#0d0887\"],[0.1111111111111111,\"#46039f\"],[0.2222222222222222,\"#7201a8\"],[0.3333333333333333,\"#9c179e\"],[0.4444444444444444,\"#bd3786\"],[0.5555555555555556,\"#d8576b\"],[0.6666666666666666,\"#ed7953\"],[0.7777777777777778,\"#fb9f3a\"],[0.8888888888888888,\"#fdca26\"],[1.0,\"#f0f921\"]],\"type\":\"surface\"}],\"table\":[{\"cells\":{\"fill\":{\"color\":\"#EBF0F8\"},\"line\":{\"color\":\"white\"}},\"header\":{\"fill\":{\"color\":\"#C8D4E3\"},\"line\":{\"color\":\"white\"}},\"type\":\"table\"}]},\"layout\":{\"annotationdefaults\":{\"arrowcolor\":\"#2a3f5f\",\"arrowhead\":0,\"arrowwidth\":1},\"autotypenumbers\":\"strict\",\"coloraxis\":{\"colorbar\":{\"outlinewidth\":0,\"ticks\":\"\"}},\"colorscale\":{\"diverging\":[[0,\"#8e0152\"],[0.1,\"#c51b7d\"],[0.2,\"#de77ae\"],[0.3,\"#f1b6da\"],[0.4,\"#fde0ef\"],[0.5,\"#f7f7f7\"],[0.6,\"#e6f5d0\"],[0.7,\"#b8e186\"],[0.8,\"#7fbc41\"],[0.9,\"#4d9221\"],[1,\"#276419\"]],\"sequential\":[[0.0,\"#0d0887\"],[0.1111111111111111,\"#46039f\"],[0.2222222222222222,\"#7201a8\"],[0.3333333333333333,\"#9c179e\"],[0.4444444444444444,\"#bd3786\"],[0.5555555555555556,\"#d8576b\"],[0.6666666666666666,\"#ed7953\"],[0.7777777777777778,\"#fb9f3a\"],[0.8888888888888888,\"#fdca26\"],[1.0,\"#f0f921\"]],\"sequentialminus\":[[0.0,\"#0d0887\"],[0.1111111111111111,\"#46039f\"],[0.2222222222222222,\"#7201a8\"],[0.3333333333333333,\"#9c179e\"],[0.4444444444444444,\"#bd3786\"],[0.5555555555555556,\"#d8576b\"],[0.6666666666666666,\"#ed7953\"],[0.7777777777777778,\"#fb9f3a\"],[0.8888888888888888,\"#fdca26\"],[1.0,\"#f0f921\"]]},\"colorway\":[\"#636efa\",\"#EF553B\",\"#00cc96\",\"#ab63fa\",\"#FFA15A\",\"#19d3f3\",\"#FF6692\",\"#B6E880\",\"#FF97FF\",\"#FECB52\"],\"font\":{\"color\":\"#2a3f5f\"},\"geo\":{\"bgcolor\":\"white\",\"lakecolor\":\"white\",\"landcolor\":\"#E5ECF6\",\"showlakes\":true,\"showland\":true,\"subunitcolor\":\"white\"},\"hoverlabel\":{\"align\":\"left\"},\"hovermode\":\"closest\",\"mapbox\":{\"style\":\"light\"},\"paper_bgcolor\":\"white\",\"plot_bgcolor\":\"#E5ECF6\",\"polar\":{\"angularaxis\":{\"gridcolor\":\"white\",\"linecolor\":\"white\",\"ticks\":\"\"},\"bgcolor\":\"#E5ECF6\",\"radialaxis\":{\"gridcolor\":\"white\",\"linecolor\":\"white\",\"ticks\":\"\"}},\"scene\":{\"xaxis\":{\"backgroundcolor\":\"#E5ECF6\",\"gridcolor\":\"white\",\"gridwidth\":2,\"linecolor\":\"white\",\"showbackground\":true,\"ticks\":\"\",\"zerolinecolor\":\"white\"},\"yaxis\":{\"backgroundcolor\":\"#E5ECF6\",\"gridcolor\":\"white\",\"gridwidth\":2,\"linecolor\":\"white\",\"showbackground\":true,\"ticks\":\"\",\"zerolinecolor\":\"white\"},\"zaxis\":{\"backgroundcolor\":\"#E5ECF6\",\"gridcolor\":\"white\",\"gridwidth\":2,\"linecolor\":\"white\",\"showbackground\":true,\"ticks\":\"\",\"zerolinecolor\":\"white\"}},\"shapedefaults\":{\"line\":{\"color\":\"#2a3f5f\"}},\"ternary\":{\"aaxis\":{\"gridcolor\":\"white\",\"linecolor\":\"white\",\"ticks\":\"\"},\"baxis\":{\"gridcolor\":\"white\",\"linecolor\":\"white\",\"ticks\":\"\"},\"bgcolor\":\"#E5ECF6\",\"caxis\":{\"gridcolor\":\"white\",\"linecolor\":\"white\",\"ticks\":\"\"}},\"title\":{\"x\":0.05},\"xaxis\":{\"automargin\":true,\"gridcolor\":\"white\",\"linecolor\":\"white\",\"ticks\":\"\",\"title\":{\"standoff\":15},\"zerolinecolor\":\"white\",\"zerolinewidth\":2},\"yaxis\":{\"automargin\":true,\"gridcolor\":\"white\",\"linecolor\":\"white\",\"ticks\":\"\",\"title\":{\"standoff\":15},\"zerolinecolor\":\"white\",\"zerolinewidth\":2}}},\"title\":{\"text\":\"Credit Card Transactions Time Density Plot\"},\"xaxis\":{\"anchor\":\"y2\",\"domain\":[0.0,1.0],\"title\":{\"text\":\"Time [s]\"},\"zeroline\":false},\"yaxis\":{\"anchor\":\"free\",\"domain\":[0.0,1],\"position\":0.0}},                        {\"responsive\": true}                    ).then(function(){\n",
       "                            \n",
       "var gd = document.getElementById('83c3df07-a81e-4986-a15c-98acb534c8f4');\n",
       "var x = new MutationObserver(function (mutations, observer) {{\n",
       "        var display = window.getComputedStyle(gd).display;\n",
       "        if (!display || display === 'none') {{\n",
       "            console.log([gd, 'removed!']);\n",
       "            Plotly.purge(gd);\n",
       "            observer.disconnect();\n",
       "        }}\n",
       "}});\n",
       "\n",
       "// Listen for the removal of the full notebook cells\n",
       "var notebookContainer = gd.closest('#notebook-container');\n",
       "if (notebookContainer) {{\n",
       "    x.observe(notebookContainer, {childList: true});\n",
       "}}\n",
       "\n",
       "// Listen for the clearing of the current output cell\n",
       "var outputEl = gd.closest('.output');\n",
       "if (outputEl) {{\n",
       "    x.observe(outputEl, {childList: true});\n",
       "}}\n",
       "\n",
       "                        })                };                });            </script>        </div>"
      ]
     },
     "metadata": {},
     "output_type": "display_data"
    }
   ],
   "source": [
    "class_0 = df.loc[df['Class'] == 0][\"Time\"]\n",
    "class_1 = df.loc[df['Class'] == 1][\"Time\"]\n",
    "\n",
    "hist_data = [class_0, class_1]\n",
    "group_labels = ['Not Fraud', 'Fraud']\n",
    "\n",
    "fig = ff.create_distplot(hist_data, group_labels, show_hist=False, show_rug=False)\n",
    "fig['layout'].update(title='Credit Card Transactions Time Density Plot', xaxis=dict(title='Time [s]'))\n",
    "iplot(fig, filename='dist_only')"
   ]
  },
  {
   "cell_type": "code",
   "execution_count": 21,
   "id": "16142589",
   "metadata": {},
   "outputs": [],
   "source": [
    "df = pd.read_csv(\"creditcard.csv\")"
   ]
  },
  {
   "cell_type": "markdown",
   "id": "10ee3355",
   "metadata": {},
   "source": [
    "The Credit Card Transactions Time Density Plot tells us the following:\n",
    "\n",
    "In comparison to the Not Fraud transactions, the Fraud transactions are more evenly distributed in time the the lowest transaction times happening at night in European time zone.\n"
   ]
  },
  {
   "cell_type": "markdown",
   "id": "3a90b599",
   "metadata": {},
   "source": [
    "# MODELING\n",
    "PREDICTIVE MODELS\n"
   ]
  },
  {
   "cell_type": "markdown",
   "id": "0bc07b51",
   "metadata": {},
   "source": [
    "Let's define the predictor features and the target features."
   ]
  },
  {
   "cell_type": "markdown",
   "id": "75f9a84c",
   "metadata": {},
   "source": [
    "Split Data into Train, Test and Validation Set\n",
    "\n",
    "80% - of the data will use the train model\n",
    "\n",
    "20% to validate the model"
   ]
  },
  {
   "cell_type": "markdown",
   "id": "ad86ae68",
   "metadata": {},
   "source": [
    "RANDOM FOREST CLASSIFIER MODEL"
   ]
  },
  {
   "cell_type": "markdown",
   "id": "6835dc75",
   "metadata": {},
   "source": [
    "Let's set the parameters and run the model using the training set for training the data.\n",
    "Then I will use the validation set for validation.\n"
   ]
  },
  {
   "cell_type": "markdown",
   "id": "efef47e6",
   "metadata": {},
   "source": [
    "Validation Criterion:  GINI\n",
    "\n",
    "GINI = 2 * (AUC) - 1\n",
    "\n",
    "AUC = the receiver operating characteristic - Area Under Curve aka (ROC - AUC)\n",
    "\n",
    "num of estimators = 100\n",
    "\n",
    "num of paralell jobs = 4"
   ]
  },
  {
   "cell_type": "code",
   "execution_count": 22,
   "id": "23aac2b5",
   "metadata": {},
   "outputs": [],
   "source": [
    "# metric used for RandomForrestClassifier\n",
    "RFC_METRIC = 'gini'  \n",
    "# number of estimators used for RandomForrestClassifier\n",
    "NUM_ESTIMATORS = 100 \n",
    "#number of parallel jobs used for RandomForrestClassifier\n",
    "NO_JOBS = 4 \n",
    "\n",
    "\n",
    "RANDOM_STATE = 42"
   ]
  },
  {
   "cell_type": "code",
   "execution_count": 23,
   "id": "bb342081",
   "metadata": {},
   "outputs": [],
   "source": [
    "#TRAIN/VALIDATION/TEST SPLIT 80/20\n",
    "#VALIDATION\n",
    "VALID_SIZE = 0.20 # simple validation using train_test_split\n",
    "TEST_SIZE = 0.20 # test size using_train_test_split\n"
   ]
  },
  {
   "cell_type": "code",
   "execution_count": 24,
   "id": "996b76b9",
   "metadata": {},
   "outputs": [],
   "source": [
    "target = 'Class'\n",
    "predictors = ['Time', 'V1', 'V2', 'V3', 'V4', 'V5', 'V6', 'V7', 'V8', 'V9', 'V10',\\\n",
    "       'V11', 'V12', 'V13', 'V14', 'V15', 'V16', 'V17', 'V18', 'V19',\\\n",
    "       'V20', 'V21', 'V22', 'V23', 'V24', 'V25', 'V26', 'V27', 'V28',\\\n",
    "       'Amount']"
   ]
  },
  {
   "cell_type": "code",
   "execution_count": 25,
   "id": "83e0af16",
   "metadata": {},
   "outputs": [],
   "source": [
    "train_df, test_df = train_test_split(df, test_size=TEST_SIZE, random_state=RANDOM_STATE, shuffle=True )\n",
    "train_df, valid_df = train_test_split(train_df, test_size=VALID_SIZE, random_state=RANDOM_STATE, shuffle=True )"
   ]
  },
  {
   "cell_type": "code",
   "execution_count": 26,
   "id": "2c0dd5d5",
   "metadata": {},
   "outputs": [],
   "source": [
    "# initializing Random Classifier\n",
    "clf = RandomForestClassifier(n_jobs=NO_JOBS, \n",
    "                             random_state=RANDOM_STATE,\n",
    "                             criterion=RFC_METRIC,\n",
    "                             n_estimators=NUM_ESTIMATORS,\n",
    "                             verbose=False)"
   ]
  },
  {
   "cell_type": "code",
   "execution_count": 27,
   "id": "3b9840a4",
   "metadata": {},
   "outputs": [
    {
     "data": {
      "text/plain": [
       "RandomForestClassifier(n_jobs=4, random_state=42, verbose=False)"
      ]
     },
     "execution_count": 27,
     "metadata": {},
     "output_type": "execute_result"
    }
   ],
   "source": [
    "# train and fit\n",
    "clf.fit(train_df[predictors], train_df[target].values)"
   ]
  },
  {
   "cell_type": "code",
   "execution_count": 28,
   "id": "e78000b4",
   "metadata": {},
   "outputs": [],
   "source": [
    "# predict the target values for the valid_df \n",
    "preds = clf.predict(valid_df[predictors])"
   ]
  },
  {
   "cell_type": "markdown",
   "id": "53396fe9",
   "metadata": {},
   "source": [
    "Let's visualize the features to determine highest importance"
   ]
  },
  {
   "cell_type": "code",
   "execution_count": 29,
   "id": "88bc1fde",
   "metadata": {},
   "outputs": [
    {
     "data": {
      "image/png": "[encoded data removed]",
      "text/plain": [
       "<Figure size 504x288 with 1 Axes>"
      ]
     },
     "metadata": {
      "needs_background": "light"
     },
     "output_type": "display_data"
    }
   ],
   "source": [
    "tmp = pd.DataFrame({'Feature': predictors, 'Feature importance': clf.feature_importances_})\n",
    "tmp = tmp.sort_values(by='Feature importance',ascending=False)\n",
    "plt.figure(figsize = (7,4))\n",
    "plt.title('Features importance',fontsize=14)\n",
    "s = sns.barplot(x='Feature',y='Feature importance',data=tmp)\n",
    "s.set_xticklabels(s.get_xticklabels(),rotation=90)\n",
    "plt.show()   \n"
   ]
  },
  {
   "cell_type": "markdown",
   "id": "c1b9a6fa",
   "metadata": {},
   "source": [
    "We can see that V17, V12, V14, V10, V16 and V11 are the most important features."
   ]
  },
  {
   "cell_type": "markdown",
   "id": "79eaf817",
   "metadata": {},
   "source": [
    "Let's visualize a confusion matrix from the model we just ran."
   ]
  },
  {
   "cell_type": "code",
   "execution_count": 30,
   "id": "c2390a23",
   "metadata": {},
   "outputs": [
    {
     "data": {
      "image/png": "[encoded data removed]",
      "text/plain": [
       "<Figure size 360x360 with 2 Axes>"
      ]
     },
     "metadata": {
      "needs_background": "light"
     },
     "output_type": "display_data"
    }
   ],
   "source": [
    "\n",
    "# https://seaborn.pydata.org/generated/seaborn.heatmap.html\n",
    "# https://seaborn.pydata.org/tutorial/color_palettes.html\n",
    "cm = pd.crosstab(valid_df[target].values, preds, rownames=['Actual'], colnames=['Predicted'])\n",
    "fig, (ax1) = plt.subplots(ncols=1, figsize=(5,5))\n",
    "sns.heatmap(cm, \n",
    "            xticklabels=['Not Fraud', 'Fraud'],\n",
    "            yticklabels=['Not Fraud', 'Fraud'],\n",
    "            annot=True,ax=ax1,\n",
    "            linewidths=.2,linecolor=\"Darkblue\", cmap=\"Blues\")\n",
    "plt.title('Confusion Matrix', fontsize=14)\n",
    "plt.show()"
   ]
  },
  {
   "cell_type": "markdown",
   "id": "9edb7f7f",
   "metadata": {},
   "source": [
    "This dataset is unbalanced therefore a confusion matrix is not a good tool to represent."
   ]
  },
  {
   "cell_type": "markdown",
   "id": "26e5c7b6",
   "metadata": {},
   "source": [
    "ROC-AUC"
   ]
  },
  {
   "cell_type": "code",
   "execution_count": 31,
   "id": "fae6d712",
   "metadata": {},
   "outputs": [
    {
     "data": {
      "text/plain": [
       "0.8828015121964619"
      ]
     },
     "execution_count": 31,
     "metadata": {},
     "output_type": "execute_result"
    }
   ],
   "source": [
    "roc_auc_score(valid_df[target].values, preds)"
   ]
  },
  {
   "cell_type": "markdown",
   "id": "8e2b401f",
   "metadata": {},
   "source": [
    "The ROC-AUC score with RandomForrestClassifier is 0.88."
   ]
  },
  {
   "cell_type": "markdown",
   "id": "9c875e9b",
   "metadata": {},
   "source": [
    "Let's try Ada Boost Classifier"
   ]
  },
  {
   "cell_type": "code",
   "execution_count": 32,
   "id": "fbc5fb34",
   "metadata": {},
   "outputs": [],
   "source": [
    "# set parameters\n",
    "# https://medium.datadriveninvestor.com/understanding-adaboost-and-scikit-learns-algorithm-c8d8af5ace10\n",
    "clf = AdaBoostClassifier(random_state=RANDOM_STATE,\n",
    "                         algorithm='SAMME.R',\n",
    "                         learning_rate=0.8,\n",
    "                             n_estimators=NUM_ESTIMATORS)"
   ]
  },
  {
   "cell_type": "code",
   "execution_count": 33,
   "id": "afbe260f",
   "metadata": {},
   "outputs": [
    {
     "data": {
      "text/plain": [
       "AdaBoostClassifier(learning_rate=0.8, n_estimators=100, random_state=42)"
      ]
     },
     "execution_count": 33,
     "metadata": {},
     "output_type": "execute_result"
    }
   ],
   "source": [
    "# fit the model\n",
    "clf.fit(train_df[predictors], train_df[target].values)"
   ]
  },
  {
   "cell_type": "code",
   "execution_count": 34,
   "id": "4ca96765",
   "metadata": {},
   "outputs": [],
   "source": [
    "# predict target values\n",
    "preds = clf.predict(valid_df[predictors])"
   ]
  },
  {
   "cell_type": "markdown",
   "id": "7f03ae3c",
   "metadata": {},
   "source": [
    "Let's see what features are important."
   ]
  },
  {
   "cell_type": "code",
   "execution_count": 35,
   "id": "a9f157b8",
   "metadata": {},
   "outputs": [
    {
     "data": {
      "image/png": "[encoded data removed]",
      "text/plain": [
       "<Figure size 504x288 with 1 Axes>"
      ]
     },
     "metadata": {
      "needs_background": "light"
     },
     "output_type": "display_data"
    }
   ],
   "source": [
    "tmp = pd.DataFrame({'Feature': predictors, 'Feature importance': clf.feature_importances_})\n",
    "tmp = tmp.sort_values(by='Feature importance',ascending=False)\n",
    "plt.figure(figsize = (7,4))\n",
    "plt.title('Features importance',fontsize=14)\n",
    "s = sns.barplot(x='Feature',y='Feature importance',data=tmp)\n",
    "s.set_xticklabels(s.get_xticklabels(),rotation=90)\n",
    "plt.show() "
   ]
  },
  {
   "cell_type": "markdown",
   "id": "ca3cadaa",
   "metadata": {},
   "source": [
    "We see that V14, V4, V18, V8 are important features.\n",
    "\n",
    "Let's visualize a confusion matrix."
   ]
  },
  {
   "cell_type": "code",
   "execution_count": 36,
   "id": "793adaf0",
   "metadata": {},
   "outputs": [
    {
     "data": {
      "image/png": "[encoded data removed]",
      "text/plain": [
       "<Figure size 360x360 with 2 Axes>"
      ]
     },
     "metadata": {
      "needs_background": "light"
     },
     "output_type": "display_data"
    }
   ],
   "source": [
    "cm = pd.crosstab(valid_df[target].values, preds, rownames=['Actual'], colnames=['Predicted'])\n",
    "fig, (ax1) = plt.subplots(ncols=1, figsize=(5,5))\n",
    "sns.heatmap(cm, \n",
    "            xticklabels=['Not Fraud', 'Fraud'],\n",
    "            yticklabels=['Not Fraud', 'Fraud'],\n",
    "            annot=True,ax=ax1,\n",
    "            linewidths=.2,linecolor=\"Darkblue\", cmap=\"Blues\")\n",
    "plt.title('Confusion Matrix', fontsize=14)\n",
    "plt.show()"
   ]
  },
  {
   "cell_type": "markdown",
   "id": "fb2eab21",
   "metadata": {},
   "source": [
    "ROC-AUC"
   ]
  },
  {
   "cell_type": "code",
   "execution_count": 37,
   "id": "15d3865a",
   "metadata": {},
   "outputs": [
    {
     "data": {
      "text/plain": [
       "0.851419658554005"
      ]
     },
     "execution_count": 37,
     "metadata": {},
     "output_type": "execute_result"
    }
   ],
   "source": [
    "roc_auc_score(valid_df[target].values, preds)"
   ]
  },
  {
   "cell_type": "markdown",
   "id": "b91000f4",
   "metadata": {},
   "source": [
    "The ROC-AUC with AdaBoostClassifier is 0.85."
   ]
  },
  {
   "cell_type": "markdown",
   "id": "6e3f2218",
   "metadata": {},
   "source": [
    "CatBoostClassifier"
   ]
  },
  {
   "cell_type": "code",
   "execution_count": 38,
   "id": "59ac745e",
   "metadata": {},
   "outputs": [],
   "source": [
    "clf = CatBoostClassifier(iterations=500,\n",
    "                             learning_rate=0.02,\n",
    "                             depth=12,\n",
    "                             eval_metric='AUC',\n",
    "                             random_seed = RANDOM_STATE,\n",
    "                             bagging_temperature = 0.2,\n",
    "                             od_type='Iter',\n",
    "                             metric_period = VERBOSE_EVAL,\n",
    "                             od_wait=100)"
   ]
  },
  {
   "cell_type": "code",
   "execution_count": 39,
   "id": "951bb2cc",
   "metadata": {},
   "outputs": [
    {
     "name": "stdout",
     "output_type": "stream",
     "text": [
      "0:\ttotal: 403ms\tremaining: 3m 20s\n",
      "50:\ttotal: 13.9s\tremaining: 2m 2s\n",
      "100:\ttotal: 27s\tremaining: 1m 46s\n",
      "150:\ttotal: 39.7s\tremaining: 1m 31s\n",
      "200:\ttotal: 52.3s\tremaining: 1m 17s\n",
      "250:\ttotal: 1m 4s\tremaining: 1m 4s\n",
      "300:\ttotal: 1m 18s\tremaining: 51.7s\n",
      "350:\ttotal: 1m 32s\tremaining: 39.3s\n",
      "400:\ttotal: 1m 45s\tremaining: 26.1s\n",
      "450:\ttotal: 1m 59s\tremaining: 13s\n",
      "499:\ttotal: 2m 12s\tremaining: 0us\n"
     ]
    },
    {
     "data": {
      "text/plain": [
       "<catboost.core.CatBoostClassifier at 0x7fa340d37850>"
      ]
     },
     "execution_count": 39,
     "metadata": {},
     "output_type": "execute_result"
    }
   ],
   "source": [
    "# fit\n",
    "clf.fit(train_df[predictors], train_df[target].values,verbose=True)"
   ]
  },
  {
   "cell_type": "code",
   "execution_count": 40,
   "id": "bce9074b",
   "metadata": {},
   "outputs": [],
   "source": [
    "# predict target values\n",
    "preds = clf.predict(valid_df[predictors])"
   ]
  },
  {
   "cell_type": "code",
   "execution_count": 41,
   "id": "8f3dc030",
   "metadata": {},
   "outputs": [
    {
     "data": {
      "image/png": "[encoded data removed]",
      "text/plain": [
       "<Figure size 504x288 with 1 Axes>"
      ]
     },
     "metadata": {
      "needs_background": "light"
     },
     "output_type": "display_data"
    }
   ],
   "source": [
    "# features importance\n",
    "tmp = pd.DataFrame({'Feature': predictors, 'Feature importance': clf.feature_importances_})\n",
    "tmp = tmp.sort_values(by='Feature importance',ascending=False)\n",
    "plt.figure(figsize = (7,4))\n",
    "plt.title('Features importance',fontsize=14)\n",
    "s = sns.barplot(x='Feature',y='Feature importance',data=tmp)\n",
    "s.set_xticklabels(s.get_xticklabels(),rotation=90)\n",
    "plt.show()   "
   ]
  },
  {
   "cell_type": "code",
   "execution_count": 42,
   "id": "4e974630",
   "metadata": {},
   "outputs": [
    {
     "data": {
      "image/png": "[encoded data removed]",
      "text/plain": [
       "<Figure size 360x360 with 2 Axes>"
      ]
     },
     "metadata": {
      "needs_background": "light"
     },
     "output_type": "display_data"
    }
   ],
   "source": [
    "#confusion matrix\n",
    "cm = pd.crosstab(valid_df[target].values, preds, rownames=['Actual'], colnames=['Predicted'])\n",
    "fig, (ax1) = plt.subplots(ncols=1, figsize=(5,5))\n",
    "sns.heatmap(cm, \n",
    "            xticklabels=['Not Fraud', 'Fraud'],\n",
    "            yticklabels=['Not Fraud', 'Fraud'],\n",
    "            annot=True,ax=ax1,\n",
    "            linewidths=.2,linecolor=\"Darkblue\", cmap=\"Blues\")\n",
    "plt.title('Confusion Matrix', fontsize=14)\n",
    "plt.show()"
   ]
  },
  {
   "cell_type": "code",
   "execution_count": 43,
   "id": "86f3390c",
   "metadata": {},
   "outputs": [
    {
     "data": {
      "text/plain": [
       "0.890625"
      ]
     },
     "execution_count": 43,
     "metadata": {},
     "output_type": "execute_result"
    }
   ],
   "source": [
    "# ROC-AUC\n",
    "roc_auc_score(valid_df[target].values, preds)"
   ]
  },
  {
   "cell_type": "markdown",
   "id": "ad8a87d6",
   "metadata": {},
   "source": [
    "The ROC-AUC -AUC score with CatBoostClassifier is 0.89."
   ]
  },
  {
   "cell_type": "markdown",
   "id": "c6108b33",
   "metadata": {},
   "source": [
    "XGBoost"
   ]
  },
  {
   "cell_type": "code",
   "execution_count": 44,
   "id": "1bf59a7a",
   "metadata": {},
   "outputs": [],
   "source": [
    "# Prepare the train, valid and test\n",
    "dtrain = xgb.DMatrix(train_df[predictors], train_df[target].values)\n",
    "dvalid = xgb.DMatrix(valid_df[predictors], valid_df[target].values)\n",
    "dtest = xgb.DMatrix(test_df[predictors], test_df[target].values)\n",
    "\n",
    "# Will monitor dtrain and dvalid\n",
    "monitorlist = [(dtrain, 'train'), (dvalid, 'valid')]\n",
    "\n",
    "# Set xgboost parameters\n",
    "params = {}\n",
    "params['objective'] = 'binary:logistic'\n",
    "params['eta'] = 0.039\n",
    "params['silent'] = True\n",
    "params['max_depth'] = 2\n",
    "params['subsample'] = 0.8\n",
    "params['colsample_bytree'] = 0.9\n",
    "params['eval_metric'] = 'auc'\n",
    "params['random_state'] = RANDOM_STATE"
   ]
  },
  {
   "cell_type": "code",
   "execution_count": 45,
   "id": "5c4177d1",
   "metadata": {},
   "outputs": [
    {
     "name": "stdout",
     "output_type": "stream",
     "text": [
      "[13:10:45] WARNING: ../src/learner.cc:576: \n",
      "Parameters: { \"silent\" } might not be used.\n",
      "\n",
      "  This could be a false alarm, with some parameters getting used by language bindings but\n",
      "  then being mistakenly passed down to XGBoost core, or some parameter actually being used\n",
      "  but getting flagged wrongly here. Please open an issue if you find any such cases.\n",
      "\n",
      "\n",
      "[0]\ttrain-auc:0.88912\tvalid-auc:0.83565\n",
      "[50]\ttrain-auc:0.91944\tvalid-auc:0.92947\n",
      "[85]\ttrain-auc:0.92222\tvalid-auc:0.92925\n"
     ]
    }
   ],
   "source": [
    "# Train the model\n",
    "model = xgb.train(params, \n",
    "                dtrain, \n",
    "                MAX_ROUNDS, \n",
    "                monitorlist, \n",
    "                early_stopping_rounds=EARLY_STOP, \n",
    "                maximize=True, \n",
    "                verbose_eval=VERBOSE_EVAL)"
   ]
  },
  {
   "cell_type": "markdown",
   "id": "ff38902f",
   "metadata": {},
   "source": [
    "The best validation score ROC-AUC was 0.92947, for round 50."
   ]
  },
  {
   "cell_type": "markdown",
   "id": "dd54034e",
   "metadata": {},
   "source": [
    "Feature importance with XGBoost"
   ]
  },
  {
   "cell_type": "code",
   "execution_count": 46,
   "id": "7282d4e9",
   "metadata": {},
   "outputs": [
    {
     "data": {
      "image/png": "[encoded data removed]",
      "text/plain": [
       "<Figure size 576x360 with 1 Axes>"
      ]
     },
     "metadata": {
      "needs_background": "light"
     },
     "output_type": "display_data"
    }
   ],
   "source": [
    "fig, (ax) = plt.subplots(ncols=1, figsize=(8,5))\n",
    "xgb.plot_importance(model, height=0.8, title=\"Features importance with XGBoost\", ax=ax, color=\"blue\") \n",
    "plt.show()"
   ]
  },
  {
   "cell_type": "code",
   "execution_count": 47,
   "id": "63069431",
   "metadata": {},
   "outputs": [],
   "source": [
    "# Using trained model to predict target value\n",
    "preds = model.predict(dtest)"
   ]
  },
  {
   "cell_type": "markdown",
   "id": "220e7073",
   "metadata": {},
   "source": [
    "ROC-AUC"
   ]
  },
  {
   "cell_type": "code",
   "execution_count": 48,
   "id": "3557140a",
   "metadata": {},
   "outputs": [
    {
     "data": {
      "text/plain": [
       "0.9331982933860095"
      ]
     },
     "execution_count": 48,
     "metadata": {},
     "output_type": "execute_result"
    }
   ],
   "source": [
    "roc_auc_score(test_df[target].values, preds)"
   ]
  },
  {
   "cell_type": "markdown",
   "id": "670821db",
   "metadata": {},
   "source": [
    "The AUC prediction score for the test set is 0.933."
   ]
  },
  {
   "cell_type": "markdown",
   "id": "54cc1f88",
   "metadata": {},
   "source": [
    "LightGBM"
   ]
  },
  {
   "cell_type": "code",
   "execution_count": 49,
   "id": "f128ae8d",
   "metadata": {},
   "outputs": [],
   "source": [
    "params = {\n",
    "          'boosting_type': 'gbdt',\n",
    "          'objective': 'binary',\n",
    "          'metric':'auc',\n",
    "          'learning_rate': 0.05,\n",
    "          'num_leaves': 7,  # Recommended to set small\n",
    "          'max_depth': 4,  # -1 means no limit\n",
    "          'min_child_samples': 100,  # Minimum number of data need in a child(min_data_in_leaf)\n",
    "          'max_bin': 100,  # Number of bucketed bin for feature values\n",
    "          'subsample': 0.9,  # Subsample ratio of the training instance.\n",
    "          'subsample_freq': 1,  # frequence of subsample, <=0 means no enable\n",
    "          'colsample_bytree': 0.7,  # Subsample ratio of columns when constructing each tree.\n",
    "          'min_child_weight': 0,  # Minimum sum of instance weight(hessian) needed in a child(leaf)\n",
    "          'min_split_gain': 0,  # lambda_l1, lambda_l2 and min_gain_to_split to regularization\n",
    "          'nthread': 8,\n",
    "          'verbose': 0,\n",
    "          'scale_pos_weight':150, # recommended because training data is extremely unbalanced \n",
    "         }"
   ]
  },
  {
   "cell_type": "code",
   "execution_count": 50,
   "id": "f1232b55",
   "metadata": {},
   "outputs": [],
   "source": [
    "# Prepare the model creating dataset data structures from train and validation set\n",
    "dtrain = lgb.Dataset(train_df[predictors].values, \n",
    "                     label=train_df[target].values,\n",
    "                     feature_name=predictors)\n",
    "\n",
    "dvalid = lgb.Dataset(valid_df[predictors].values,\n",
    "                     label=valid_df[target].values,\n",
    "                     feature_name=predictors)"
   ]
  },
  {
   "cell_type": "code",
   "execution_count": 51,
   "id": "8ff60efd",
   "metadata": {},
   "outputs": [
    {
     "name": "stderr",
     "output_type": "stream",
     "text": [
      "/Users/janisnavarro/opt/anaconda3/lib/python3.9/site-packages/lightgbm/engine.py:181: UserWarning:\n",
      "\n",
      "'early_stopping_rounds' argument is deprecated and will be removed in a future release of LightGBM. Pass 'early_stopping()' callback via 'callbacks' argument instead.\n",
      "\n",
      "/Users/janisnavarro/opt/anaconda3/lib/python3.9/site-packages/lightgbm/engine.py:239: UserWarning:\n",
      "\n",
      "'verbose_eval' argument is deprecated and will be removed in a future release of LightGBM. Pass 'log_evaluation()' callback via 'callbacks' argument instead.\n",
      "\n",
      "/Users/janisnavarro/opt/anaconda3/lib/python3.9/site-packages/lightgbm/engine.py:260: UserWarning:\n",
      "\n",
      "'evals_result' argument is deprecated and will be removed in a future release of LightGBM. Pass 'record_evaluation()' callback via 'callbacks' argument instead.\n",
      "\n"
     ]
    },
    {
     "name": "stdout",
     "output_type": "stream",
     "text": [
      "[LightGBM] [Warning] Auto-choosing col-wise multi-threading, the overhead of testing was 0.026371 seconds.\n",
      "You can set `force_col_wise=true` to remove the overhead.\n",
      "Training until validation scores don't improve for 100 rounds\n",
      "[50]\ttrain's auc: 0.987274\tvalid's auc: 0.894282\n",
      "[100]\ttrain's auc: 0.987737\tvalid's auc: 0.85291\n",
      "Early stopping, best iteration is:\n",
      "[1]\ttrain's auc: 0.948018\tvalid's auc: 0.928341\n"
     ]
    }
   ],
   "source": [
    "# Using train \n",
    "evals_results = {}\n",
    "\n",
    "model = lgb.train(params, \n",
    "                  dtrain, \n",
    "                  valid_sets=[dtrain, dvalid], \n",
    "                  valid_names=['train','valid'], \n",
    "                  evals_result=evals_results, \n",
    "                  num_boost_round=MAX_ROUNDS,\n",
    "                  early_stopping_rounds=2*EARLY_STOP,\n",
    "                  verbose_eval=VERBOSE_EVAL, \n",
    "                  feval=None)"
   ]
  },
  {
   "cell_type": "code",
   "execution_count": 52,
   "id": "401dcfd1",
   "metadata": {},
   "outputs": [
    {
     "data": {
      "image/png": "[encoded data removed]",
      "text/plain": [
       "<Figure size 576x360 with 1 Axes>"
      ]
     },
     "metadata": {
      "needs_background": "light"
     },
     "output_type": "display_data"
    }
   ],
   "source": [
    "# Features Importance\n",
    "fig, (ax) = plt.subplots(ncols=1, figsize=(8,5))\n",
    "lgb.plot_importance(model, height=0.8, title=\"Features importance LightGBM\", ax=ax,color=\"blue\") \n",
    "plt.show()"
   ]
  },
  {
   "cell_type": "code",
   "execution_count": 53,
   "id": "4e218b35",
   "metadata": {},
   "outputs": [],
   "source": [
    "# Predict test data\n",
    "preds = model.predict(test_df[predictors])"
   ]
  },
  {
   "cell_type": "code",
   "execution_count": 54,
   "id": "9de2a1ef",
   "metadata": {},
   "outputs": [
    {
     "data": {
      "text/plain": [
       "0.9319442271140308"
      ]
     },
     "execution_count": 54,
     "metadata": {},
     "output_type": "execute_result"
    }
   ],
   "source": [
    "#ROC-AUC\n",
    "roc_auc_score(test_df[target].values, preds)"
   ]
  },
  {
   "cell_type": "markdown",
   "id": "c0f9b119",
   "metadata": {},
   "source": [
    "The ROC-AUC score obtained for the test set is 0.932."
   ]
  },
  {
   "cell_type": "markdown",
   "id": "e2d6677a",
   "metadata": {},
   "source": [
    "Cross-Validation"
   ]
  },
  {
   "cell_type": "markdown",
   "id": "1d5ec892",
   "metadata": {},
   "source": [
    "Using cross-validation:\n",
    "KFolds with 5 folds. \n",
    "\n",
    "Data is divided in 5 folds and training using 4 folds (n-1) and validateing using the 5th (nth) fold.\n",
    "\n",
    "Test set is calculated as an average of the predictions."
   ]
  },
  {
   "cell_type": "code",
   "execution_count": 55,
   "id": "767e68fe",
   "metadata": {},
   "outputs": [
    {
     "name": "stderr",
     "output_type": "stream",
     "text": [
      "/Users/janisnavarro/opt/anaconda3/lib/python3.9/site-packages/lightgbm/sklearn.py:598: UserWarning:\n",
      "\n",
      "'silent' argument is deprecated and will be removed in a future release of LightGBM. Pass 'verbose' parameter via keyword arguments instead.\n",
      "\n",
      "/Users/janisnavarro/opt/anaconda3/lib/python3.9/site-packages/lightgbm/sklearn.py:726: UserWarning:\n",
      "\n",
      "'early_stopping_rounds' argument is deprecated and will be removed in a future release of LightGBM. Pass 'early_stopping()' callback via 'callbacks' argument instead.\n",
      "\n",
      "/Users/janisnavarro/opt/anaconda3/lib/python3.9/site-packages/lightgbm/sklearn.py:736: UserWarning:\n",
      "\n",
      "'verbose' argument is deprecated and will be removed in a future release of LightGBM. Pass 'log_evaluation()' callback via 'callbacks' argument instead.\n",
      "\n"
     ]
    },
    {
     "name": "stdout",
     "output_type": "stream",
     "text": [
      "[LightGBM] [Warning] num_threads is set with nthread=-1, will be overridden by n_jobs=-1. Current value: num_threads=-1\n",
      "[50]\ttraining's auc: 0.976594\tvalid_1's auc: 0.968832\n",
      "[100]\ttraining's auc: 0.976563\tvalid_1's auc: 0.964454\n",
      "Fold  1 AUC : 0.969086\n"
     ]
    },
    {
     "name": "stderr",
     "output_type": "stream",
     "text": [
      "/Users/janisnavarro/opt/anaconda3/lib/python3.9/site-packages/lightgbm/sklearn.py:598: UserWarning:\n",
      "\n",
      "'silent' argument is deprecated and will be removed in a future release of LightGBM. Pass 'verbose' parameter via keyword arguments instead.\n",
      "\n",
      "/Users/janisnavarro/opt/anaconda3/lib/python3.9/site-packages/lightgbm/sklearn.py:726: UserWarning:\n",
      "\n",
      "'early_stopping_rounds' argument is deprecated and will be removed in a future release of LightGBM. Pass 'early_stopping()' callback via 'callbacks' argument instead.\n",
      "\n",
      "/Users/janisnavarro/opt/anaconda3/lib/python3.9/site-packages/lightgbm/sklearn.py:736: UserWarning:\n",
      "\n",
      "'verbose' argument is deprecated and will be removed in a future release of LightGBM. Pass 'log_evaluation()' callback via 'callbacks' argument instead.\n",
      "\n"
     ]
    },
    {
     "name": "stdout",
     "output_type": "stream",
     "text": [
      "[LightGBM] [Warning] num_threads is set with nthread=-1, will be overridden by n_jobs=-1. Current value: num_threads=-1\n",
      "[50]\ttraining's auc: 0.976122\tvalid_1's auc: 0.978272\n",
      "Fold  2 AUC : 0.981821\n"
     ]
    },
    {
     "name": "stderr",
     "output_type": "stream",
     "text": [
      "/Users/janisnavarro/opt/anaconda3/lib/python3.9/site-packages/lightgbm/sklearn.py:598: UserWarning:\n",
      "\n",
      "'silent' argument is deprecated and will be removed in a future release of LightGBM. Pass 'verbose' parameter via keyword arguments instead.\n",
      "\n",
      "/Users/janisnavarro/opt/anaconda3/lib/python3.9/site-packages/lightgbm/sklearn.py:726: UserWarning:\n",
      "\n",
      "'early_stopping_rounds' argument is deprecated and will be removed in a future release of LightGBM. Pass 'early_stopping()' callback via 'callbacks' argument instead.\n",
      "\n",
      "/Users/janisnavarro/opt/anaconda3/lib/python3.9/site-packages/lightgbm/sklearn.py:736: UserWarning:\n",
      "\n",
      "'verbose' argument is deprecated and will be removed in a future release of LightGBM. Pass 'log_evaluation()' callback via 'callbacks' argument instead.\n",
      "\n"
     ]
    },
    {
     "name": "stdout",
     "output_type": "stream",
     "text": [
      "[LightGBM] [Warning] num_threads is set with nthread=-1, will be overridden by n_jobs=-1. Current value: num_threads=-1\n",
      "[50]\ttraining's auc: 0.977417\tvalid_1's auc: 0.959095\n",
      "[100]\ttraining's auc: 0.980096\tvalid_1's auc: 0.964505\n",
      "[150]\ttraining's auc: 0.980945\tvalid_1's auc: 0.96327\n",
      "Fold  3 AUC : 0.965175\n"
     ]
    },
    {
     "name": "stderr",
     "output_type": "stream",
     "text": [
      "/Users/janisnavarro/opt/anaconda3/lib/python3.9/site-packages/lightgbm/sklearn.py:598: UserWarning:\n",
      "\n",
      "'silent' argument is deprecated and will be removed in a future release of LightGBM. Pass 'verbose' parameter via keyword arguments instead.\n",
      "\n",
      "/Users/janisnavarro/opt/anaconda3/lib/python3.9/site-packages/lightgbm/sklearn.py:726: UserWarning:\n",
      "\n",
      "'early_stopping_rounds' argument is deprecated and will be removed in a future release of LightGBM. Pass 'early_stopping()' callback via 'callbacks' argument instead.\n",
      "\n",
      "/Users/janisnavarro/opt/anaconda3/lib/python3.9/site-packages/lightgbm/sklearn.py:736: UserWarning:\n",
      "\n",
      "'verbose' argument is deprecated and will be removed in a future release of LightGBM. Pass 'log_evaluation()' callback via 'callbacks' argument instead.\n",
      "\n"
     ]
    },
    {
     "name": "stdout",
     "output_type": "stream",
     "text": [
      "[LightGBM] [Warning] num_threads is set with nthread=-1, will be overridden by n_jobs=-1. Current value: num_threads=-1\n",
      "[50]\ttraining's auc: 0.97047\tvalid_1's auc: 0.967831\n",
      "[100]\ttraining's auc: 0.974151\tvalid_1's auc: 0.973079\n",
      "[150]\ttraining's auc: 0.975965\tvalid_1's auc: 0.976234\n",
      "[200]\ttraining's auc: 0.977225\tvalid_1's auc: 0.977076\n",
      "[250]\ttraining's auc: 0.978602\tvalid_1's auc: 0.97777\n",
      "[300]\ttraining's auc: 0.979689\tvalid_1's auc: 0.97784\n",
      "[350]\ttraining's auc: 0.980191\tvalid_1's auc: 0.977701\n",
      "Fold  4 AUC : 0.978066\n"
     ]
    },
    {
     "name": "stderr",
     "output_type": "stream",
     "text": [
      "/Users/janisnavarro/opt/anaconda3/lib/python3.9/site-packages/lightgbm/sklearn.py:598: UserWarning:\n",
      "\n",
      "'silent' argument is deprecated and will be removed in a future release of LightGBM. Pass 'verbose' parameter via keyword arguments instead.\n",
      "\n",
      "/Users/janisnavarro/opt/anaconda3/lib/python3.9/site-packages/lightgbm/sklearn.py:726: UserWarning:\n",
      "\n",
      "'early_stopping_rounds' argument is deprecated and will be removed in a future release of LightGBM. Pass 'early_stopping()' callback via 'callbacks' argument instead.\n",
      "\n",
      "/Users/janisnavarro/opt/anaconda3/lib/python3.9/site-packages/lightgbm/sklearn.py:736: UserWarning:\n",
      "\n",
      "'verbose' argument is deprecated and will be removed in a future release of LightGBM. Pass 'log_evaluation()' callback via 'callbacks' argument instead.\n",
      "\n"
     ]
    },
    {
     "name": "stdout",
     "output_type": "stream",
     "text": [
      "[LightGBM] [Warning] num_threads is set with nthread=-1, will be overridden by n_jobs=-1. Current value: num_threads=-1\n",
      "[50]\ttraining's auc: 0.973529\tvalid_1's auc: 0.983562\n",
      "[100]\ttraining's auc: 0.974274\tvalid_1's auc: 0.982473\n",
      "Fold  5 AUC : 0.984665\n",
      "Full AUC score 0.953624\n"
     ]
    }
   ],
   "source": [
    "kf = KFold(n_splits = NUMBER_KFOLDS, random_state = RANDOM_STATE, shuffle = True)\n",
    "\n",
    "# Create arrays and dataframes to store results\n",
    "oof_preds = np.zeros(train_df.shape[0])\n",
    "test_preds = np.zeros(test_df.shape[0])\n",
    "feature_importance_df = pd.DataFrame()\n",
    "n_fold = 0\n",
    "for train_idx, valid_idx in kf.split(train_df):\n",
    "    train_x, train_y = train_df[predictors].iloc[train_idx],train_df[target].iloc[train_idx]\n",
    "    valid_x, valid_y = train_df[predictors].iloc[valid_idx],train_df[target].iloc[valid_idx]\n",
    "    \n",
    "    evals_results = {}\n",
    "    model =  LGBMClassifier(\n",
    "                  nthread=-1,\n",
    "                  n_estimators=2000,\n",
    "                  learning_rate=0.01,\n",
    "                  num_leaves=80,\n",
    "                  colsample_bytree=0.98,\n",
    "                  subsample=0.78,\n",
    "                  reg_alpha=0.04,\n",
    "                  reg_lambda=0.073,\n",
    "                  subsample_for_bin=50,\n",
    "                  boosting_type='gbdt',\n",
    "                  is_unbalance=False,\n",
    "                  min_split_gain=0.025,\n",
    "                  min_child_weight=40,\n",
    "                  min_child_samples=510,\n",
    "                  objective='binary',\n",
    "                  metric='auc',\n",
    "                  silent=-1,\n",
    "                  verbose=-1,\n",
    "                  feval=None)\n",
    "    model.fit(train_x, train_y, eval_set=[(train_x, train_y), (valid_x, valid_y)], \n",
    "                eval_metric= 'auc', verbose= VERBOSE_EVAL, early_stopping_rounds= EARLY_STOP)\n",
    "    \n",
    "    oof_preds[valid_idx] = model.predict_proba(valid_x, num_iteration=model.best_iteration_)[:, 1]\n",
    "    test_preds += model.predict_proba(test_df[predictors], num_iteration=model.best_iteration_)[:, 1] / kf.n_splits\n",
    "    \n",
    "    fold_importance_df = pd.DataFrame()\n",
    "    fold_importance_df[\"feature\"] = predictors\n",
    "    fold_importance_df[\"importance\"] = clf.feature_importances_\n",
    "    fold_importance_df[\"fold\"] = n_fold + 1\n",
    "    \n",
    "    feature_importance_df = pd.concat([feature_importance_df, fold_importance_df], axis=0)\n",
    "    print('Fold %2d AUC : %.6f' % (n_fold + 1, roc_auc_score(valid_y, oof_preds[valid_idx])))\n",
    "    del model, train_x, train_y, valid_x, valid_y\n",
    "    gc.collect()\n",
    "    n_fold = n_fold + 1\n",
    "train_auc_score = roc_auc_score(train_df[target], oof_preds)\n",
    "print('Full AUC score %.6f' % train_auc_score)  "
   ]
  },
  {
   "cell_type": "code",
   "execution_count": 56,
   "id": "cc292010",
   "metadata": {},
   "outputs": [],
   "source": [
    "# Test prediction from the average predictions for test over 5 folds\n",
    "pred = test_preds"
   ]
  },
  {
   "cell_type": "markdown",
   "id": "d4a98807",
   "metadata": {},
   "source": [
    "# CONCLUSION"
   ]
  },
  {
   "cell_type": "markdown",
   "id": "28c18ed5",
   "metadata": {},
   "source": [
    "    I reviewed the data and processed for summary statistics, null values, found dataset to be unbalanced as the Not fraud transactions outnumbered the Fraudulent by a large margin.\n",
    "\n",
    "    I visualized the features to understand the relationship amongst the available features.\n",
    "\n",
    "    I processed two predictive models.\n",
    "\n",
    "    I split the data as train, test and validation. For some models I only used train and test.\n",
    "\n",
    "    Models when predicting the target for the test set:\n",
    "    RandomForrestClassifier- received an AUC score of 0.88 \n",
    "\n",
    "    AdaBoostClassifier- received an AUC score of 0.85. Lower than RandomForrestClassifier.\n",
    "\n",
    "    Trained 500 iterations with CatBoostClassifier- received an AUC score of 0.89. The highest score.\n",
    "\n",
    "    I then experimented with XGBoost.\n",
    "        Used the validation set for validation of the training model. \n",
    "        The best validation score obtained was 0.923. \n",
    "        Then I used the model with the best training step, to predict target value from the test data; the AUC score obtained was 0.933.\n",
    "\n",
    "    I lastly presented the data to a LightGBM model.\n",
    "        Using both train-validation split and cross-validation to evaluate the model effectiveness to predict 'Class' value for detecting if a transaction is fraudulent.\n",
    "        The first method obtained an AUC for the validation set of around 0.93\n",
    "        For the test set AUC of 0.93\n",
    "        With the cross-validation the AUC score for the test prediction of 0.95.\n"
   ]
  },
  {
   "cell_type": "markdown",
   "id": "985f05a9",
   "metadata": {},
   "source": [
    "References\n",
    "\n",
    "Kaggle Dataset:\n",
    "https://www.kaggle.com/datasets/mlg-ulb/creditcardfraud\n",
    "\n",
    "Washington Post Article:\n",
    "https://www.washingtonpost.com/news/morning-mix/wp/2014/08/14/united-states-is-the-champion-of-credit-card-fraud-but-europe-is-catching-up/\n",
    "\n",
    "RandomForestClassifier:\n",
    "https://scikit-learn.org/stable/modules/generated/sklearn.ensemble.RandomForestClassifier.html\n",
    "\n",
    "CatBoost:\n",
    "https://catboost.ai/en/docs/concepts/python-reference_catboostclassifier\n",
    "https://stackoverflow.com/questions/55440566/print-catboost-hyperparameters\n",
    "\n",
    "Understanding Adaboost and Scikit-learn’s algorithm Article:\n",
    "https://medium.datadriveninvestor.com/understanding-adaboost-and-scikit-learns-algorithm-c8d8af5ace10\n",
    "\n",
    "LightGMB:\n",
    "https://github.com/microsoft/LightGBM/commit/5631366175f68a28bd174982cca16975f7fb48af\n",
    "https://www.microsoft.com/en-us/research/wp-content/uploads/2017/11/lightgbm.pdf"
   ]
  }
 ],
 "metadata": {
  "kernelspec": {
   "display_name": "Python 3 (ipykernel)",
   "language": "python",
   "name": "python3"
  },
  "language_info": {
   "codemirror_mode": {
    "name": "ipython",
    "version": 3
   },
   "file_extension": ".py",
   "mimetype": "text/x-python",
   "name": "python",
   "nbconvert_exporter": "python",
   "pygments_lexer": "ipython3",
   "version": "3.9.7"
  }
 },
 "nbformat": 4,
 "nbformat_minor": 5
}
